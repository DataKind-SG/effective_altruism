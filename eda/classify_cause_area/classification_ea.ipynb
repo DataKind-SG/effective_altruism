{
 "cells": [
  {
   "cell_type": "markdown",
   "metadata": {},
   "source": [
    "# EA x DKSG\n",
    "**classification: ea**\n",
    "\n",
    "classify cause area keywords -> cause areas\n",
    "- expert knowledge & elbow grease from EA team\n",
    "\n",
    "## methodology\n",
    "- clean up cause keywords\n",
    "    - drop stopwords\n",
    "    - drop punctuations\n",
    "- create count vectors for each cause area keyword set\n",
    "- use count vectors as feature for classification with\n",
    "    - decision tree\n",
    "    \n",
    "## hypothesis\n",
    "given a cause area's list of keywords, i should be able to distinguish each cause area uniquely.\n",
    "\n",
    "## goal\n",
    "1. create a model that can distinguish each cause area based on cause area keywords\n",
    "2. capture related concepts based on existing keywords in each cause area\n",
    "3. do 1 and 2 with as simple a model as possible (for interpretability)"
   ]
  },
  {
   "cell_type": "code",
   "execution_count": 1,
   "metadata": {},
   "outputs": [],
   "source": [
    "## setup\n",
    "%run env_setup.py\n",
    "%run filepaths.py\n",
    "%run helpers.py"
   ]
  },
  {
   "cell_type": "markdown",
   "metadata": {},
   "source": [
    "## clean up cause area keywords"
   ]
  },
  {
   "cell_type": "code",
   "execution_count": 2,
   "metadata": {},
   "outputs": [],
   "source": [
    "## ml setup\n",
    "import sklearn\n",
    "import numpy as np\n",
    "from sklearn.feature_extraction.text import CountVectorizer\n",
    "from sklearn.preprocessing import LabelBinarizer\n",
    "from sklearn import tree\n",
    "from sklearn import ensemble\n",
    "from sklearn.metrics import accuracy_score"
   ]
  },
  {
   "cell_type": "code",
   "execution_count": 3,
   "metadata": {},
   "outputs": [],
   "source": [
    "ea_df = read_from_csv(EA_CSV)"
   ]
  },
  {
   "cell_type": "code",
   "execution_count": 4,
   "metadata": {},
   "outputs": [],
   "source": [
    "ea_df['keywords_clean_words'] = get_cleaned_descriptions(list(ea_df[KEYWORDS_COLUMN]), True, True, False)\n",
    "ea_df['keywords_clean'] = get_sentence_from_list(list(ea_df['keywords_clean_words']))"
   ]
  },
  {
   "cell_type": "code",
   "execution_count": 5,
   "metadata": {},
   "outputs": [
    {
     "data": {
      "text/html": [
       "<div>\n",
       "<style>\n",
       "    .dataframe thead tr:only-child th {\n",
       "        text-align: right;\n",
       "    }\n",
       "\n",
       "    .dataframe thead th {\n",
       "        text-align: left;\n",
       "    }\n",
       "\n",
       "    .dataframe tbody tr th {\n",
       "        vertical-align: top;\n",
       "    }\n",
       "</style>\n",
       "<table border=\"1\" class=\"dataframe\">\n",
       "  <thead>\n",
       "    <tr style=\"text-align: right;\">\n",
       "      <th></th>\n",
       "      <th>Causes/ Columns</th>\n",
       "      <th>Keywords_Set 1</th>\n",
       "      <th>Keywords_Set 2</th>\n",
       "      <th>Yad's comments</th>\n",
       "      <th>keywords_clean_words</th>\n",
       "      <th>keywords_clean</th>\n",
       "    </tr>\n",
       "  </thead>\n",
       "  <tbody>\n",
       "    <tr>\n",
       "      <th>0</th>\n",
       "      <td>Health infectious diseases</td>\n",
       "      <td>HIV, AIDs, Tuberculosis, Clinic, Hepatitis, De...</td>\n",
       "      <td>HIV, AIDs, Tuberculosis, Hepatitis, Dengue, Ma...</td>\n",
       "      <td>NaN</td>\n",
       "      <td>[hiv, aids, tuberculosis, clinic, hepatitis, d...</td>\n",
       "      <td>hiv aids tuberculosis clinic hepatitis dengue ...</td>\n",
       "    </tr>\n",
       "    <tr>\n",
       "      <th>1</th>\n",
       "      <td>Neglected tropical diseases (NTDs)</td>\n",
       "      <td>Deworming, parasitic worms, neglected tropical...</td>\n",
       "      <td>Deworming, parasitic worms, neglected tropical...</td>\n",
       "      <td>NaN</td>\n",
       "      <td>[deworming, parasitic, worms, neglected, tropi...</td>\n",
       "      <td>deworming parasitic worms neglected tropical d...</td>\n",
       "    </tr>\n",
       "    <tr>\n",
       "      <th>2</th>\n",
       "      <td>Social Enterprise</td>\n",
       "      <td>Social Entrepreneur, business, Entrepreneurshi...</td>\n",
       "      <td>Social Entrepreneur, Entrepreneurship</td>\n",
       "      <td>NaN</td>\n",
       "      <td>[social, entrepreneur, business, entrepreneurs...</td>\n",
       "      <td>social entrepreneur business entrepreneurship ...</td>\n",
       "    </tr>\n",
       "    <tr>\n",
       "      <th>3</th>\n",
       "      <td>Environment</td>\n",
       "      <td>Recycle, Water, plastic, nature, fishery, farm...</td>\n",
       "      <td>Recycle, plastic, pollution, natural resources...</td>\n",
       "      <td>NaN</td>\n",
       "      <td>[recycle, water, plastic, nature, fishery, far...</td>\n",
       "      <td>recycle water plastic nature fishery farming p...</td>\n",
       "    </tr>\n",
       "    <tr>\n",
       "      <th>4</th>\n",
       "      <td>Disaster relief</td>\n",
       "      <td>Flood, natural disaster, cyclones, earthquakes...</td>\n",
       "      <td>Flood, natural disaster, cyclones, earthquakes...</td>\n",
       "      <td>NaN</td>\n",
       "      <td>[flood, natural, disaster, cyclones, earthquak...</td>\n",
       "      <td>flood natural disaster cyclones earthquakes re...</td>\n",
       "    </tr>\n",
       "  </tbody>\n",
       "</table>\n",
       "</div>"
      ],
      "text/plain": [
       "                      Causes/ Columns  \\\n",
       "0          Health infectious diseases   \n",
       "1  Neglected tropical diseases (NTDs)   \n",
       "2                   Social Enterprise   \n",
       "3                         Environment   \n",
       "4                     Disaster relief   \n",
       "\n",
       "                                      Keywords_Set 1  \\\n",
       "0  HIV, AIDs, Tuberculosis, Clinic, Hepatitis, De...   \n",
       "1  Deworming, parasitic worms, neglected tropical...   \n",
       "2  Social Entrepreneur, business, Entrepreneurshi...   \n",
       "3  Recycle, Water, plastic, nature, fishery, farm...   \n",
       "4  Flood, natural disaster, cyclones, earthquakes...   \n",
       "\n",
       "                                      Keywords_Set 2 Yad's comments  \\\n",
       "0  HIV, AIDs, Tuberculosis, Hepatitis, Dengue, Ma...            NaN   \n",
       "1  Deworming, parasitic worms, neglected tropical...            NaN   \n",
       "2              Social Entrepreneur, Entrepreneurship            NaN   \n",
       "3  Recycle, plastic, pollution, natural resources...            NaN   \n",
       "4  Flood, natural disaster, cyclones, earthquakes...            NaN   \n",
       "\n",
       "                                keywords_clean_words  \\\n",
       "0  [hiv, aids, tuberculosis, clinic, hepatitis, d...   \n",
       "1  [deworming, parasitic, worms, neglected, tropi...   \n",
       "2  [social, entrepreneur, business, entrepreneurs...   \n",
       "3  [recycle, water, plastic, nature, fishery, far...   \n",
       "4  [flood, natural, disaster, cyclones, earthquak...   \n",
       "\n",
       "                                      keywords_clean  \n",
       "0  hiv aids tuberculosis clinic hepatitis dengue ...  \n",
       "1  deworming parasitic worms neglected tropical d...  \n",
       "2  social entrepreneur business entrepreneurship ...  \n",
       "3  recycle water plastic nature fishery farming p...  \n",
       "4  flood natural disaster cyclones earthquakes re...  "
      ]
     },
     "execution_count": 5,
     "metadata": {},
     "output_type": "execute_result"
    }
   ],
   "source": [
    "ea_df.head()"
   ]
  },
  {
   "cell_type": "markdown",
   "metadata": {},
   "source": [
    "Q: all cause areas"
   ]
  },
  {
   "cell_type": "code",
   "execution_count": 6,
   "metadata": {},
   "outputs": [
    {
     "data": {
      "text/plain": [
       "0                  Health infectious diseases\n",
       "1          Neglected tropical diseases (NTDs)\n",
       "2                           Social Enterprise\n",
       "3                                 Environment\n",
       "4                             Disaster relief\n",
       "5                         Housing and shelter\n",
       "6                                       Clubs\n",
       "7                               Special needs\n",
       "8                     Health non communicable\n",
       "9                             Family planning\n",
       "10               Neonatal and maternal health\n",
       "11                      Physical disabilities\n",
       "12                                  Education\n",
       "13                   Research and development\n",
       "14                 Information and technology\n",
       "15                    Energy & infrastructure\n",
       "16                          Visual impairment\n",
       "17                                    Elderly\n",
       "18                                  Religious\n",
       "19            Early childhood and development\n",
       "20                          Children & Youths\n",
       "21                             Animal Welfare\n",
       "22                            Migrant welfare\n",
       "23                            Minority groups\n",
       "24        Water and sanitation hygiene (WASH)\n",
       "25       Poverty / social welfare / community\n",
       "26               Human Rights / Civil society\n",
       "27                      Political / Movements\n",
       "28                                      LGBTQ\n",
       "29                               Malnutrition\n",
       "30                               Ex-Offenders\n",
       "31                    Gender / women's rights\n",
       "32              Health - Surgery & healthcare\n",
       "33       Health - Chronic and palliative care\n",
       "34                             Mental health \n",
       "35                                     Sports\n",
       "36                             Arts & culture\n",
       "37                 Livelihood (rural / urban)\n",
       "38    Microfinance / credit / cash transfers \n",
       "39                             Peace-building\n",
       "Name: Causes/ Columns, dtype: object"
      ]
     },
     "execution_count": 6,
     "metadata": {},
     "output_type": "execute_result"
    }
   ],
   "source": [
    "ea_df['Causes/ Columns']"
   ]
  },
  {
   "cell_type": "markdown",
   "metadata": {},
   "source": [
    "## create features: count vectors for each cause area"
   ]
  },
  {
   "cell_type": "code",
   "execution_count": 7,
   "metadata": {},
   "outputs": [],
   "source": [
    "count_vectorizer = CountVectorizer(binary=False)\n",
    "\n",
    "data_feat = count_vectorizer.fit_transform(ea_df['keywords_clean'])"
   ]
  },
  {
   "cell_type": "markdown",
   "metadata": {},
   "source": [
    "## create labels: cause areas"
   ]
  },
  {
   "cell_type": "code",
   "execution_count": 8,
   "metadata": {},
   "outputs": [],
   "source": [
    "lb = LabelBinarizer()\n",
    "data_label = list(ea_df['Causes/ Columns']) \n",
    "data_label_transform = lb.fit_transform(data_label)"
   ]
  },
  {
   "cell_type": "markdown",
   "metadata": {},
   "source": [
    "## classify and predict (basic)\n",
    "- since classifier's performance varies by random state, iterate multiple times to see average model performance"
   ]
  },
  {
   "cell_type": "code",
   "execution_count": 9,
   "metadata": {},
   "outputs": [],
   "source": [
    "def do_classify_dt(random_state=None):\n",
    "    base_clf = tree.DecisionTreeClassifier(random_state=random_state)\n",
    "    base_clf.fit(data_feat, data_label_transform)\n",
    "    \n",
    "    train_predict_feat = base_clf.predict(data_feat)\n",
    "    train_predict = lb.inverse_transform(train_predict_feat)\n",
    "    \n",
    "    acc = accuracy_score(data_label, train_predict)\n",
    "    \n",
    "    return (base_clf, acc)"
   ]
  },
  {
   "cell_type": "code",
   "execution_count": 10,
   "metadata": {},
   "outputs": [
    {
     "name": "stdout",
     "output_type": "stream",
     "text": [
      "base classifier mean accuracy: 1.000000\n"
     ]
    }
   ],
   "source": [
    "base_clf_random_state = range(50)\n",
    "base_clf_experiments = [do_classify_dt(i) for i in base_clf_random_state]\n",
    "\n",
    "base_clf_avg_acc = np.average([acc for (clf,acc) in base_clf_experiments])\n",
    "print('base classifier mean accuracy: %f' % base_clf_avg_acc)"
   ]
  }
 ],
 "metadata": {
  "kernelspec": {
   "display_name": "Python 3",
   "language": "python",
   "name": "python3"
  },
  "language_info": {
   "codemirror_mode": {
    "name": "ipython",
    "version": 3
   },
   "file_extension": ".py",
   "mimetype": "text/x-python",
   "name": "python",
   "nbconvert_exporter": "python",
   "pygments_lexer": "ipython3",
   "version": "3.6.3"
  }
 },
 "nbformat": 4,
 "nbformat_minor": 2
}
