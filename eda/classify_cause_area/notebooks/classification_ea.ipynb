{
 "cells": [
  {
   "cell_type": "markdown",
   "metadata": {},
   "source": [
    "# EA x DKSG\n",
    "**classification: ea**\n",
    "\n",
    "classify cause area keywords -> cause areas\n",
    "- expert knowledge & elbow grease from EA team\n",
    "\n",
    "## (tldr);\n",
    "- decided against the approach of the generating random features and modelling the features as a multiclass problem\n",
    "    - random features are likely not to have the same distribution of words as observed in web scraped descriptions\n",
    "    - search space is too large (too many permutations of possible features)\n",
    "    - multilabel occurences are rare; most organizations only have 1-3 cause areas\n",
    "    - since multilabel occurences are rare, multilabel approach may not work so well given that multilabel observations are sparse\n",
    "\n",
    "## methodology\n",
    "- clean up cause keywords\n",
    "    - drop stopwords\n",
    "    - drop punctuations\n",
    "- create count vectors for each cause area keyword set\n",
    "- use count vectors as feature for classification with\n",
    "    - decision tree\n",
    "    \n",
    "## hypothesis\n",
    "given a cause area's list of keywords, i should be able to distinguish each cause area uniquely.\n",
    "\n",
    "## goal\n",
    "1. create a model that can distinguish each cause area based on cause area keywords\n",
    "2. capture related concepts based on existing keywords in each cause area\n",
    "3. do 1 and 2 with as simple a model as possible (for interpretability)"
   ]
  },
  {
   "cell_type": "markdown",
   "metadata": {},
   "source": [
    "## setup"
   ]
  },
  {
   "cell_type": "code",
   "execution_count": 5,
   "metadata": {},
   "outputs": [],
   "source": [
    "## setup\n",
    "%run setup/env_setup.py\n",
    "%run ../common/filepaths.py\n",
    "%run ../common/helpers.py"
   ]
  },
  {
   "cell_type": "markdown",
   "metadata": {},
   "source": [
    "## clean up cause area keywords"
   ]
  },
  {
   "cell_type": "code",
   "execution_count": 6,
   "metadata": {},
   "outputs": [],
   "source": [
    "## ml setup\n",
    "import sklearn\n",
    "import numpy as np\n",
    "from sklearn.feature_extraction.text import CountVectorizer\n",
    "from sklearn.preprocessing import LabelBinarizer\n",
    "from sklearn import tree\n",
    "from sklearn import ensemble\n",
    "from sklearn.metrics import accuracy_score"
   ]
  },
  {
   "cell_type": "code",
   "execution_count": 7,
   "metadata": {},
   "outputs": [],
   "source": [
    "ea_df = read_from_csv(EA_CSV)"
   ]
  },
  {
   "cell_type": "code",
   "execution_count": 8,
   "metadata": {},
   "outputs": [],
   "source": [
    "ea_df['keywords_clean_words'] = get_cleaned_descriptions(list(ea_df[KEYWORDS_COLUMN]), True, True, False, True)\n",
    "ea_df['keywords_clean'] = get_sentence_from_list(list(ea_df['keywords_clean_words']))"
   ]
  },
  {
   "cell_type": "code",
   "execution_count": 9,
   "metadata": {},
   "outputs": [
    {
     "data": {
      "text/html": [
       "<div>\n",
       "<style scoped>\n",
       "    .dataframe tbody tr th:only-of-type {\n",
       "        vertical-align: middle;\n",
       "    }\n",
       "\n",
       "    .dataframe tbody tr th {\n",
       "        vertical-align: top;\n",
       "    }\n",
       "\n",
       "    .dataframe thead th {\n",
       "        text-align: right;\n",
       "    }\n",
       "</style>\n",
       "<table border=\"1\" class=\"dataframe\">\n",
       "  <thead>\n",
       "    <tr style=\"text-align: right;\">\n",
       "      <th></th>\n",
       "      <th>Causes/ Columns</th>\n",
       "      <th>Keywords_Set 1</th>\n",
       "      <th>Keywords_Set 2</th>\n",
       "      <th>Yad's comments</th>\n",
       "      <th>keywords_clean_words</th>\n",
       "      <th>keywords_clean</th>\n",
       "    </tr>\n",
       "  </thead>\n",
       "  <tbody>\n",
       "    <tr>\n",
       "      <th>0</th>\n",
       "      <td>Health infectious diseases</td>\n",
       "      <td>HIV, AIDs, Tuberculosis, Clinic, Hepatitis, De...</td>\n",
       "      <td>HIV, AIDs, Tuberculosis, Hepatitis, Dengue, Ma...</td>\n",
       "      <td>NaN</td>\n",
       "      <td>[immunization, retroviral, chemoprevention, po...</td>\n",
       "      <td>immunization retroviral chemoprevention polio ...</td>\n",
       "    </tr>\n",
       "    <tr>\n",
       "      <th>1</th>\n",
       "      <td>Neglected tropical diseases (NTDs)</td>\n",
       "      <td>Deworming, parasitic worms, neglected tropical...</td>\n",
       "      <td>Deworming, parasitic worms, neglected tropical...</td>\n",
       "      <td>NaN</td>\n",
       "      <td>[onchocerciasis, ntd, parasitic, african, albe...</td>\n",
       "      <td>onchocerciasis ntd parasitic african albendazo...</td>\n",
       "    </tr>\n",
       "    <tr>\n",
       "      <th>2</th>\n",
       "      <td>Social Enterprise</td>\n",
       "      <td>Social Entrepreneur, business, Entrepreneurshi...</td>\n",
       "      <td>Social Entrepreneur, Entrepreneurship</td>\n",
       "      <td>NaN</td>\n",
       "      <td>[entrepreneur, entrepreneurship, pyramid, busi...</td>\n",
       "      <td>entrepreneur entrepreneurship pyramid business...</td>\n",
       "    </tr>\n",
       "    <tr>\n",
       "      <th>3</th>\n",
       "      <td>Environment</td>\n",
       "      <td>Recycle, Water, plastic, nature, fishery, farm...</td>\n",
       "      <td>Recycle, plastic, pollution, natural resources...</td>\n",
       "      <td>NaN</td>\n",
       "      <td>[farming, recycle, global, natural, level, con...</td>\n",
       "      <td>farming recycle global natural level conservat...</td>\n",
       "    </tr>\n",
       "    <tr>\n",
       "      <th>4</th>\n",
       "      <td>Disaster relief</td>\n",
       "      <td>Flood, natural disaster, cyclones, earthquakes...</td>\n",
       "      <td>Flood, natural disaster, cyclones, earthquakes...</td>\n",
       "      <td>NaN</td>\n",
       "      <td>[conflict, reconstruction, famine, disaster, a...</td>\n",
       "      <td>conflict reconstruction famine disaster aid na...</td>\n",
       "    </tr>\n",
       "  </tbody>\n",
       "</table>\n",
       "</div>"
      ],
      "text/plain": [
       "                      Causes/ Columns  \\\n",
       "0          Health infectious diseases   \n",
       "1  Neglected tropical diseases (NTDs)   \n",
       "2                   Social Enterprise   \n",
       "3                         Environment   \n",
       "4                     Disaster relief   \n",
       "\n",
       "                                      Keywords_Set 1  \\\n",
       "0  HIV, AIDs, Tuberculosis, Clinic, Hepatitis, De...   \n",
       "1  Deworming, parasitic worms, neglected tropical...   \n",
       "2  Social Entrepreneur, business, Entrepreneurshi...   \n",
       "3  Recycle, Water, plastic, nature, fishery, farm...   \n",
       "4  Flood, natural disaster, cyclones, earthquakes...   \n",
       "\n",
       "                                      Keywords_Set 2 Yad's comments  \\\n",
       "0  HIV, AIDs, Tuberculosis, Hepatitis, Dengue, Ma...            NaN   \n",
       "1  Deworming, parasitic worms, neglected tropical...            NaN   \n",
       "2              Social Entrepreneur, Entrepreneurship            NaN   \n",
       "3  Recycle, plastic, pollution, natural resources...            NaN   \n",
       "4  Flood, natural disaster, cyclones, earthquakes...            NaN   \n",
       "\n",
       "                                keywords_clean_words  \\\n",
       "0  [immunization, retroviral, chemoprevention, po...   \n",
       "1  [onchocerciasis, ntd, parasitic, african, albe...   \n",
       "2  [entrepreneur, entrepreneurship, pyramid, busi...   \n",
       "3  [farming, recycle, global, natural, level, con...   \n",
       "4  [conflict, reconstruction, famine, disaster, a...   \n",
       "\n",
       "                                      keywords_clean  \n",
       "0  immunization retroviral chemoprevention polio ...  \n",
       "1  onchocerciasis ntd parasitic african albendazo...  \n",
       "2  entrepreneur entrepreneurship pyramid business...  \n",
       "3  farming recycle global natural level conservat...  \n",
       "4  conflict reconstruction famine disaster aid na...  "
      ]
     },
     "execution_count": 9,
     "metadata": {},
     "output_type": "execute_result"
    }
   ],
   "source": [
    "ea_df.head()"
   ]
  },
  {
   "cell_type": "markdown",
   "metadata": {},
   "source": [
    "Q: all cause areas"
   ]
  },
  {
   "cell_type": "code",
   "execution_count": 10,
   "metadata": {},
   "outputs": [
    {
     "data": {
      "text/plain": [
       "0                  Health infectious diseases\n",
       "1          Neglected tropical diseases (NTDs)\n",
       "2                           Social Enterprise\n",
       "3                                 Environment\n",
       "4                             Disaster relief\n",
       "5                         Housing and shelter\n",
       "6                                       Clubs\n",
       "7                               Special needs\n",
       "8                     Health non communicable\n",
       "9                             Family planning\n",
       "10               Neonatal and maternal health\n",
       "11                      Physical disabilities\n",
       "12                                  Education\n",
       "13                   Research and development\n",
       "14                 Information and technology\n",
       "15                    Energy & infrastructure\n",
       "16                          Visual impairment\n",
       "17                                    Elderly\n",
       "18                                  Religious\n",
       "19            Early childhood and development\n",
       "20                          Children & Youths\n",
       "21                             Animal Welfare\n",
       "22                            Migrant welfare\n",
       "23                            Minority groups\n",
       "24        Water and sanitation hygiene (WASH)\n",
       "25       Poverty / social welfare / community\n",
       "26               Human Rights / Civil society\n",
       "27                      Political / Movements\n",
       "28                                      LGBTQ\n",
       "29                               Malnutrition\n",
       "30                               Ex-Offenders\n",
       "31                    Gender / women's rights\n",
       "32              Health - Surgery & healthcare\n",
       "33       Health - Chronic and palliative care\n",
       "34                             Mental health \n",
       "35                                     Sports\n",
       "36                             Arts & culture\n",
       "37                 Livelihood (rural / urban)\n",
       "38    Microfinance / credit / cash transfers \n",
       "39                             Peace-building\n",
       "Name: Causes/ Columns, dtype: object"
      ]
     },
     "execution_count": 10,
     "metadata": {},
     "output_type": "execute_result"
    }
   ],
   "source": [
    "ea_df['Causes/ Columns']"
   ]
  },
  {
   "cell_type": "markdown",
   "metadata": {},
   "source": [
    "## create features\n",
    "#### create cross-cause area keyword groupings\n",
    "create sentences of words which correspond to their cause areas\n",
    "\n",
    "given a set of keywords: \n",
    "\n",
    "1) \"HIV, AIDs, Clinic\" -> Diseases\n",
    "\n",
    "2) \"Recycle, water, plastic\" -> Environment\n",
    "\n",
    "generate the following features for each cause area:\n",
    "\n",
    "1) **standalone features**:\n",
    "eg. ([hiv], [diseases]), ([aids], [diseases]) ...\n",
    "\n",
    "2) **intra-group features**: \n",
    "eg. ([hiv,aids], [diseases]), ([aids,clinic], [diseases])\n",
    "\n",
    "3) **inter-group features**: \n",
    "eg. ([hiv,recycle],[diseases,environment]), ([aids,clinic,water,plastic],[diseases,environment]) \n",
    "\n",
    "by generating such features, we can train the model to perform multiclass-multilabel classification"
   ]
  },
  {
   "cell_type": "markdown",
   "metadata": {},
   "source": [
    "#### standalone features "
   ]
  },
  {
   "cell_type": "code",
   "execution_count": 11,
   "metadata": {},
   "outputs": [],
   "source": [
    "from collections import namedtuple\n",
    "\n",
    "words_causes = namedtuple('words_causes','words causes')\n",
    "features = []"
   ]
  },
  {
   "cell_type": "markdown",
   "metadata": {},
   "source": [
    "(note: work not continued, code is just spike approach to generate extended sample)"
   ]
  },
  {
   "cell_type": "code",
   "execution_count": 12,
   "metadata": {},
   "outputs": [],
   "source": [
    "from itertools import chain, combinations\n",
    "\n",
    "def generate_standalone_features(df):\n",
    "    features = {}\n",
    "    for _, row in df.iterrows():\n",
    "        cause_area = row['Causes/ Columns']\n",
    "        keywords = row['Keywords_Set 1'].strip()\n",
    "        \n",
    "        feature_units = [w.strip() for w in keywords.split(\",\")]\n",
    "        feature_units = [w for w in feature_units if len(w) > 0]\n",
    "        feature_units = [words_causes([w], set([cause_area])) for w in feature_units]\n",
    "        features[cause_area] = feature_units\n",
    "        \n",
    "    return features\n",
    "\n",
    "standalone_features_map = generate_standalone_features(ea_df)\n",
    "standalone_features = list(chain(*standalone_features_map.values()))\n",
    "\n",
    "def generate_extended_features(standalone_features, max_n_choose):\n",
    "    extended_features = []\n",
    "    \n",
    "    standalone_features_list = list(chain(standalone_features))\n",
    "    standalone_features_count = len(standalone_features_list)\n",
    "    \n",
    "    for n_choose in range(2, max_n_choose+1):\n",
    "        extended_features = extended_features + list(combinations(standalone_features_list,n_choose))\n",
    "        \n",
    "    def transform_feature_group(features):\n",
    "        keywords = list(list(chain.from_iterable([w.words for w in features])))\n",
    "        cause_areas = set(chain.from_iterable([w.causes for w in features]))\n",
    "        return words_causes(keywords, cause_areas)\n",
    "        \n",
    "    extended_features = [transform_feature_group(f) for f in extended_features]\n",
    "    return extended_features\n",
    "\n",
    "n_cause_areas = len(ea_df['Causes/ Columns'])\n",
    "n_cause_areas = 2\n",
    "extended_features = generate_extended_features(standalone_features,n_cause_areas)"
   ]
  },
  {
   "cell_type": "code",
   "execution_count": 13,
   "metadata": {},
   "outputs": [
    {
     "name": "stdout",
     "output_type": "stream",
     "text": [
      "number of extended features: 322806\n"
     ]
    }
   ],
   "source": [
    "print(\"number of extended features: %d\" % len(extended_features))"
   ]
  },
  {
   "cell_type": "code",
   "execution_count": 14,
   "metadata": {},
   "outputs": [
    {
     "data": {
      "text/plain": [
       "[words_causes(words=['HIV', 'Tuberculosis'], causes={'Health infectious diseases'}),\n",
       " words_causes(words=['HIV', 'Clinic'], causes={'Health infectious diseases'}),\n",
       " words_causes(words=['HIV', 'Hepatitis'], causes={'Health infectious diseases'}),\n",
       " words_causes(words=['HIV', 'Dengue'], causes={'Health infectious diseases'}),\n",
       " words_causes(words=['HIV', 'Malaria'], causes={'Health infectious diseases'}),\n",
       " words_causes(words=['HIV', 'communicable diseases'], causes={'Health infectious diseases'}),\n",
       " words_causes(words=['HIV', 'leprosy | immunization'], causes={'Health infectious diseases'}),\n",
       " words_causes(words=['HIV', 'anti-retroviral therapy (ART)'], causes={'Health infectious diseases'}),\n",
       " words_causes(words=['HIV', 'insecticide-treated bed net (ITN)'], causes={'Health infectious diseases'})]"
      ]
     },
     "execution_count": 14,
     "metadata": {},
     "output_type": "execute_result"
    }
   ],
   "source": [
    "extended_features[1:10]"
   ]
  },
  {
   "cell_type": "code",
   "execution_count": 15,
   "metadata": {},
   "outputs": [
    {
     "data": {
      "text/plain": [
       "[words_causes(words=['HIV', 'aid'], causes={'Disaster relief', 'Health infectious diseases'}),\n",
       " words_causes(words=['HIV', 'famine'], causes={'Disaster relief', 'Health infectious diseases'}),\n",
       " words_causes(words=['HIV', 'humanitarian'], causes={'Disaster relief', 'Health infectious diseases'}),\n",
       " words_causes(words=['HIV', 'rescue'], causes={'Disaster relief', 'Health infectious diseases'}),\n",
       " words_causes(words=['HIV', 'conflict'], causes={'Disaster relief', 'Health infectious diseases'}),\n",
       " words_causes(words=['HIV', 'war'], causes={'Disaster relief', 'Health infectious diseases'}),\n",
       " words_causes(words=['HIV', 'casualty'], causes={'Disaster relief', 'Health infectious diseases'}),\n",
       " words_causes(words=['HIV', '| mission'], causes={'Disaster relief', 'Health infectious diseases'}),\n",
       " words_causes(words=['HIV', 'reconstruction'], causes={'Disaster relief', 'Health infectious diseases'}),\n",
       " words_causes(words=['HIV', 'conflict'], causes={'Disaster relief', 'Health infectious diseases'})]"
      ]
     },
     "execution_count": 15,
     "metadata": {},
     "output_type": "execute_result"
    }
   ],
   "source": [
    "extended_features[100:110]"
   ]
  },
  {
   "cell_type": "markdown",
   "metadata": {},
   "source": [
    "#### count vectors for each cause area"
   ]
  },
  {
   "cell_type": "code",
   "execution_count": 16,
   "metadata": {},
   "outputs": [],
   "source": [
    "count_vectorizer = CountVectorizer(binary=False)\n",
    "\n",
    "data_feat = count_vectorizer.fit_transform(ea_df['keywords_clean'])"
   ]
  },
  {
   "cell_type": "markdown",
   "metadata": {},
   "source": [
    "## create labels: cause areas"
   ]
  },
  {
   "cell_type": "code",
   "execution_count": 17,
   "metadata": {},
   "outputs": [],
   "source": [
    "lb = LabelBinarizer()\n",
    "data_label = list(ea_df['Causes/ Columns']) \n",
    "data_label_transform = lb.fit_transform(data_label)"
   ]
  },
  {
   "cell_type": "markdown",
   "metadata": {},
   "source": [
    "## classify and predict (basic)\n",
    "- since classifier's performance varies by random state, iterate multiple times to see average model performance"
   ]
  },
  {
   "cell_type": "code",
   "execution_count": 18,
   "metadata": {},
   "outputs": [],
   "source": [
    "def do_classify_dt(random_state=None):\n",
    "    base_clf = tree.DecisionTreeClassifier(random_state=random_state)\n",
    "    base_clf.fit(data_feat, data_label_transform)\n",
    "    \n",
    "    train_predict_feat = base_clf.predict(data_feat)\n",
    "    train_predict = lb.inverse_transform(train_predict_feat)\n",
    "    \n",
    "    acc = accuracy_score(data_label, train_predict)\n",
    "    \n",
    "    return (base_clf, acc)"
   ]
  },
  {
   "cell_type": "code",
   "execution_count": 19,
   "metadata": {},
   "outputs": [
    {
     "name": "stdout",
     "output_type": "stream",
     "text": [
      "base classifier mean accuracy: 1.000000\n"
     ]
    }
   ],
   "source": [
    "base_clf_random_state = range(50)\n",
    "base_clf_experiments = [do_classify_dt(i) for i in base_clf_random_state]\n",
    "\n",
    "base_clf_avg_acc = np.average([acc for (clf,acc) in base_clf_experiments])\n",
    "print('base classifier mean accuracy: %f' % base_clf_avg_acc)"
   ]
  }
 ],
 "metadata": {
  "jupytext": {},
  "kernelspec": {
   "display_name": "Python 3",
   "language": "python",
   "name": "python3"
  },
  "language_info": {
   "codemirror_mode": {
    "name": "ipython",
    "version": 3
   },
   "file_extension": ".py",
   "mimetype": "text/x-python",
   "name": "python",
   "nbconvert_exporter": "python",
   "pygments_lexer": "ipython3",
   "version": "3.6.1"
  }
 },
 "nbformat": 4,
 "nbformat_minor": 2
}
