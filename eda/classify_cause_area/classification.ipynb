{
 "cells": [
  {
   "cell_type": "markdown",
   "metadata": {},
   "source": [
    "# EA x DKSG\n",
    "**classification:**\n",
    "classify organizations into cause areas based on descriptions\n",
    "basically, descriptions -> cause areas\n",
    "\n",
    "## methodology\n",
    "- clean up organization descriptions\n",
    "    - drop stopwords\n",
    "    - drop punctuations\n",
    "    - lemmatize words\n",
    "- clean up ea keywords\n",
    "- create count vectors for each description\n",
    "- use count vectors as feature for classification with\n",
    "    - linear regressor\n",
    "    - decision trees\n",
    "    - random forest regressor\n",
    "    - deep LSTM\n",
    "    \n",
    "## hypothesis\n",
    "an organization with certain keywords in its description should be involved in a cause area if the keywords match up with the keywords defined in the cause area\n",
    "\n",
    "## clean up organization descriptions"
   ]
  },
  {
   "cell_type": "code",
   "execution_count": 29,
   "metadata": {},
   "outputs": [],
   "source": [
    "## setup\n",
    "%run env_setup.py\n",
    "%run filepaths.py\n",
    "%run helpers.py"
   ]
  },
  {
   "cell_type": "code",
   "execution_count": 22,
   "metadata": {},
   "outputs": [],
   "source": [
    "web_df = read_from_csv(WEB_SCRAPE_CSV)"
   ]
  },
  {
   "cell_type": "code",
   "execution_count": 33,
   "metadata": {},
   "outputs": [
    {
     "data": {
      "text/html": [
       "<div>\n",
       "<style>\n",
       "    .dataframe thead tr:only-child th {\n",
       "        text-align: right;\n",
       "    }\n",
       "\n",
       "    .dataframe thead th {\n",
       "        text-align: left;\n",
       "    }\n",
       "\n",
       "    .dataframe tbody tr th {\n",
       "        vertical-align: top;\n",
       "    }\n",
       "</style>\n",
       "<table border=\"1\" class=\"dataframe\">\n",
       "  <thead>\n",
       "    <tr style=\"text-align: right;\">\n",
       "      <th></th>\n",
       "      <th>name</th>\n",
       "      <th>description</th>\n",
       "      <th>website</th>\n",
       "      <th>cause_area</th>\n",
       "      <th>programme_types</th>\n",
       "      <th>address</th>\n",
       "      <th>country</th>\n",
       "      <th>city</th>\n",
       "      <th>contact_number</th>\n",
       "      <th>email</th>\n",
       "      <th>...</th>\n",
       "      <th>IPC.Status</th>\n",
       "      <th>IPC.Period</th>\n",
       "      <th>Details.URL</th>\n",
       "      <th>fax</th>\n",
       "      <th>revenue</th>\n",
       "      <th>employees</th>\n",
       "      <th>lat</th>\n",
       "      <th>lon</th>\n",
       "      <th>desc_clean_words</th>\n",
       "      <th>desc_clean</th>\n",
       "    </tr>\n",
       "  </thead>\n",
       "  <tbody>\n",
       "    <tr>\n",
       "      <th>0</th>\n",
       "      <td>Bali Pink Ribbon - Breast Cancer Awareness Fou...</td>\n",
       "      <td>Bali Pink Ribbon was founded by Gaye Warren, a...</td>\n",
       "      <td>http://www.balipinkribbon.com</td>\n",
       "      <td>Balinese People, Health</td>\n",
       "      <td>Our vision is to prevent Indonesian women from...</td>\n",
       "      <td>80113 Dauh Puri Kauh (Denpasar Barat)</td>\n",
       "      <td>indonesia</td>\n",
       "      <td>Denpasar</td>\n",
       "      <td>+62 361 4746238</td>\n",
       "      <td>pr@balipinkribbon.com</td>\n",
       "      <td>...</td>\n",
       "      <td>NaN</td>\n",
       "      <td>NaN</td>\n",
       "      <td>NaN</td>\n",
       "      <td>NaN</td>\n",
       "      <td>NaN</td>\n",
       "      <td>NaN</td>\n",
       "      <td>-8.673612</td>\n",
       "      <td>115.203737</td>\n",
       "      <td>[bali, pink, ribbon, found, gaye, warren, brit...</td>\n",
       "      <td>bali pink ribbon found gaye warren british bre...</td>\n",
       "    </tr>\n",
       "    <tr>\n",
       "      <th>1</th>\n",
       "      <td>Volunteer Programs Bali</td>\n",
       "      <td>At VP Bali, we believe that education can chan...</td>\n",
       "      <td>http://http://volunteerprogramsbali.org</td>\n",
       "      <td>Balinese People, Children, Balinese Art &amp; Culture</td>\n",
       "      <td>A dopting the Balinese values and its premise ...</td>\n",
       "      <td>80571 Ubud (Petulu)</td>\n",
       "      <td>indonesia</td>\n",
       "      <td>Ubud</td>\n",
       "      <td>NaN</td>\n",
       "      <td>info@volunteerprogramsbali.org</td>\n",
       "      <td>...</td>\n",
       "      <td>NaN</td>\n",
       "      <td>NaN</td>\n",
       "      <td>NaN</td>\n",
       "      <td>NaN</td>\n",
       "      <td>NaN</td>\n",
       "      <td>NaN</td>\n",
       "      <td>-8.675090</td>\n",
       "      <td>115.189919</td>\n",
       "      <td>[at, vp, bali, believe, education, change, chi...</td>\n",
       "      <td>at vp bali believe education change childã¢ââ...</td>\n",
       "    </tr>\n",
       "    <tr>\n",
       "      <th>2</th>\n",
       "      <td>NGO 4 Ger</td>\n",
       "      <td>Only for specials</td>\n",
       "      <td>http://www.fiedbeck.de</td>\n",
       "      <td>Balinese People</td>\n",
       "      <td>NaN</td>\n",
       "      <td>Strasse 1 Bali</td>\n",
       "      <td>indonesia</td>\n",
       "      <td>Amed</td>\n",
       "      <td>+49 7531 123456</td>\n",
       "      <td>h.vergara@fiedbeck.de</td>\n",
       "      <td>...</td>\n",
       "      <td>NaN</td>\n",
       "      <td>NaN</td>\n",
       "      <td>NaN</td>\n",
       "      <td>NaN</td>\n",
       "      <td>NaN</td>\n",
       "      <td>NaN</td>\n",
       "      <td>-8.409518</td>\n",
       "      <td>115.188916</td>\n",
       "      <td>[only, special]</td>\n",
       "      <td>only special</td>\n",
       "    </tr>\n",
       "    <tr>\n",
       "      <th>3</th>\n",
       "      <td>Bali Children Foundation</td>\n",
       "      <td>Our vision, at Bali Children Foundation, is to...</td>\n",
       "      <td>http://www.balichildrenfoundation.org</td>\n",
       "      <td>Children, Education &amp; Schools</td>\n",
       "      <td>To provide community education in remote areas...</td>\n",
       "      <td>Jl. Raya Kesambi No.369, Kerobokan, Kuta Utara...</td>\n",
       "      <td>indonesia</td>\n",
       "      <td>Seminyak</td>\n",
       "      <td>+62 361  847 5399</td>\n",
       "      <td>info@balichildrenfoundation.org</td>\n",
       "      <td>...</td>\n",
       "      <td>NaN</td>\n",
       "      <td>NaN</td>\n",
       "      <td>NaN</td>\n",
       "      <td>NaN</td>\n",
       "      <td>NaN</td>\n",
       "      <td>NaN</td>\n",
       "      <td>-8.653567</td>\n",
       "      <td>115.172545</td>\n",
       "      <td>[our, vision, bali, children, foundation, prov...</td>\n",
       "      <td>our vision bali children foundation provide ed...</td>\n",
       "    </tr>\n",
       "    <tr>\n",
       "      <th>4</th>\n",
       "      <td>Friends of the National Parks Foundation</td>\n",
       "      <td>Friends of the National Park Foundation (FNPF)...</td>\n",
       "      <td>http://www.fnpf.org</td>\n",
       "      <td>Environment &amp; Nature Conservation</td>\n",
       "      <td>To protect wildlife and its habitat, at the sa...</td>\n",
       "      <td>Ped, Nusapenida, Klungkung Regency, Bali 80771...</td>\n",
       "      <td>indonesia</td>\n",
       "      <td>Pejeng</td>\n",
       "      <td>+62 361 4792286</td>\n",
       "      <td>info@fnpf.org</td>\n",
       "      <td>...</td>\n",
       "      <td>NaN</td>\n",
       "      <td>NaN</td>\n",
       "      <td>NaN</td>\n",
       "      <td>NaN</td>\n",
       "      <td>NaN</td>\n",
       "      <td>NaN</td>\n",
       "      <td>-8.683880</td>\n",
       "      <td>115.518827</td>\n",
       "      <td>[friends, national, park, foundation, fnpf, in...</td>\n",
       "      <td>friends national park foundation fnpf indonesi...</td>\n",
       "    </tr>\n",
       "  </tbody>\n",
       "</table>\n",
       "<p>5 rows × 27 columns</p>\n",
       "</div>"
      ],
      "text/plain": [
       "                                                name  \\\n",
       "0  Bali Pink Ribbon - Breast Cancer Awareness Fou...   \n",
       "1                            Volunteer Programs Bali   \n",
       "2                                          NGO 4 Ger   \n",
       "3                           Bali Children Foundation   \n",
       "4           Friends of the National Parks Foundation   \n",
       "\n",
       "                                         description  \\\n",
       "0  Bali Pink Ribbon was founded by Gaye Warren, a...   \n",
       "1  At VP Bali, we believe that education can chan...   \n",
       "2                                  Only for specials   \n",
       "3  Our vision, at Bali Children Foundation, is to...   \n",
       "4  Friends of the National Park Foundation (FNPF)...   \n",
       "\n",
       "                                   website  \\\n",
       "0            http://www.balipinkribbon.com   \n",
       "1  http://http://volunteerprogramsbali.org   \n",
       "2                   http://www.fiedbeck.de   \n",
       "3    http://www.balichildrenfoundation.org   \n",
       "4                      http://www.fnpf.org   \n",
       "\n",
       "                                          cause_area  \\\n",
       "0                            Balinese People, Health   \n",
       "1  Balinese People, Children, Balinese Art & Culture   \n",
       "2                                    Balinese People   \n",
       "3                      Children, Education & Schools   \n",
       "4                  Environment & Nature Conservation   \n",
       "\n",
       "                                     programme_types  \\\n",
       "0  Our vision is to prevent Indonesian women from...   \n",
       "1  A dopting the Balinese values and its premise ...   \n",
       "2                                                NaN   \n",
       "3  To provide community education in remote areas...   \n",
       "4  To protect wildlife and its habitat, at the sa...   \n",
       "\n",
       "                                             address    country      city  \\\n",
       "0              80113 Dauh Puri Kauh (Denpasar Barat)  indonesia  Denpasar   \n",
       "1                                80571 Ubud (Petulu)  indonesia      Ubud   \n",
       "2                                     Strasse 1 Bali  indonesia      Amed   \n",
       "3  Jl. Raya Kesambi No.369, Kerobokan, Kuta Utara...  indonesia  Seminyak   \n",
       "4  Ped, Nusapenida, Klungkung Regency, Bali 80771...  indonesia    Pejeng   \n",
       "\n",
       "      contact_number                            email  \\\n",
       "0    +62 361 4746238            pr@balipinkribbon.com   \n",
       "1                NaN   info@volunteerprogramsbali.org   \n",
       "2    +49 7531 123456            h.vergara@fiedbeck.de   \n",
       "3  +62 361  847 5399  info@balichildrenfoundation.org   \n",
       "4    +62 361 4792286                    info@fnpf.org   \n",
       "\n",
       "                         ...                         IPC.Status IPC.Period  \\\n",
       "0                        ...                                NaN        NaN   \n",
       "1                        ...                                NaN        NaN   \n",
       "2                        ...                                NaN        NaN   \n",
       "3                        ...                                NaN        NaN   \n",
       "4                        ...                                NaN        NaN   \n",
       "\n",
       "  Details.URL fax revenue employees       lat         lon  \\\n",
       "0         NaN NaN     NaN       NaN -8.673612  115.203737   \n",
       "1         NaN NaN     NaN       NaN -8.675090  115.189919   \n",
       "2         NaN NaN     NaN       NaN -8.409518  115.188916   \n",
       "3         NaN NaN     NaN       NaN -8.653567  115.172545   \n",
       "4         NaN NaN     NaN       NaN -8.683880  115.518827   \n",
       "\n",
       "                                    desc_clean_words  \\\n",
       "0  [bali, pink, ribbon, found, gaye, warren, brit...   \n",
       "1  [at, vp, bali, believe, education, change, chi...   \n",
       "2                                    [only, special]   \n",
       "3  [our, vision, bali, children, foundation, prov...   \n",
       "4  [friends, national, park, foundation, fnpf, in...   \n",
       "\n",
       "                                          desc_clean  \n",
       "0  bali pink ribbon found gaye warren british bre...  \n",
       "1  at vp bali believe education change childã¢ââ...  \n",
       "2                                       only special  \n",
       "3  our vision bali children foundation provide ed...  \n",
       "4  friends national park foundation fnpf indonesi...  \n",
       "\n",
       "[5 rows x 27 columns]"
      ]
     },
     "execution_count": 33,
     "metadata": {},
     "output_type": "execute_result"
    }
   ],
   "source": [
    "web_df.head()"
   ]
  },
  {
   "cell_type": "code",
   "execution_count": 25,
   "metadata": {},
   "outputs": [],
   "source": [
    "## fill up empty descriptions\n",
    "web_df['description'] = web_df['description'].fillna('')\n",
    "\n",
    "## add cleaned description\n",
    "web_df['desc_clean_words'] = get_cleaned_descriptions(list(web_df['description']), True, True, True)\n",
    "web_df['desc_clean'] = get_sentence_from_list(list(web_df['desc_clean_words']))"
   ]
  },
  {
   "cell_type": "code",
   "execution_count": 26,
   "metadata": {},
   "outputs": [
    {
     "data": {
      "text/plain": [
       "0    bali pink ribbon found gaye warren british bre...\n",
       "1    at vp bali believe education change childã¢ââ...\n",
       "2                                         only special\n",
       "3    our vision bali children foundation provide ed...\n",
       "4    friends national park foundation fnpf indonesi...\n",
       "Name: desc_clean, dtype: object"
      ]
     },
     "execution_count": 26,
     "metadata": {},
     "output_type": "execute_result"
    }
   ],
   "source": [
    "web_df['desc_clean'].head()"
   ]
  },
  {
   "cell_type": "code",
   "execution_count": 35,
   "metadata": {},
   "outputs": [
    {
     "data": {
      "text/plain": [
       "0    [bali, pink, ribbon, found, gaye, warren, brit...\n",
       "1    [at, vp, bali, believe, education, change, chi...\n",
       "2                                      [only, special]\n",
       "3    [our, vision, bali, children, foundation, prov...\n",
       "4    [friends, national, park, foundation, fnpf, in...\n",
       "Name: desc_clean_words, dtype: object"
      ]
     },
     "execution_count": 35,
     "metadata": {},
     "output_type": "execute_result"
    }
   ],
   "source": [
    "web_df['desc_clean_words'].head()"
   ]
  },
  {
   "cell_type": "code",
   "execution_count": 57,
   "metadata": {},
   "outputs": [],
   "source": [
    "## add cleaned cause areas\n",
    "def clean_cause_area(cause_area_raw):\n",
    "    words = cause_area_raw.lower().split(\",\")\n",
    "    words = [w.strip() for w in words]\n",
    "    words = [w for w in words if len(w) > 0]\n",
    "    return set(words)\n",
    "\n",
    "web_df['cause_area'] = web_df['cause_area'].fillna('')\n",
    "web_df['cause_area_clean'] = web_df['cause_area'].apply(clean_cause_area)"
   ]
  },
  {
   "cell_type": "code",
   "execution_count": 58,
   "metadata": {},
   "outputs": [
    {
     "data": {
      "text/plain": [
       "0                            {health, balinese people}\n",
       "1    {children, balinese art & culture, balinese pe...\n",
       "2                                    {balinese people}\n",
       "3                      {children, education & schools}\n",
       "4                  {environment & nature conservation}\n",
       "Name: cause_area_clean, dtype: object"
      ]
     },
     "execution_count": 58,
     "metadata": {},
     "output_type": "execute_result"
    }
   ],
   "source": [
    "web_df['cause_area_clean'].head()"
   ]
  },
  {
   "cell_type": "markdown",
   "metadata": {},
   "source": [
    "## clean up ea keywords"
   ]
  },
  {
   "cell_type": "code",
   "execution_count": 30,
   "metadata": {},
   "outputs": [],
   "source": [
    "ea_df = read_from_csv(EA_CSV)"
   ]
  },
  {
   "cell_type": "code",
   "execution_count": 34,
   "metadata": {},
   "outputs": [
    {
     "data": {
      "text/html": [
       "<div>\n",
       "<style>\n",
       "    .dataframe thead tr:only-child th {\n",
       "        text-align: right;\n",
       "    }\n",
       "\n",
       "    .dataframe thead th {\n",
       "        text-align: left;\n",
       "    }\n",
       "\n",
       "    .dataframe tbody tr th {\n",
       "        vertical-align: top;\n",
       "    }\n",
       "</style>\n",
       "<table border=\"1\" class=\"dataframe\">\n",
       "  <thead>\n",
       "    <tr style=\"text-align: right;\">\n",
       "      <th></th>\n",
       "      <th>Causes/ Columns</th>\n",
       "      <th>Keywords_Set 1</th>\n",
       "      <th>Keywords_Set 2</th>\n",
       "      <th>Yad's comments</th>\n",
       "    </tr>\n",
       "  </thead>\n",
       "  <tbody>\n",
       "    <tr>\n",
       "      <th>0</th>\n",
       "      <td>Health infectious diseases</td>\n",
       "      <td>HIV, AIDs, Tuberculosis, Clinic, Hepatitis, De...</td>\n",
       "      <td>HIV, AIDs, Tuberculosis, Hepatitis, Dengue, Ma...</td>\n",
       "      <td>NaN</td>\n",
       "    </tr>\n",
       "    <tr>\n",
       "      <th>1</th>\n",
       "      <td>Neglected tropical diseases (NTDs)</td>\n",
       "      <td>Deworming, parasitic worms, neglected tropical...</td>\n",
       "      <td>Deworming, parasitic worms, neglected tropical...</td>\n",
       "      <td>NaN</td>\n",
       "    </tr>\n",
       "    <tr>\n",
       "      <th>2</th>\n",
       "      <td>Social Enterprise</td>\n",
       "      <td>Social Entrepreneur, business, Entrepreneurshi...</td>\n",
       "      <td>Social Entrepreneur, Entrepreneurship</td>\n",
       "      <td>NaN</td>\n",
       "    </tr>\n",
       "    <tr>\n",
       "      <th>3</th>\n",
       "      <td>Environment</td>\n",
       "      <td>Recycle, Water, plastic, nature, fishery, farm...</td>\n",
       "      <td>Recycle, plastic, pollution, natural resources...</td>\n",
       "      <td>NaN</td>\n",
       "    </tr>\n",
       "    <tr>\n",
       "      <th>4</th>\n",
       "      <td>Disaster relief</td>\n",
       "      <td>Flood, natural disaster, cyclones, earthquakes...</td>\n",
       "      <td>Flood, natural disaster, cyclones, earthquakes...</td>\n",
       "      <td>NaN</td>\n",
       "    </tr>\n",
       "  </tbody>\n",
       "</table>\n",
       "</div>"
      ],
      "text/plain": [
       "                      Causes/ Columns  \\\n",
       "0          Health infectious diseases   \n",
       "1  Neglected tropical diseases (NTDs)   \n",
       "2                   Social Enterprise   \n",
       "3                         Environment   \n",
       "4                     Disaster relief   \n",
       "\n",
       "                                      Keywords_Set 1  \\\n",
       "0  HIV, AIDs, Tuberculosis, Clinic, Hepatitis, De...   \n",
       "1  Deworming, parasitic worms, neglected tropical...   \n",
       "2  Social Entrepreneur, business, Entrepreneurshi...   \n",
       "3  Recycle, Water, plastic, nature, fishery, farm...   \n",
       "4  Flood, natural disaster, cyclones, earthquakes...   \n",
       "\n",
       "                                      Keywords_Set 2 Yad's comments  \n",
       "0  HIV, AIDs, Tuberculosis, Hepatitis, Dengue, Ma...            NaN  \n",
       "1  Deworming, parasitic worms, neglected tropical...            NaN  \n",
       "2              Social Entrepreneur, Entrepreneurship            NaN  \n",
       "3  Recycle, plastic, pollution, natural resources...            NaN  \n",
       "4  Flood, natural disaster, cyclones, earthquakes...            NaN  "
      ]
     },
     "execution_count": 34,
     "metadata": {},
     "output_type": "execute_result"
    }
   ],
   "source": [
    "ea_df.head()"
   ]
  },
  {
   "cell_type": "code",
   "execution_count": 52,
   "metadata": {},
   "outputs": [],
   "source": [
    "ea_df['keywords_clean_words'] = get_cleaned_descriptions(list(ea_df[KEYWORDS_COLUMN]), True, True, True)\n",
    "ea_df['keywords_clean'] = get_sentence_from_list(list(ea_df['keywords_clean_words']))"
   ]
  },
  {
   "cell_type": "code",
   "execution_count": 54,
   "metadata": {},
   "outputs": [
    {
     "data": {
      "text/plain": [
       "0    [hiv, aids, tuberculosis, clinic, hepatitis, d...\n",
       "1    [deworming, parasitic, worm, neglect, tropical...\n",
       "2    [social, entrepreneur, business, entrepreneurs...\n",
       "3    [recycle, water, plastic, nature, fishery, far...\n",
       "4    [flood, natural, disaster, cyclone, earthquake...\n",
       "Name: keywords_clean_words, dtype: object"
      ]
     },
     "execution_count": 54,
     "metadata": {},
     "output_type": "execute_result"
    }
   ],
   "source": [
    "ea_df['keywords_clean_words'].head()"
   ]
  },
  {
   "cell_type": "code",
   "execution_count": 56,
   "metadata": {},
   "outputs": [
    {
     "data": {
      "text/plain": [
       "0    hiv aids tuberculosis clinic hepatitis dengue ...\n",
       "1    deworming parasitic worm neglect tropical dise...\n",
       "2    social entrepreneur business entrepreneurship ...\n",
       "3    recycle water plastic nature fishery farm poll...\n",
       "4    flood natural disaster cyclone earthquake reli...\n",
       "Name: keywords_clean, dtype: object"
      ]
     },
     "execution_count": 56,
     "metadata": {},
     "output_type": "execute_result"
    }
   ],
   "source": [
    "ea_df['keywords_clean'].head()"
   ]
  },
  {
   "cell_type": "markdown",
   "metadata": {},
   "source": [
    "## basic viz"
   ]
  },
  {
   "cell_type": "code",
   "execution_count": 91,
   "metadata": {},
   "outputs": [],
   "source": [
    "from itertools import chain\n",
    "web_cause_area_df = list(chain.from_iterable(list(web_df['cause_area_clean'].apply(lambda s: list(s)))))\n",
    "web_cause_area_df = pd.Series(web_cause_area) \n",
    "web_cause_area_df = pd.DataFrame(web_cause_area_df.value_counts().reset_index())\n",
    "web_cause_area_df.columns = ['cause area', 'count']"
   ]
  },
  {
   "cell_type": "markdown",
   "metadata": {},
   "source": [
    "Q: top 20 cause areas with highest counts"
   ]
  },
  {
   "cell_type": "code",
   "execution_count": 92,
   "metadata": {},
   "outputs": [
    {
     "data": {
      "text/html": [
       "<div>\n",
       "<style>\n",
       "    .dataframe thead tr:only-child th {\n",
       "        text-align: right;\n",
       "    }\n",
       "\n",
       "    .dataframe thead th {\n",
       "        text-align: left;\n",
       "    }\n",
       "\n",
       "    .dataframe tbody tr th {\n",
       "        vertical-align: top;\n",
       "    }\n",
       "</style>\n",
       "<table border=\"1\" class=\"dataframe\">\n",
       "  <thead>\n",
       "    <tr style=\"text-align: right;\">\n",
       "      <th></th>\n",
       "      <th>cause area</th>\n",
       "      <th>count</th>\n",
       "    </tr>\n",
       "  </thead>\n",
       "  <tbody>\n",
       "    <tr>\n",
       "      <th>0</th>\n",
       "      <td>religious</td>\n",
       "      <td>1085</td>\n",
       "    </tr>\n",
       "    <tr>\n",
       "      <th>1</th>\n",
       "      <td>education</td>\n",
       "      <td>463</td>\n",
       "    </tr>\n",
       "    <tr>\n",
       "      <th>2</th>\n",
       "      <td>social and welfare</td>\n",
       "      <td>392</td>\n",
       "    </tr>\n",
       "    <tr>\n",
       "      <th>3</th>\n",
       "      <td>health</td>\n",
       "      <td>281</td>\n",
       "    </tr>\n",
       "    <tr>\n",
       "      <th>4</th>\n",
       "      <td>children</td>\n",
       "      <td>251</td>\n",
       "    </tr>\n",
       "    <tr>\n",
       "      <th>5</th>\n",
       "      <td>charitable</td>\n",
       "      <td>242</td>\n",
       "    </tr>\n",
       "    <tr>\n",
       "      <th>6</th>\n",
       "      <td>others</td>\n",
       "      <td>232</td>\n",
       "    </tr>\n",
       "    <tr>\n",
       "      <th>7</th>\n",
       "      <td>environment</td>\n",
       "      <td>225</td>\n",
       "    </tr>\n",
       "    <tr>\n",
       "      <th>8</th>\n",
       "      <td>support groups</td>\n",
       "      <td>214</td>\n",
       "    </tr>\n",
       "    <tr>\n",
       "      <th>9</th>\n",
       "      <td>arts and heritage</td>\n",
       "      <td>147</td>\n",
       "    </tr>\n",
       "    <tr>\n",
       "      <th>10</th>\n",
       "      <td>development</td>\n",
       "      <td>114</td>\n",
       "    </tr>\n",
       "    <tr>\n",
       "      <th>11</th>\n",
       "      <td>community</td>\n",
       "      <td>103</td>\n",
       "    </tr>\n",
       "    <tr>\n",
       "      <th>12</th>\n",
       "      <td>human rights</td>\n",
       "      <td>98</td>\n",
       "    </tr>\n",
       "    <tr>\n",
       "      <th>13</th>\n",
       "      <td>educational</td>\n",
       "      <td>96</td>\n",
       "    </tr>\n",
       "    <tr>\n",
       "      <th>14</th>\n",
       "      <td>differently abled</td>\n",
       "      <td>87</td>\n",
       "    </tr>\n",
       "    <tr>\n",
       "      <th>15</th>\n",
       "      <td>social development</td>\n",
       "      <td>78</td>\n",
       "    </tr>\n",
       "    <tr>\n",
       "      <th>16</th>\n",
       "      <td>children &amp; youth</td>\n",
       "      <td>75</td>\n",
       "    </tr>\n",
       "    <tr>\n",
       "      <th>17</th>\n",
       "      <td>social services</td>\n",
       "      <td>72</td>\n",
       "    </tr>\n",
       "    <tr>\n",
       "      <th>18</th>\n",
       "      <td>sports</td>\n",
       "      <td>70</td>\n",
       "    </tr>\n",
       "    <tr>\n",
       "      <th>19</th>\n",
       "      <td>social and cultural development</td>\n",
       "      <td>64</td>\n",
       "    </tr>\n",
       "  </tbody>\n",
       "</table>\n",
       "</div>"
      ],
      "text/plain": [
       "                         cause area  count\n",
       "0                         religious   1085\n",
       "1                         education    463\n",
       "2                social and welfare    392\n",
       "3                            health    281\n",
       "4                          children    251\n",
       "5                        charitable    242\n",
       "6                            others    232\n",
       "7                       environment    225\n",
       "8                    support groups    214\n",
       "9                 arts and heritage    147\n",
       "10                      development    114\n",
       "11                        community    103\n",
       "12                     human rights     98\n",
       "13                      educational     96\n",
       "14                differently abled     87\n",
       "15               social development     78\n",
       "16                 children & youth     75\n",
       "17                  social services     72\n",
       "18                           sports     70\n",
       "19  social and cultural development     64"
      ]
     },
     "execution_count": 92,
     "metadata": {},
     "output_type": "execute_result"
    }
   ],
   "source": [
    "web_cause_area_df[:20]"
   ]
  },
  {
   "cell_type": "markdown",
   "metadata": {},
   "source": [
    "Q: total number of unique cause areas"
   ]
  },
  {
   "cell_type": "code",
   "execution_count": 87,
   "metadata": {},
   "outputs": [
    {
     "data": {
      "text/plain": [
       "586"
      ]
     },
     "execution_count": 87,
     "metadata": {},
     "output_type": "execute_result"
    }
   ],
   "source": [
    "len(web_cause_area_df)"
   ]
  },
  {
   "cell_type": "code",
   "execution_count": null,
   "metadata": {},
   "outputs": [],
   "source": []
  },
  {
   "cell_type": "code",
   "execution_count": null,
   "metadata": {},
   "outputs": [],
   "source": []
  },
  {
   "cell_type": "markdown",
   "metadata": {},
   "source": [
    "## create count vectors for each description"
   ]
  },
  {
   "cell_type": "code",
   "execution_count": null,
   "metadata": {},
   "outputs": [],
   "source": []
  },
  {
   "cell_type": "code",
   "execution_count": null,
   "metadata": {},
   "outputs": [],
   "source": []
  }
 ],
 "metadata": {
  "kernelspec": {
   "display_name": "Python 3",
   "language": "python",
   "name": "python3"
  },
  "language_info": {
   "codemirror_mode": {
    "name": "ipython",
    "version": 3
   },
   "file_extension": ".py",
   "mimetype": "text/x-python",
   "name": "python",
   "nbconvert_exporter": "python",
   "pygments_lexer": "ipython3",
   "version": "3.6.3"
  }
 },
 "nbformat": 4,
 "nbformat_minor": 2
}
