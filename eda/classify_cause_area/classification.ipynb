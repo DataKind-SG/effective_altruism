{
 "cells": [
  {
   "cell_type": "markdown",
   "metadata": {},
   "source": [
    "# EA x DKSG\n",
    "**classification:**\n",
    "classify organizations into cause areas based on descriptions\n",
    "basically, descriptions -> cause areas\n",
    "\n",
    "## methodology\n",
    "- clean up organization descriptions\n",
    "    - drop stopwords\n",
    "    - drop punctuations\n",
    "    - lemmatize words\n",
    "- clean up ea keywords\n",
    "- create count vectors for each description\n",
    "- use count vectors as feature for classification with\n",
    "    - linear regressor\n",
    "    - decision trees\n",
    "    - random forest regressor\n",
    "    - deep LSTM\n",
    "    \n",
    "## hypothesis\n",
    "an organization with certain keywords in its description should be involved in a cause area if the keywords match up with the keywords defined in the cause area\n",
    "\n",
    "## clean up organization descriptions"
   ]
  },
  {
   "cell_type": "code",
   "execution_count": 1,
   "metadata": {},
   "outputs": [],
   "source": [
    "## setup\n",
    "%run env_setup.py\n",
    "%run filepaths.py\n",
    "%run helpers.py"
   ]
  },
  {
   "cell_type": "code",
   "execution_count": 2,
   "metadata": {},
   "outputs": [],
   "source": [
    "web_df = read_from_csv(WEB_SCRAPE_CSV)"
   ]
  },
  {
   "cell_type": "code",
   "execution_count": 3,
   "metadata": {},
   "outputs": [
    {
     "data": {
      "text/html": [
       "<div>\n",
       "<style>\n",
       "    .dataframe thead tr:only-child th {\n",
       "        text-align: right;\n",
       "    }\n",
       "\n",
       "    .dataframe thead th {\n",
       "        text-align: left;\n",
       "    }\n",
       "\n",
       "    .dataframe tbody tr th {\n",
       "        vertical-align: top;\n",
       "    }\n",
       "</style>\n",
       "<table border=\"1\" class=\"dataframe\">\n",
       "  <thead>\n",
       "    <tr style=\"text-align: right;\">\n",
       "      <th></th>\n",
       "      <th>name</th>\n",
       "      <th>description</th>\n",
       "      <th>website</th>\n",
       "      <th>cause_area</th>\n",
       "      <th>programme_types</th>\n",
       "      <th>address</th>\n",
       "      <th>country</th>\n",
       "      <th>city</th>\n",
       "      <th>contact_number</th>\n",
       "      <th>email</th>\n",
       "      <th>...</th>\n",
       "      <th>Charity.Status</th>\n",
       "      <th>Date.of.Charity.Registration</th>\n",
       "      <th>IPC.Status</th>\n",
       "      <th>IPC.Period</th>\n",
       "      <th>Details.URL</th>\n",
       "      <th>fax</th>\n",
       "      <th>revenue</th>\n",
       "      <th>employees</th>\n",
       "      <th>lat</th>\n",
       "      <th>lon</th>\n",
       "    </tr>\n",
       "  </thead>\n",
       "  <tbody>\n",
       "    <tr>\n",
       "      <th>0</th>\n",
       "      <td>Bali Pink Ribbon - Breast Cancer Awareness Fou...</td>\n",
       "      <td>Bali Pink Ribbon was founded by Gaye Warren, a...</td>\n",
       "      <td>http://www.balipinkribbon.com</td>\n",
       "      <td>Balinese People, Health</td>\n",
       "      <td>Our vision is to prevent Indonesian women from...</td>\n",
       "      <td>80113 Dauh Puri Kauh (Denpasar Barat)</td>\n",
       "      <td>indonesia</td>\n",
       "      <td>Denpasar</td>\n",
       "      <td>+62 361 4746238</td>\n",
       "      <td>pr@balipinkribbon.com</td>\n",
       "      <td>...</td>\n",
       "      <td>NaN</td>\n",
       "      <td>NaN</td>\n",
       "      <td>NaN</td>\n",
       "      <td>NaN</td>\n",
       "      <td>NaN</td>\n",
       "      <td>NaN</td>\n",
       "      <td>NaN</td>\n",
       "      <td>NaN</td>\n",
       "      <td>-8.673612</td>\n",
       "      <td>115.203737</td>\n",
       "    </tr>\n",
       "    <tr>\n",
       "      <th>1</th>\n",
       "      <td>Volunteer Programs Bali</td>\n",
       "      <td>At VP Bali, we believe that education can chan...</td>\n",
       "      <td>http://http://volunteerprogramsbali.org</td>\n",
       "      <td>Balinese People, Children, Balinese Art &amp; Culture</td>\n",
       "      <td>A dopting the Balinese values and its premise ...</td>\n",
       "      <td>80571 Ubud (Petulu)</td>\n",
       "      <td>indonesia</td>\n",
       "      <td>Ubud</td>\n",
       "      <td>NaN</td>\n",
       "      <td>info@volunteerprogramsbali.org</td>\n",
       "      <td>...</td>\n",
       "      <td>NaN</td>\n",
       "      <td>NaN</td>\n",
       "      <td>NaN</td>\n",
       "      <td>NaN</td>\n",
       "      <td>NaN</td>\n",
       "      <td>NaN</td>\n",
       "      <td>NaN</td>\n",
       "      <td>NaN</td>\n",
       "      <td>-8.675090</td>\n",
       "      <td>115.189919</td>\n",
       "    </tr>\n",
       "    <tr>\n",
       "      <th>2</th>\n",
       "      <td>NGO 4 Ger</td>\n",
       "      <td>Only for specials</td>\n",
       "      <td>http://www.fiedbeck.de</td>\n",
       "      <td>Balinese People</td>\n",
       "      <td>NaN</td>\n",
       "      <td>Strasse 1 Bali</td>\n",
       "      <td>indonesia</td>\n",
       "      <td>Amed</td>\n",
       "      <td>+49 7531 123456</td>\n",
       "      <td>h.vergara@fiedbeck.de</td>\n",
       "      <td>...</td>\n",
       "      <td>NaN</td>\n",
       "      <td>NaN</td>\n",
       "      <td>NaN</td>\n",
       "      <td>NaN</td>\n",
       "      <td>NaN</td>\n",
       "      <td>NaN</td>\n",
       "      <td>NaN</td>\n",
       "      <td>NaN</td>\n",
       "      <td>-8.409518</td>\n",
       "      <td>115.188916</td>\n",
       "    </tr>\n",
       "    <tr>\n",
       "      <th>3</th>\n",
       "      <td>Bali Children Foundation</td>\n",
       "      <td>Our vision, at Bali Children Foundation, is to...</td>\n",
       "      <td>http://www.balichildrenfoundation.org</td>\n",
       "      <td>Children, Education &amp; Schools</td>\n",
       "      <td>To provide community education in remote areas...</td>\n",
       "      <td>Jl. Raya Kesambi No.369, Kerobokan, Kuta Utara...</td>\n",
       "      <td>indonesia</td>\n",
       "      <td>Seminyak</td>\n",
       "      <td>+62 361  847 5399</td>\n",
       "      <td>info@balichildrenfoundation.org</td>\n",
       "      <td>...</td>\n",
       "      <td>NaN</td>\n",
       "      <td>NaN</td>\n",
       "      <td>NaN</td>\n",
       "      <td>NaN</td>\n",
       "      <td>NaN</td>\n",
       "      <td>NaN</td>\n",
       "      <td>NaN</td>\n",
       "      <td>NaN</td>\n",
       "      <td>-8.653567</td>\n",
       "      <td>115.172545</td>\n",
       "    </tr>\n",
       "    <tr>\n",
       "      <th>4</th>\n",
       "      <td>Friends of the National Parks Foundation</td>\n",
       "      <td>Friends of the National Park Foundation (FNPF)...</td>\n",
       "      <td>http://www.fnpf.org</td>\n",
       "      <td>Environment &amp; Nature Conservation</td>\n",
       "      <td>To protect wildlife and its habitat, at the sa...</td>\n",
       "      <td>Ped, Nusapenida, Klungkung Regency, Bali 80771...</td>\n",
       "      <td>indonesia</td>\n",
       "      <td>Pejeng</td>\n",
       "      <td>+62 361 4792286</td>\n",
       "      <td>info@fnpf.org</td>\n",
       "      <td>...</td>\n",
       "      <td>NaN</td>\n",
       "      <td>NaN</td>\n",
       "      <td>NaN</td>\n",
       "      <td>NaN</td>\n",
       "      <td>NaN</td>\n",
       "      <td>NaN</td>\n",
       "      <td>NaN</td>\n",
       "      <td>NaN</td>\n",
       "      <td>-8.683880</td>\n",
       "      <td>115.518827</td>\n",
       "    </tr>\n",
       "  </tbody>\n",
       "</table>\n",
       "<p>5 rows × 25 columns</p>\n",
       "</div>"
      ],
      "text/plain": [
       "                                                name  \\\n",
       "0  Bali Pink Ribbon - Breast Cancer Awareness Fou...   \n",
       "1                            Volunteer Programs Bali   \n",
       "2                                          NGO 4 Ger   \n",
       "3                           Bali Children Foundation   \n",
       "4           Friends of the National Parks Foundation   \n",
       "\n",
       "                                         description  \\\n",
       "0  Bali Pink Ribbon was founded by Gaye Warren, a...   \n",
       "1  At VP Bali, we believe that education can chan...   \n",
       "2                                  Only for specials   \n",
       "3  Our vision, at Bali Children Foundation, is to...   \n",
       "4  Friends of the National Park Foundation (FNPF)...   \n",
       "\n",
       "                                   website  \\\n",
       "0            http://www.balipinkribbon.com   \n",
       "1  http://http://volunteerprogramsbali.org   \n",
       "2                   http://www.fiedbeck.de   \n",
       "3    http://www.balichildrenfoundation.org   \n",
       "4                      http://www.fnpf.org   \n",
       "\n",
       "                                          cause_area  \\\n",
       "0                            Balinese People, Health   \n",
       "1  Balinese People, Children, Balinese Art & Culture   \n",
       "2                                    Balinese People   \n",
       "3                      Children, Education & Schools   \n",
       "4                  Environment & Nature Conservation   \n",
       "\n",
       "                                     programme_types  \\\n",
       "0  Our vision is to prevent Indonesian women from...   \n",
       "1  A dopting the Balinese values and its premise ...   \n",
       "2                                                NaN   \n",
       "3  To provide community education in remote areas...   \n",
       "4  To protect wildlife and its habitat, at the sa...   \n",
       "\n",
       "                                             address    country      city  \\\n",
       "0              80113 Dauh Puri Kauh (Denpasar Barat)  indonesia  Denpasar   \n",
       "1                                80571 Ubud (Petulu)  indonesia      Ubud   \n",
       "2                                     Strasse 1 Bali  indonesia      Amed   \n",
       "3  Jl. Raya Kesambi No.369, Kerobokan, Kuta Utara...  indonesia  Seminyak   \n",
       "4  Ped, Nusapenida, Klungkung Regency, Bali 80771...  indonesia    Pejeng   \n",
       "\n",
       "      contact_number                            email     ...      \\\n",
       "0    +62 361 4746238            pr@balipinkribbon.com     ...       \n",
       "1                NaN   info@volunteerprogramsbali.org     ...       \n",
       "2    +49 7531 123456            h.vergara@fiedbeck.de     ...       \n",
       "3  +62 361  847 5399  info@balichildrenfoundation.org     ...       \n",
       "4    +62 361 4792286                    info@fnpf.org     ...       \n",
       "\n",
       "  Charity.Status Date.of.Charity.Registration IPC.Status IPC.Period  \\\n",
       "0            NaN                          NaN        NaN        NaN   \n",
       "1            NaN                          NaN        NaN        NaN   \n",
       "2            NaN                          NaN        NaN        NaN   \n",
       "3            NaN                          NaN        NaN        NaN   \n",
       "4            NaN                          NaN        NaN        NaN   \n",
       "\n",
       "  Details.URL fax revenue employees       lat         lon  \n",
       "0         NaN NaN     NaN       NaN -8.673612  115.203737  \n",
       "1         NaN NaN     NaN       NaN -8.675090  115.189919  \n",
       "2         NaN NaN     NaN       NaN -8.409518  115.188916  \n",
       "3         NaN NaN     NaN       NaN -8.653567  115.172545  \n",
       "4         NaN NaN     NaN       NaN -8.683880  115.518827  \n",
       "\n",
       "[5 rows x 25 columns]"
      ]
     },
     "execution_count": 3,
     "metadata": {},
     "output_type": "execute_result"
    }
   ],
   "source": [
    "web_df.head()"
   ]
  },
  {
   "cell_type": "code",
   "execution_count": 4,
   "metadata": {},
   "outputs": [],
   "source": [
    "## fill up empty descriptions\n",
    "web_df['description'] = web_df['description'].fillna('')\n",
    "\n",
    "## add cleaned description\n",
    "web_df['desc_clean_words'] = get_cleaned_descriptions(list(web_df['description']), True, True, True)\n",
    "web_df['desc_clean'] = get_sentence_from_list(list(web_df['desc_clean_words']))"
   ]
  },
  {
   "cell_type": "code",
   "execution_count": 5,
   "metadata": {},
   "outputs": [],
   "source": [
    "## add cleaned cause areas\n",
    "def clean_cause_area(cause_area_raw):\n",
    "    words = cause_area_raw.lower().split(\",\")\n",
    "    words = [w.strip() for w in words]\n",
    "    words = [w for w in words if len(w) > 0]\n",
    "    return set(words)\n",
    "\n",
    "web_df['cause_area'] = web_df['cause_area'].fillna('')\n",
    "web_df['cause_area_clean'] = web_df['cause_area'].apply(clean_cause_area)"
   ]
  },
  {
   "cell_type": "code",
   "execution_count": 6,
   "metadata": {},
   "outputs": [
    {
     "data": {
      "text/html": [
       "<div>\n",
       "<style>\n",
       "    .dataframe thead tr:only-child th {\n",
       "        text-align: right;\n",
       "    }\n",
       "\n",
       "    .dataframe thead th {\n",
       "        text-align: left;\n",
       "    }\n",
       "\n",
       "    .dataframe tbody tr th {\n",
       "        vertical-align: top;\n",
       "    }\n",
       "</style>\n",
       "<table border=\"1\" class=\"dataframe\">\n",
       "  <thead>\n",
       "    <tr style=\"text-align: right;\">\n",
       "      <th></th>\n",
       "      <th>desc_clean_words</th>\n",
       "      <th>desc_clean</th>\n",
       "      <th>cause_area_clean</th>\n",
       "    </tr>\n",
       "  </thead>\n",
       "  <tbody>\n",
       "    <tr>\n",
       "      <th>0</th>\n",
       "      <td>[bali, pink, ribbon, found, gaye, warren, brit...</td>\n",
       "      <td>bali pink ribbon found gaye warren british bre...</td>\n",
       "      <td>{balinese people, health}</td>\n",
       "    </tr>\n",
       "    <tr>\n",
       "      <th>1</th>\n",
       "      <td>[at, vp, bali, believe, education, change, chi...</td>\n",
       "      <td>at vp bali believe education change childã¢ââ...</td>\n",
       "      <td>{balinese people, children, balinese art &amp; cul...</td>\n",
       "    </tr>\n",
       "    <tr>\n",
       "      <th>2</th>\n",
       "      <td>[only, special]</td>\n",
       "      <td>only special</td>\n",
       "      <td>{balinese people}</td>\n",
       "    </tr>\n",
       "    <tr>\n",
       "      <th>3</th>\n",
       "      <td>[our, vision, bali, children, foundation, prov...</td>\n",
       "      <td>our vision bali children foundation provide ed...</td>\n",
       "      <td>{education &amp; schools, children}</td>\n",
       "    </tr>\n",
       "    <tr>\n",
       "      <th>4</th>\n",
       "      <td>[friends, national, park, foundation, fnpf, in...</td>\n",
       "      <td>friends national park foundation fnpf indonesi...</td>\n",
       "      <td>{environment &amp; nature conservation}</td>\n",
       "    </tr>\n",
       "  </tbody>\n",
       "</table>\n",
       "</div>"
      ],
      "text/plain": [
       "                                    desc_clean_words  \\\n",
       "0  [bali, pink, ribbon, found, gaye, warren, brit...   \n",
       "1  [at, vp, bali, believe, education, change, chi...   \n",
       "2                                    [only, special]   \n",
       "3  [our, vision, bali, children, foundation, prov...   \n",
       "4  [friends, national, park, foundation, fnpf, in...   \n",
       "\n",
       "                                          desc_clean  \\\n",
       "0  bali pink ribbon found gaye warren british bre...   \n",
       "1  at vp bali believe education change childã¢ââ...   \n",
       "2                                       only special   \n",
       "3  our vision bali children foundation provide ed...   \n",
       "4  friends national park foundation fnpf indonesi...   \n",
       "\n",
       "                                    cause_area_clean  \n",
       "0                          {balinese people, health}  \n",
       "1  {balinese people, children, balinese art & cul...  \n",
       "2                                  {balinese people}  \n",
       "3                    {education & schools, children}  \n",
       "4                {environment & nature conservation}  "
      ]
     },
     "execution_count": 6,
     "metadata": {},
     "output_type": "execute_result"
    }
   ],
   "source": [
    "web_df[['desc_clean_words', 'desc_clean', 'cause_area_clean']].head()"
   ]
  },
  {
   "cell_type": "markdown",
   "metadata": {},
   "source": [
    "## clean up ea keywords"
   ]
  },
  {
   "cell_type": "code",
   "execution_count": 7,
   "metadata": {},
   "outputs": [],
   "source": [
    "ea_df = read_from_csv(EA_CSV)"
   ]
  },
  {
   "cell_type": "code",
   "execution_count": 8,
   "metadata": {},
   "outputs": [
    {
     "data": {
      "text/html": [
       "<div>\n",
       "<style>\n",
       "    .dataframe thead tr:only-child th {\n",
       "        text-align: right;\n",
       "    }\n",
       "\n",
       "    .dataframe thead th {\n",
       "        text-align: left;\n",
       "    }\n",
       "\n",
       "    .dataframe tbody tr th {\n",
       "        vertical-align: top;\n",
       "    }\n",
       "</style>\n",
       "<table border=\"1\" class=\"dataframe\">\n",
       "  <thead>\n",
       "    <tr style=\"text-align: right;\">\n",
       "      <th></th>\n",
       "      <th>Causes/ Columns</th>\n",
       "      <th>Keywords_Set 1</th>\n",
       "      <th>Keywords_Set 2</th>\n",
       "      <th>Yad's comments</th>\n",
       "    </tr>\n",
       "  </thead>\n",
       "  <tbody>\n",
       "    <tr>\n",
       "      <th>0</th>\n",
       "      <td>Health infectious diseases</td>\n",
       "      <td>HIV, AIDs, Tuberculosis, Clinic, Hepatitis, De...</td>\n",
       "      <td>HIV, AIDs, Tuberculosis, Hepatitis, Dengue, Ma...</td>\n",
       "      <td>NaN</td>\n",
       "    </tr>\n",
       "    <tr>\n",
       "      <th>1</th>\n",
       "      <td>Neglected tropical diseases (NTDs)</td>\n",
       "      <td>Deworming, parasitic worms, neglected tropical...</td>\n",
       "      <td>Deworming, parasitic worms, neglected tropical...</td>\n",
       "      <td>NaN</td>\n",
       "    </tr>\n",
       "    <tr>\n",
       "      <th>2</th>\n",
       "      <td>Social Enterprise</td>\n",
       "      <td>Social Entrepreneur, business, Entrepreneurshi...</td>\n",
       "      <td>Social Entrepreneur, Entrepreneurship</td>\n",
       "      <td>NaN</td>\n",
       "    </tr>\n",
       "    <tr>\n",
       "      <th>3</th>\n",
       "      <td>Environment</td>\n",
       "      <td>Recycle, Water, plastic, nature, fishery, farm...</td>\n",
       "      <td>Recycle, plastic, pollution, natural resources...</td>\n",
       "      <td>NaN</td>\n",
       "    </tr>\n",
       "    <tr>\n",
       "      <th>4</th>\n",
       "      <td>Disaster relief</td>\n",
       "      <td>Flood, natural disaster, cyclones, earthquakes...</td>\n",
       "      <td>Flood, natural disaster, cyclones, earthquakes...</td>\n",
       "      <td>NaN</td>\n",
       "    </tr>\n",
       "  </tbody>\n",
       "</table>\n",
       "</div>"
      ],
      "text/plain": [
       "                      Causes/ Columns  \\\n",
       "0          Health infectious diseases   \n",
       "1  Neglected tropical diseases (NTDs)   \n",
       "2                   Social Enterprise   \n",
       "3                         Environment   \n",
       "4                     Disaster relief   \n",
       "\n",
       "                                      Keywords_Set 1  \\\n",
       "0  HIV, AIDs, Tuberculosis, Clinic, Hepatitis, De...   \n",
       "1  Deworming, parasitic worms, neglected tropical...   \n",
       "2  Social Entrepreneur, business, Entrepreneurshi...   \n",
       "3  Recycle, Water, plastic, nature, fishery, farm...   \n",
       "4  Flood, natural disaster, cyclones, earthquakes...   \n",
       "\n",
       "                                      Keywords_Set 2 Yad's comments  \n",
       "0  HIV, AIDs, Tuberculosis, Hepatitis, Dengue, Ma...            NaN  \n",
       "1  Deworming, parasitic worms, neglected tropical...            NaN  \n",
       "2              Social Entrepreneur, Entrepreneurship            NaN  \n",
       "3  Recycle, plastic, pollution, natural resources...            NaN  \n",
       "4  Flood, natural disaster, cyclones, earthquakes...            NaN  "
      ]
     },
     "execution_count": 8,
     "metadata": {},
     "output_type": "execute_result"
    }
   ],
   "source": [
    "ea_df.head()"
   ]
  },
  {
   "cell_type": "code",
   "execution_count": 9,
   "metadata": {},
   "outputs": [],
   "source": [
    "ea_df['keywords_clean_words'] = get_cleaned_descriptions(list(ea_df[KEYWORDS_COLUMN]), True, True, True)\n",
    "ea_df['keywords_clean'] = get_sentence_from_list(list(ea_df['keywords_clean_words']))"
   ]
  },
  {
   "cell_type": "code",
   "execution_count": 10,
   "metadata": {},
   "outputs": [
    {
     "data": {
      "text/plain": [
       "0    [hiv, aids, tuberculosis, clinic, hepatitis, d...\n",
       "1    [deworming, parasitic, worm, neglect, tropical...\n",
       "2    [social, entrepreneur, business, entrepreneurs...\n",
       "3    [recycle, water, plastic, nature, fishery, far...\n",
       "4    [flood, natural, disaster, cyclone, earthquake...\n",
       "Name: keywords_clean_words, dtype: object"
      ]
     },
     "execution_count": 10,
     "metadata": {},
     "output_type": "execute_result"
    }
   ],
   "source": [
    "ea_df['keywords_clean_words'].head()"
   ]
  },
  {
   "cell_type": "code",
   "execution_count": 11,
   "metadata": {},
   "outputs": [
    {
     "data": {
      "text/plain": [
       "0    hiv aids tuberculosis clinic hepatitis dengue ...\n",
       "1    deworming parasitic worm neglect tropical dise...\n",
       "2    social entrepreneur business entrepreneurship ...\n",
       "3    recycle water plastic nature fishery farm poll...\n",
       "4    flood natural disaster cyclone earthquake reli...\n",
       "Name: keywords_clean, dtype: object"
      ]
     },
     "execution_count": 11,
     "metadata": {},
     "output_type": "execute_result"
    }
   ],
   "source": [
    "ea_df['keywords_clean'].head()"
   ]
  },
  {
   "cell_type": "markdown",
   "metadata": {},
   "source": [
    "## basic viz"
   ]
  },
  {
   "cell_type": "code",
   "execution_count": 12,
   "metadata": {},
   "outputs": [],
   "source": [
    "%matplotlib inline\n",
    "%run viz_setup.py"
   ]
  },
  {
   "cell_type": "markdown",
   "metadata": {},
   "source": [
    "#### cause areas (web scraped)"
   ]
  },
  {
   "cell_type": "code",
   "execution_count": 13,
   "metadata": {},
   "outputs": [],
   "source": [
    "from itertools import chain\n",
    "def get_web_cause_area_summary(web_df):\n",
    "    df = list(chain.from_iterable(list(web_df['cause_area_clean'].apply(lambda s: list(s)))))\n",
    "    df = pd.Series(df) \n",
    "    df = pd.DataFrame(df.value_counts().reset_index())\n",
    "    df.columns = ['cause area', 'count']\n",
    "    \n",
    "    total_cause_area_count = sum(df['count'])\n",
    "    df['%'] = df['count'].apply(lambda count: count/total_cause_area_count)\n",
    "    \n",
    "    return df\n",
    "\n",
    "web_cause_area_df = get_web_cause_area_summary(web_df)"
   ]
  },
  {
   "cell_type": "markdown",
   "metadata": {},
   "source": [
    "Q: top 20 cause areas with highest counts"
   ]
  },
  {
   "cell_type": "code",
   "execution_count": 14,
   "metadata": {},
   "outputs": [
    {
     "data": {
      "text/html": [
       "<div>\n",
       "<style>\n",
       "    .dataframe thead tr:only-child th {\n",
       "        text-align: right;\n",
       "    }\n",
       "\n",
       "    .dataframe thead th {\n",
       "        text-align: left;\n",
       "    }\n",
       "\n",
       "    .dataframe tbody tr th {\n",
       "        vertical-align: top;\n",
       "    }\n",
       "</style>\n",
       "<table border=\"1\" class=\"dataframe\">\n",
       "  <thead>\n",
       "    <tr style=\"text-align: right;\">\n",
       "      <th></th>\n",
       "      <th>cause area</th>\n",
       "      <th>count</th>\n",
       "      <th>%</th>\n",
       "    </tr>\n",
       "  </thead>\n",
       "  <tbody>\n",
       "    <tr>\n",
       "      <th>0</th>\n",
       "      <td>religious</td>\n",
       "      <td>1085</td>\n",
       "      <td>0.144052</td>\n",
       "    </tr>\n",
       "    <tr>\n",
       "      <th>1</th>\n",
       "      <td>education</td>\n",
       "      <td>463</td>\n",
       "      <td>0.061471</td>\n",
       "    </tr>\n",
       "    <tr>\n",
       "      <th>2</th>\n",
       "      <td>social and welfare</td>\n",
       "      <td>392</td>\n",
       "      <td>0.052045</td>\n",
       "    </tr>\n",
       "    <tr>\n",
       "      <th>3</th>\n",
       "      <td>health</td>\n",
       "      <td>281</td>\n",
       "      <td>0.037307</td>\n",
       "    </tr>\n",
       "    <tr>\n",
       "      <th>4</th>\n",
       "      <td>children</td>\n",
       "      <td>251</td>\n",
       "      <td>0.033324</td>\n",
       "    </tr>\n",
       "    <tr>\n",
       "      <th>5</th>\n",
       "      <td>charitable</td>\n",
       "      <td>242</td>\n",
       "      <td>0.032130</td>\n",
       "    </tr>\n",
       "    <tr>\n",
       "      <th>6</th>\n",
       "      <td>others</td>\n",
       "      <td>232</td>\n",
       "      <td>0.030802</td>\n",
       "    </tr>\n",
       "    <tr>\n",
       "      <th>7</th>\n",
       "      <td>environment</td>\n",
       "      <td>225</td>\n",
       "      <td>0.029873</td>\n",
       "    </tr>\n",
       "    <tr>\n",
       "      <th>8</th>\n",
       "      <td>support groups</td>\n",
       "      <td>214</td>\n",
       "      <td>0.028412</td>\n",
       "    </tr>\n",
       "    <tr>\n",
       "      <th>9</th>\n",
       "      <td>arts and heritage</td>\n",
       "      <td>147</td>\n",
       "      <td>0.019517</td>\n",
       "    </tr>\n",
       "    <tr>\n",
       "      <th>10</th>\n",
       "      <td>development</td>\n",
       "      <td>114</td>\n",
       "      <td>0.015135</td>\n",
       "    </tr>\n",
       "    <tr>\n",
       "      <th>11</th>\n",
       "      <td>community</td>\n",
       "      <td>103</td>\n",
       "      <td>0.013675</td>\n",
       "    </tr>\n",
       "    <tr>\n",
       "      <th>12</th>\n",
       "      <td>human rights</td>\n",
       "      <td>98</td>\n",
       "      <td>0.013011</td>\n",
       "    </tr>\n",
       "    <tr>\n",
       "      <th>13</th>\n",
       "      <td>educational</td>\n",
       "      <td>96</td>\n",
       "      <td>0.012746</td>\n",
       "    </tr>\n",
       "    <tr>\n",
       "      <th>14</th>\n",
       "      <td>differently abled</td>\n",
       "      <td>87</td>\n",
       "      <td>0.011551</td>\n",
       "    </tr>\n",
       "    <tr>\n",
       "      <th>15</th>\n",
       "      <td>social development</td>\n",
       "      <td>78</td>\n",
       "      <td>0.010356</td>\n",
       "    </tr>\n",
       "    <tr>\n",
       "      <th>16</th>\n",
       "      <td>children &amp; youth</td>\n",
       "      <td>75</td>\n",
       "      <td>0.009958</td>\n",
       "    </tr>\n",
       "    <tr>\n",
       "      <th>17</th>\n",
       "      <td>social services</td>\n",
       "      <td>72</td>\n",
       "      <td>0.009559</td>\n",
       "    </tr>\n",
       "    <tr>\n",
       "      <th>18</th>\n",
       "      <td>sports</td>\n",
       "      <td>70</td>\n",
       "      <td>0.009294</td>\n",
       "    </tr>\n",
       "    <tr>\n",
       "      <th>19</th>\n",
       "      <td>social and cultural development</td>\n",
       "      <td>64</td>\n",
       "      <td>0.008497</td>\n",
       "    </tr>\n",
       "  </tbody>\n",
       "</table>\n",
       "</div>"
      ],
      "text/plain": [
       "                         cause area  count         %\n",
       "0                         religious   1085  0.144052\n",
       "1                         education    463  0.061471\n",
       "2                social and welfare    392  0.052045\n",
       "3                            health    281  0.037307\n",
       "4                          children    251  0.033324\n",
       "5                        charitable    242  0.032130\n",
       "6                            others    232  0.030802\n",
       "7                       environment    225  0.029873\n",
       "8                    support groups    214  0.028412\n",
       "9                 arts and heritage    147  0.019517\n",
       "10                      development    114  0.015135\n",
       "11                        community    103  0.013675\n",
       "12                     human rights     98  0.013011\n",
       "13                      educational     96  0.012746\n",
       "14                differently abled     87  0.011551\n",
       "15               social development     78  0.010356\n",
       "16                 children & youth     75  0.009958\n",
       "17                  social services     72  0.009559\n",
       "18                           sports     70  0.009294\n",
       "19  social and cultural development     64  0.008497"
      ]
     },
     "execution_count": 14,
     "metadata": {},
     "output_type": "execute_result"
    }
   ],
   "source": [
    "web_cause_area_df[:20]"
   ]
  },
  {
   "cell_type": "markdown",
   "metadata": {},
   "source": [
    "Q: cause area by counts bar chart (all)"
   ]
  },
  {
   "cell_type": "code",
   "execution_count": 15,
   "metadata": {},
   "outputs": [
    {
     "data": {
      "image/png": "[encoded data removed]",
      "text/plain": [
       "<matplotlib.figure.Figure at 0x10bf9c518>"
      ]
     },
     "metadata": {},
     "output_type": "display_data"
    }
   ],
   "source": [
    "plt = web_cause_area_df.plot.bar(x='cause area', y='count')\n",
    "plt.xaxis.set_visible(False)"
   ]
  },
  {
   "cell_type": "markdown",
   "metadata": {},
   "source": [
    "Q: cause area by counts bar chart (top 20)"
   ]
  },
  {
   "cell_type": "code",
   "execution_count": 16,
   "metadata": {},
   "outputs": [
    {
     "data": {
      "text/plain": [
       "<matplotlib.axes._subplots.AxesSubplot at 0x10c57d6d8>"
      ]
     },
     "execution_count": 16,
     "metadata": {},
     "output_type": "execute_result"
    },
    {
     "data": {
      "image/png": "[encoded data removed]",
      "text/plain": [
       "<matplotlib.figure.Figure at 0x10c342e80>"
      ]
     },
     "metadata": {},
     "output_type": "display_data"
    }
   ],
   "source": [
    "plt = web_cause_area_df[:20].plot.bar(x='cause area', y='count')\n",
    "plt"
   ]
  },
  {
   "cell_type": "markdown",
   "metadata": {},
   "source": [
    "Q: total number of unique cause areas"
   ]
  },
  {
   "cell_type": "code",
   "execution_count": 17,
   "metadata": {},
   "outputs": [
    {
     "data": {
      "text/plain": [
       "586"
      ]
     },
     "execution_count": 17,
     "metadata": {},
     "output_type": "execute_result"
    }
   ],
   "source": [
    "len(web_cause_area_df)"
   ]
  },
  {
   "cell_type": "markdown",
   "metadata": {},
   "source": [
    "Q: total number of organization"
   ]
  },
  {
   "cell_type": "code",
   "execution_count": 18,
   "metadata": {},
   "outputs": [
    {
     "data": {
      "text/plain": [
       "7532"
      ]
     },
     "execution_count": 18,
     "metadata": {},
     "output_type": "execute_result"
    }
   ],
   "source": [
    "sum(web_cause_area_df['count'])"
   ]
  },
  {
   "cell_type": "markdown",
   "metadata": {},
   "source": [
    "## create features: count vectors for each description\n",
    "- take top 20 web_cause_areas by count"
   ]
  },
  {
   "cell_type": "code",
   "execution_count": 38,
   "metadata": {},
   "outputs": [],
   "source": [
    "## ml setup\n",
    "import sklearn\n",
    "from sklearn.model_selection import train_test_split\n",
    "from sklearn.feature_extraction.text import CountVectorizer\n",
    "from sklearn.preprocessing import MultiLabelBinarizer\n",
    "from sklearn import tree\n",
    "from sklearn import ensemble\n",
    "from sklearn.metrics import accuracy_score"
   ]
  },
  {
   "cell_type": "markdown",
   "metadata": {},
   "source": [
    "#### select top 20 cause areas (web scrape)"
   ]
  },
  {
   "cell_type": "markdown",
   "metadata": {},
   "source": [
    "Q: top 20 cause areas"
   ]
  },
  {
   "cell_type": "code",
   "execution_count": 20,
   "metadata": {},
   "outputs": [
    {
     "data": {
      "text/plain": [
       "{'arts and heritage',\n",
       " 'charitable',\n",
       " 'children',\n",
       " 'children & youth',\n",
       " 'community',\n",
       " 'development',\n",
       " 'differently abled',\n",
       " 'education',\n",
       " 'educational',\n",
       " 'environment',\n",
       " 'health',\n",
       " 'human rights',\n",
       " 'others',\n",
       " 'religious',\n",
       " 'social and cultural development',\n",
       " 'social and welfare',\n",
       " 'social development',\n",
       " 'social services',\n",
       " 'sports',\n",
       " 'support groups'}"
      ]
     },
     "execution_count": 20,
     "metadata": {},
     "output_type": "execute_result"
    }
   ],
   "source": [
    "web_cause_area_select = web_cause_area_df[:20]\n",
    "set(web_cause_area_select['cause area'])"
   ]
  },
  {
   "cell_type": "markdown",
   "metadata": {},
   "source": [
    "Q: proportion of top 20 web cause areas (against all counts)"
   ]
  },
  {
   "cell_type": "code",
   "execution_count": 21,
   "metadata": {},
   "outputs": [
    {
     "data": {
      "text/plain": [
       "0.58271375464684005"
      ]
     },
     "execution_count": 21,
     "metadata": {},
     "output_type": "execute_result"
    }
   ],
   "source": [
    "sum(web_cause_area_select['%'])"
   ]
  },
  {
   "cell_type": "markdown",
   "metadata": {},
   "source": [
    "create cause_area_clean_filter (ie. a copy of cause_area_clean with only filtered matches)"
   ]
  },
  {
   "cell_type": "code",
   "execution_count": 22,
   "metadata": {},
   "outputs": [],
   "source": [
    "web_df['cause_area_clean_filter'] = \\\n",
    "    web_df['cause_area_clean'].apply(lambda c: c.intersection(set(web_cause_area_select['cause area'])))"
   ]
  },
  {
   "cell_type": "markdown",
   "metadata": {},
   "source": [
    "#### select orgs in selected cause areas"
   ]
  },
  {
   "cell_type": "code",
   "execution_count": 23,
   "metadata": {},
   "outputs": [],
   "source": [
    "def select_orgs_in_cause_area(df, cause_areas):\n",
    "    matched_indexes = df['cause_area_clean'] \\\n",
    "        .apply(lambda c: len(c.intersection(cause_areas))) \\\n",
    "        .where(lambda count: count > 1) \\\n",
    "        .dropna() \\\n",
    "        .index\n",
    "    return df.iloc[matched_indexes]\n",
    "\n",
    "web_df_select = select_orgs_in_cause_area(web_df, set(web_cause_area_select['cause area']))"
   ]
  },
  {
   "cell_type": "code",
   "execution_count": 24,
   "metadata": {},
   "outputs": [
    {
     "data": {
      "text/html": [
       "<div>\n",
       "<style>\n",
       "    .dataframe thead tr:only-child th {\n",
       "        text-align: right;\n",
       "    }\n",
       "\n",
       "    .dataframe thead th {\n",
       "        text-align: left;\n",
       "    }\n",
       "\n",
       "    .dataframe tbody tr th {\n",
       "        vertical-align: top;\n",
       "    }\n",
       "</style>\n",
       "<table border=\"1\" class=\"dataframe\">\n",
       "  <thead>\n",
       "    <tr style=\"text-align: right;\">\n",
       "      <th></th>\n",
       "      <th>name</th>\n",
       "      <th>description</th>\n",
       "      <th>website</th>\n",
       "      <th>cause_area</th>\n",
       "      <th>programme_types</th>\n",
       "      <th>address</th>\n",
       "      <th>country</th>\n",
       "      <th>city</th>\n",
       "      <th>contact_number</th>\n",
       "      <th>email</th>\n",
       "      <th>...</th>\n",
       "      <th>Details.URL</th>\n",
       "      <th>fax</th>\n",
       "      <th>revenue</th>\n",
       "      <th>employees</th>\n",
       "      <th>lat</th>\n",
       "      <th>lon</th>\n",
       "      <th>desc_clean_words</th>\n",
       "      <th>desc_clean</th>\n",
       "      <th>cause_area_clean</th>\n",
       "      <th>cause_area_clean_filter</th>\n",
       "    </tr>\n",
       "  </thead>\n",
       "  <tbody>\n",
       "    <tr>\n",
       "      <th>9</th>\n",
       "      <td>Kupu Kupu Foundation Indonesia</td>\n",
       "      <td>We help improve lives by assisting with medica...</td>\n",
       "      <td>http://www.kupukupufoundation.org</td>\n",
       "      <td>Children, Health, Education &amp; Schools</td>\n",
       "      <td>Kupu-Kupu Foundation improves the lives of peo...</td>\n",
       "      <td>Jl. Tirta Tawar No.22, Ubud, Kabupaten Gianyar...</td>\n",
       "      <td>indonesia</td>\n",
       "      <td>Ubud</td>\n",
       "      <td>+62 812 3628720</td>\n",
       "      <td>begonia@kupukupufoundation.org</td>\n",
       "      <td>...</td>\n",
       "      <td>NaN</td>\n",
       "      <td>NaN</td>\n",
       "      <td>NaN</td>\n",
       "      <td>NaN</td>\n",
       "      <td>-8.506246</td>\n",
       "      <td>115.268599</td>\n",
       "      <td>[we, help, improve, live, assist, medical, car...</td>\n",
       "      <td>we help improve live assist medical care medic...</td>\n",
       "      <td>{education &amp; schools, children, health}</td>\n",
       "      <td>{children, health}</td>\n",
       "    </tr>\n",
       "    <tr>\n",
       "      <th>10</th>\n",
       "      <td>Yayasan Solemen Indonesia</td>\n",
       "      <td>Yayasan Solemen Indonesia, an Indonesian regis...</td>\n",
       "      <td>http://www.solemen.org</td>\n",
       "      <td>Balinese People, Children, Health, General Wel...</td>\n",
       "      <td>Our mission is to help the disadvantaged in Ba...</td>\n",
       "      <td>80363, Jl. Danau Poso No.55, Sanur Kauh, South...</td>\n",
       "      <td>indonesia</td>\n",
       "      <td>Kuta</td>\n",
       "      <td>+62  0812 3720 6220</td>\n",
       "      <td>info@solemen.org</td>\n",
       "      <td>...</td>\n",
       "      <td>NaN</td>\n",
       "      <td>NaN</td>\n",
       "      <td>NaN</td>\n",
       "      <td>NaN</td>\n",
       "      <td>-8.705537</td>\n",
       "      <td>115.252546</td>\n",
       "      <td>[yayasan, solemen, indonesia, indonesian, regi...</td>\n",
       "      <td>yayasan solemen indonesia indonesian register ...</td>\n",
       "      <td>{balinese people, general wellbeing, children,...</td>\n",
       "      <td>{children, health}</td>\n",
       "    </tr>\n",
       "    <tr>\n",
       "      <th>14</th>\n",
       "      <td>Fair Future Foundation</td>\n",
       "      <td>Free healthcare for people in need</td>\n",
       "      <td>http://www.fairfuturefoundation.org</td>\n",
       "      <td>Balinese People, Children, Health, General Wel...</td>\n",
       "      <td>to improve the daily life of the local communi...</td>\n",
       "      <td>Jalan Sriwedari 6, Taman Kaja, Ubud, Bali 8051...</td>\n",
       "      <td>indonesia</td>\n",
       "      <td>Ubud</td>\n",
       "      <td>+62 361 975370</td>\n",
       "      <td>info@fairfuturefoundation.org</td>\n",
       "      <td>...</td>\n",
       "      <td>NaN</td>\n",
       "      <td>NaN</td>\n",
       "      <td>NaN</td>\n",
       "      <td>NaN</td>\n",
       "      <td>-8.507416</td>\n",
       "      <td>115.265190</td>\n",
       "      <td>[free, healthcare, people, need]</td>\n",
       "      <td>free healthcare people need</td>\n",
       "      <td>{balinese people, general wellbeing, children,...</td>\n",
       "      <td>{children, health}</td>\n",
       "    </tr>\n",
       "    <tr>\n",
       "      <th>26</th>\n",
       "      <td>Yayasan Kemanusiaan Ibu Pertiwi</td>\n",
       "      <td>YKIP (Yayasan Kemanusiaan Ibu Pertiwi) or the ...</td>\n",
       "      <td>http://www.ykip.org</td>\n",
       "      <td>Children, Health, Education &amp; Schools</td>\n",
       "      <td>Our mission is to restore vision. Our vision i...</td>\n",
       "      <td>Jalan By Pass Ngurah Rai, Gang Mina Utama No.1...</td>\n",
       "      <td>indonesia</td>\n",
       "      <td>Tuban</td>\n",
       "      <td>+62 361 761208</td>\n",
       "      <td>info@ykip.org</td>\n",
       "      <td>...</td>\n",
       "      <td>NaN</td>\n",
       "      <td>NaN</td>\n",
       "      <td>NaN</td>\n",
       "      <td>NaN</td>\n",
       "      <td>-8.715940</td>\n",
       "      <td>115.220705</td>\n",
       "      <td>[ykip, yayasan, kemanusiaan, ibu, pertiwi, hum...</td>\n",
       "      <td>ykip yayasan kemanusiaan ibu pertiwi humanitar...</td>\n",
       "      <td>{education &amp; schools, children, health}</td>\n",
       "      <td>{children, health}</td>\n",
       "    </tr>\n",
       "    <tr>\n",
       "      <th>2557</th>\n",
       "      <td>MÃ¢ÂÂLop Tapang</td>\n",
       "      <td>M'lop Tapang is a comprehensive center dedicat...</td>\n",
       "      <td>NaN</td>\n",
       "      <td>Education, Health, Economic Empowerment, Right...</td>\n",
       "      <td>NaN</td>\n",
       "      <td>NaN</td>\n",
       "      <td>cambodia</td>\n",
       "      <td>NaN</td>\n",
       "      <td>NaN</td>\n",
       "      <td>NaN</td>\n",
       "      <td>...</td>\n",
       "      <td>NaN</td>\n",
       "      <td>NaN</td>\n",
       "      <td>NaN</td>\n",
       "      <td>NaN</td>\n",
       "      <td>NaN</td>\n",
       "      <td>NaN</td>\n",
       "      <td>[m'lop, tapang, comprehensive, center, dedicat...</td>\n",
       "      <td>m'lop tapang comprehensive center dedicate dis...</td>\n",
       "      <td>{economic empowerment, rights protection, heal...</td>\n",
       "      <td>{education, health}</td>\n",
       "    </tr>\n",
       "  </tbody>\n",
       "</table>\n",
       "<p>5 rows × 29 columns</p>\n",
       "</div>"
      ],
      "text/plain": [
       "                                 name  \\\n",
       "9      Kupu Kupu Foundation Indonesia   \n",
       "10          Yayasan Solemen Indonesia   \n",
       "14             Fair Future Foundation   \n",
       "26    Yayasan Kemanusiaan Ibu Pertiwi   \n",
       "2557                MÃ¢ÂÂLop Tapang   \n",
       "\n",
       "                                            description  \\\n",
       "9     We help improve lives by assisting with medica...   \n",
       "10    Yayasan Solemen Indonesia, an Indonesian regis...   \n",
       "14                   Free healthcare for people in need   \n",
       "26    YKIP (Yayasan Kemanusiaan Ibu Pertiwi) or the ...   \n",
       "2557  M'lop Tapang is a comprehensive center dedicat...   \n",
       "\n",
       "                                  website  \\\n",
       "9       http://www.kupukupufoundation.org   \n",
       "10                 http://www.solemen.org   \n",
       "14    http://www.fairfuturefoundation.org   \n",
       "26                    http://www.ykip.org   \n",
       "2557                                  NaN   \n",
       "\n",
       "                                             cause_area  \\\n",
       "9                 Children, Health, Education & Schools   \n",
       "10    Balinese People, Children, Health, General Wel...   \n",
       "14    Balinese People, Children, Health, General Wel...   \n",
       "26                Children, Health, Education & Schools   \n",
       "2557  Education, Health, Economic Empowerment, Right...   \n",
       "\n",
       "                                        programme_types  \\\n",
       "9     Kupu-Kupu Foundation improves the lives of peo...   \n",
       "10    Our mission is to help the disadvantaged in Ba...   \n",
       "14    to improve the daily life of the local communi...   \n",
       "26    Our mission is to restore vision. Our vision i...   \n",
       "2557                                                NaN   \n",
       "\n",
       "                                                address    country   city  \\\n",
       "9     Jl. Tirta Tawar No.22, Ubud, Kabupaten Gianyar...  indonesia   Ubud   \n",
       "10    80363, Jl. Danau Poso No.55, Sanur Kauh, South...  indonesia   Kuta   \n",
       "14    Jalan Sriwedari 6, Taman Kaja, Ubud, Bali 8051...  indonesia   Ubud   \n",
       "26    Jalan By Pass Ngurah Rai, Gang Mina Utama No.1...  indonesia  Tuban   \n",
       "2557                                                NaN   cambodia    NaN   \n",
       "\n",
       "           contact_number                           email  \\\n",
       "9         +62 812 3628720  begonia@kupukupufoundation.org   \n",
       "10    +62  0812 3720 6220                info@solemen.org   \n",
       "14         +62 361 975370   info@fairfuturefoundation.org   \n",
       "26         +62 361 761208                   info@ykip.org   \n",
       "2557                  NaN                             NaN   \n",
       "\n",
       "               ...           Details.URL fax revenue employees       lat  \\\n",
       "9              ...                   NaN NaN     NaN       NaN -8.506246   \n",
       "10             ...                   NaN NaN     NaN       NaN -8.705537   \n",
       "14             ...                   NaN NaN     NaN       NaN -8.507416   \n",
       "26             ...                   NaN NaN     NaN       NaN -8.715940   \n",
       "2557           ...                   NaN NaN     NaN       NaN       NaN   \n",
       "\n",
       "             lon                                   desc_clean_words  \\\n",
       "9     115.268599  [we, help, improve, live, assist, medical, car...   \n",
       "10    115.252546  [yayasan, solemen, indonesia, indonesian, regi...   \n",
       "14    115.265190                   [free, healthcare, people, need]   \n",
       "26    115.220705  [ykip, yayasan, kemanusiaan, ibu, pertiwi, hum...   \n",
       "2557         NaN  [m'lop, tapang, comprehensive, center, dedicat...   \n",
       "\n",
       "                                             desc_clean  \\\n",
       "9     we help improve live assist medical care medic...   \n",
       "10    yayasan solemen indonesia indonesian register ...   \n",
       "14                          free healthcare people need   \n",
       "26    ykip yayasan kemanusiaan ibu pertiwi humanitar...   \n",
       "2557  m'lop tapang comprehensive center dedicate dis...   \n",
       "\n",
       "                                       cause_area_clean  \\\n",
       "9               {education & schools, children, health}   \n",
       "10    {balinese people, general wellbeing, children,...   \n",
       "14    {balinese people, general wellbeing, children,...   \n",
       "26              {education & schools, children, health}   \n",
       "2557  {economic empowerment, rights protection, heal...   \n",
       "\n",
       "     cause_area_clean_filter  \n",
       "9         {children, health}  \n",
       "10        {children, health}  \n",
       "14        {children, health}  \n",
       "26        {children, health}  \n",
       "2557     {education, health}  \n",
       "\n",
       "[5 rows x 29 columns]"
      ]
     },
     "execution_count": 24,
     "metadata": {},
     "output_type": "execute_result"
    }
   ],
   "source": [
    "web_df_select.head()"
   ]
  },
  {
   "cell_type": "markdown",
   "metadata": {},
   "source": [
    "Q: total number of organizations after filtering"
   ]
  },
  {
   "cell_type": "code",
   "execution_count": 25,
   "metadata": {},
   "outputs": [
    {
     "data": {
      "text/plain": [
       "258"
      ]
     },
     "execution_count": 25,
     "metadata": {},
     "output_type": "execute_result"
    }
   ],
   "source": [
    "len(web_df_select)"
   ]
  },
  {
   "cell_type": "markdown",
   "metadata": {},
   "source": [
    "#### split train/test/validation"
   ]
  },
  {
   "cell_type": "code",
   "execution_count": 26,
   "metadata": {},
   "outputs": [],
   "source": [
    "train_ratio, test_ratio, validation_ratio_from_test = (0.8,0.2,0.5)"
   ]
  },
  {
   "cell_type": "code",
   "execution_count": 27,
   "metadata": {},
   "outputs": [],
   "source": [
    "def do_train_test_validation_split(df, train_ratio, test_ratio, validation_ratio_from_test, random_state=None):\n",
    "    train_data, test_data = \\\n",
    "        train_test_split(df, train_size=train_ratio, test_size=test_ratio, random_state=random_state)\n",
    "    validation_data, test_data = \\\n",
    "        train_test_split(test_data, train_size=validation_ratio_from_test, \n",
    "                          test_size=1-validation_ratio_from_test, random_state=random_state)\n",
    "            \n",
    "    return train_data, test_data, validation_data\n",
    "    \n",
    "train_data, test_data, validation_data = \\\n",
    "    do_train_test_validation_split(web_df_select, train_ratio, test_ratio, validation_ratio_from_test)"
   ]
  },
  {
   "cell_type": "markdown",
   "metadata": {},
   "source": [
    "#### encode org descriptions using CountVectorizer"
   ]
  },
  {
   "cell_type": "code",
   "execution_count": 28,
   "metadata": {},
   "outputs": [],
   "source": [
    "count_vectorizer = CountVectorizer(max_features=100)\n",
    "\n",
    "train_data_feat = count_vectorizer.fit_transform(train_data['desc_clean'])\n",
    "test_data_feat = count_vectorizer.transform(test_data['desc_clean'])\n",
    "validation_data_feat = count_vectorizer.transform(test_data['desc_clean'])"
   ]
  },
  {
   "cell_type": "markdown",
   "metadata": {},
   "source": [
    "## create labels: cause area categories\n",
    "#### encode cause area categories to multi-label"
   ]
  },
  {
   "cell_type": "code",
   "execution_count": 29,
   "metadata": {},
   "outputs": [
    {
     "data": {
      "text/plain": [
       "array(['arts and heritage', 'charitable', 'children', 'children & youth',\n",
       "       'community', 'development', 'differently abled', 'education',\n",
       "       'educational', 'environment', 'health', 'human rights', 'others',\n",
       "       'religious', 'social and cultural development',\n",
       "       'social and welfare', 'social development', 'social services',\n",
       "       'sports', 'support groups'], dtype=object)"
      ]
     },
     "execution_count": 29,
     "metadata": {},
     "output_type": "execute_result"
    }
   ],
   "source": [
    "mlb = MultiLabelBinarizer()\n",
    "mlb.fit([web_cause_area_select['cause area']])\n",
    "mlb.classes_"
   ]
  },
  {
   "cell_type": "code",
   "execution_count": 30,
   "metadata": {},
   "outputs": [
    {
     "data": {
      "text/html": [
       "<div>\n",
       "<style>\n",
       "    .dataframe thead tr:only-child th {\n",
       "        text-align: right;\n",
       "    }\n",
       "\n",
       "    .dataframe thead th {\n",
       "        text-align: left;\n",
       "    }\n",
       "\n",
       "    .dataframe tbody tr th {\n",
       "        vertical-align: top;\n",
       "    }\n",
       "</style>\n",
       "<table border=\"1\" class=\"dataframe\">\n",
       "  <thead>\n",
       "    <tr style=\"text-align: right;\">\n",
       "      <th></th>\n",
       "      <th>name</th>\n",
       "      <th>description</th>\n",
       "      <th>website</th>\n",
       "      <th>cause_area</th>\n",
       "      <th>programme_types</th>\n",
       "      <th>address</th>\n",
       "      <th>country</th>\n",
       "      <th>city</th>\n",
       "      <th>contact_number</th>\n",
       "      <th>email</th>\n",
       "      <th>...</th>\n",
       "      <th>Details.URL</th>\n",
       "      <th>fax</th>\n",
       "      <th>revenue</th>\n",
       "      <th>employees</th>\n",
       "      <th>lat</th>\n",
       "      <th>lon</th>\n",
       "      <th>desc_clean_words</th>\n",
       "      <th>desc_clean</th>\n",
       "      <th>cause_area_clean</th>\n",
       "      <th>cause_area_clean_filter</th>\n",
       "    </tr>\n",
       "  </thead>\n",
       "  <tbody>\n",
       "    <tr>\n",
       "      <th>10236</th>\n",
       "      <td>Kapampangan Development Foundation, Inc.</td>\n",
       "      <td>Company Description:\\nThe Kapampangan Developm...</td>\n",
       "      <td>kapampangandevelopmentfoundation.org</td>\n",
       "      <td>Charitable,Social Development</td>\n",
       "      <td>NaN</td>\n",
       "      <td>Jesus A. Datu Medical Center, Brgy. San Vicent...</td>\n",
       "      <td>NaN</td>\n",
       "      <td>NaN</td>\n",
       "      <td>NaN</td>\n",
       "      <td>NaN</td>\n",
       "      <td>...</td>\n",
       "      <td>NaN</td>\n",
       "      <td>NaN</td>\n",
       "      <td>NaN</td>\n",
       "      <td>NaN</td>\n",
       "      <td>15.000315</td>\n",
       "      <td>120.652514</td>\n",
       "      <td>[company, description, \\n, the, kapampangan, d...</td>\n",
       "      <td>company description \\n the kapampangan develop...</td>\n",
       "      <td>{social development, charitable}</td>\n",
       "      <td>{social development, charitable}</td>\n",
       "    </tr>\n",
       "    <tr>\n",
       "      <th>10262</th>\n",
       "      <td>Monark Foundation, Inc.</td>\n",
       "      <td>Company Description:\\nMonark Foundation, Inc. ...</td>\n",
       "      <td>www.monarkfoundation.org</td>\n",
       "      <td>Charitable,Educational</td>\n",
       "      <td>NaN</td>\n",
       "      <td>13 Economia Street, Bagumbayan, Quezon City</td>\n",
       "      <td>NaN</td>\n",
       "      <td>NaN</td>\n",
       "      <td>NaN</td>\n",
       "      <td>NaN</td>\n",
       "      <td>...</td>\n",
       "      <td>NaN</td>\n",
       "      <td>NaN</td>\n",
       "      <td>NaN</td>\n",
       "      <td>NaN</td>\n",
       "      <td>-22.139555</td>\n",
       "      <td>17.222061</td>\n",
       "      <td>[company, description, \\n, monark, foundation,...</td>\n",
       "      <td>company description \\n monark foundation inc. ...</td>\n",
       "      <td>{educational, charitable}</td>\n",
       "      <td>{educational, charitable}</td>\n",
       "    </tr>\n",
       "    <tr>\n",
       "      <th>3385</th>\n",
       "      <td>MEDRIX</td>\n",
       "      <td>Bring Safe Water to School Kids in Vietnam: Ma...</td>\n",
       "      <td>NaN</td>\n",
       "      <td>Health, Children, Education, Children, WomenÃ...</td>\n",
       "      <td>NaN</td>\n",
       "      <td>NaN</td>\n",
       "      <td>vietnam</td>\n",
       "      <td>NaN</td>\n",
       "      <td>NaN</td>\n",
       "      <td>NaN</td>\n",
       "      <td>...</td>\n",
       "      <td>NaN</td>\n",
       "      <td>NaN</td>\n",
       "      <td>NaN</td>\n",
       "      <td>NaN</td>\n",
       "      <td>NaN</td>\n",
       "      <td>NaN</td>\n",
       "      <td>[bring, safe, water, school, kids, vietnam, ma...</td>\n",
       "      <td>bring safe water school kids vietnam many chil...</td>\n",
       "      <td>{womenãâ andãâ girls, education, children, h...</td>\n",
       "      <td>{health, children, education}</td>\n",
       "    </tr>\n",
       "    <tr>\n",
       "      <th>3416</th>\n",
       "      <td>Siam-Care Foundation</td>\n",
       "      <td>Holistic Care for 450 HIV Positive Thai Famili...</td>\n",
       "      <td>NaN</td>\n",
       "      <td>Children, WomenÃÂ andÃÂ Girls, Health, Human...</td>\n",
       "      <td>NaN</td>\n",
       "      <td>NaN</td>\n",
       "      <td>thailand</td>\n",
       "      <td>NaN</td>\n",
       "      <td>NaN</td>\n",
       "      <td>NaN</td>\n",
       "      <td>...</td>\n",
       "      <td>NaN</td>\n",
       "      <td>NaN</td>\n",
       "      <td>NaN</td>\n",
       "      <td>NaN</td>\n",
       "      <td>NaN</td>\n",
       "      <td>NaN</td>\n",
       "      <td>[holistic, care, 450, hiv, positive, thai, fam...</td>\n",
       "      <td>holistic care 450 hiv positive thai families m...</td>\n",
       "      <td>{humanãâ rights, health, children, womenãâ a...</td>\n",
       "      <td>{education, children, health}</td>\n",
       "    </tr>\n",
       "    <tr>\n",
       "      <th>10540</th>\n",
       "      <td>All Burma I.t. Student Union</td>\n",
       "      <td>ABITSF - The All Burma I.T StudentsÂ?? Front ...</td>\n",
       "      <td>http://abitsu.org</td>\n",
       "      <td>Community Service,Educational,Human Rights,</td>\n",
       "      <td>NaN</td>\n",
       "      <td>NaN</td>\n",
       "      <td>thailand</td>\n",
       "      <td>Mae Sot</td>\n",
       "      <td>NaN</td>\n",
       "      <td>NaN</td>\n",
       "      <td>...</td>\n",
       "      <td>NaN</td>\n",
       "      <td>NaN</td>\n",
       "      <td>NaN</td>\n",
       "      <td>NaN</td>\n",
       "      <td>NaN</td>\n",
       "      <td>NaN</td>\n",
       "      <td>[abitsf, the, all, burma, i.t, studentsâ, fro...</td>\n",
       "      <td>abitsf the all burma i.t studentsâ front form...</td>\n",
       "      <td>{human rights, educational, community service}</td>\n",
       "      <td>{human rights, educational}</td>\n",
       "    </tr>\n",
       "  </tbody>\n",
       "</table>\n",
       "<p>5 rows × 29 columns</p>\n",
       "</div>"
      ],
      "text/plain": [
       "                                           name  \\\n",
       "10236  Kapampangan Development Foundation, Inc.   \n",
       "10262                   Monark Foundation, Inc.   \n",
       "3385                                     MEDRIX   \n",
       "3416                       Siam-Care Foundation   \n",
       "10540              All Burma I.t. Student Union   \n",
       "\n",
       "                                             description  \\\n",
       "10236  Company Description:\\nThe Kapampangan Developm...   \n",
       "10262  Company Description:\\nMonark Foundation, Inc. ...   \n",
       "3385   Bring Safe Water to School Kids in Vietnam: Ma...   \n",
       "3416   Holistic Care for 450 HIV Positive Thai Famili...   \n",
       "10540  ABITSF - The All Burma I.T StudentsÂ?? Front ...   \n",
       "\n",
       "                                    website  \\\n",
       "10236  kapampangandevelopmentfoundation.org   \n",
       "10262              www.monarkfoundation.org   \n",
       "3385                                    NaN   \n",
       "3416                                    NaN   \n",
       "10540                     http://abitsu.org   \n",
       "\n",
       "                                              cause_area programme_types  \\\n",
       "10236                      Charitable,Social Development             NaN   \n",
       "10262                             Charitable,Educational             NaN   \n",
       "3385   Health, Children, Education, Children, WomenÃ...             NaN   \n",
       "3416   Children, WomenÃÂ andÃÂ Girls, Health, Human...             NaN   \n",
       "10540        Community Service,Educational,Human Rights,             NaN   \n",
       "\n",
       "                                                 address   country     city  \\\n",
       "10236  Jesus A. Datu Medical Center, Brgy. San Vicent...       NaN      NaN   \n",
       "10262        13 Economia Street, Bagumbayan, Quezon City       NaN      NaN   \n",
       "3385                                                 NaN   vietnam      NaN   \n",
       "3416                                                 NaN  thailand      NaN   \n",
       "10540                                                NaN  thailand  Mae Sot   \n",
       "\n",
       "      contact_number email                ...                Details.URL fax  \\\n",
       "10236            NaN   NaN                ...                        NaN NaN   \n",
       "10262            NaN   NaN                ...                        NaN NaN   \n",
       "3385             NaN   NaN                ...                        NaN NaN   \n",
       "3416             NaN   NaN                ...                        NaN NaN   \n",
       "10540            NaN   NaN                ...                        NaN NaN   \n",
       "\n",
       "      revenue employees        lat         lon  \\\n",
       "10236     NaN       NaN  15.000315  120.652514   \n",
       "10262     NaN       NaN -22.139555   17.222061   \n",
       "3385      NaN       NaN        NaN         NaN   \n",
       "3416      NaN       NaN        NaN         NaN   \n",
       "10540     NaN       NaN        NaN         NaN   \n",
       "\n",
       "                                        desc_clean_words  \\\n",
       "10236  [company, description, \\n, the, kapampangan, d...   \n",
       "10262  [company, description, \\n, monark, foundation,...   \n",
       "3385   [bring, safe, water, school, kids, vietnam, ma...   \n",
       "3416   [holistic, care, 450, hiv, positive, thai, fam...   \n",
       "10540  [abitsf, the, all, burma, i.t, studentsâ, fro...   \n",
       "\n",
       "                                              desc_clean  \\\n",
       "10236  company description \\n the kapampangan develop...   \n",
       "10262  company description \\n monark foundation inc. ...   \n",
       "3385   bring safe water school kids vietnam many chil...   \n",
       "3416   holistic care 450 hiv positive thai families m...   \n",
       "10540  abitsf the all burma i.t studentsâ front form...   \n",
       "\n",
       "                                        cause_area_clean  \\\n",
       "10236                   {social development, charitable}   \n",
       "10262                          {educational, charitable}   \n",
       "3385   {womenãâ andãâ girls, education, children, h...   \n",
       "3416   {humanãâ rights, health, children, womenãâ a...   \n",
       "10540     {human rights, educational, community service}   \n",
       "\n",
       "                cause_area_clean_filter  \n",
       "10236  {social development, charitable}  \n",
       "10262         {educational, charitable}  \n",
       "3385      {health, children, education}  \n",
       "3416      {education, children, health}  \n",
       "10540       {human rights, educational}  \n",
       "\n",
       "[5 rows x 29 columns]"
      ]
     },
     "execution_count": 30,
     "metadata": {},
     "output_type": "execute_result"
    }
   ],
   "source": [
    "validation_data.head()"
   ]
  },
  {
   "cell_type": "code",
   "execution_count": 31,
   "metadata": {},
   "outputs": [],
   "source": [
    "train_data_label = mlb.transform(train_data['cause_area_clean_filter'])\n",
    "test_data_label = mlb.transform(test_data['cause_area_clean_filter'])\n",
    "validation_data_label = mlb.transform(validation_data['cause_area_clean_filter'])"
   ]
  },
  {
   "cell_type": "markdown",
   "metadata": {},
   "source": [
    "## classify orgs"
   ]
  },
  {
   "cell_type": "code",
   "execution_count": 46,
   "metadata": {},
   "outputs": [],
   "source": [
    "clf = ensemble.RandomForestClassifier()\n",
    "clf = clf.fit(train_data_feat, train_data_label)\n",
    "test_predict = clf.predict(test_data_feat)\n",
    "train_predict = clf.predict(train_data_feat)"
   ]
  },
  {
   "cell_type": "markdown",
   "metadata": {},
   "source": [
    "## classifier performance"
   ]
  },
  {
   "cell_type": "code",
   "execution_count": 47,
   "metadata": {},
   "outputs": [],
   "source": [
    "## accuracy helper\n",
    "def get_accuracy(true_labels, predicted_labels):\n",
    "    accuracies = {}\n",
    "    \n",
    "    predicted_classes = list(mlb.classes_)\n",
    "    for cause_area in web_cause_area_select['cause area']:\n",
    "        index = predicted_classes.index(cause_area)\n",
    "        accuracy = accuracy_score(\n",
    "            [a[index] for a in true_labels],\n",
    "            [a[index] for a in predicted_labels]\n",
    "        )\n",
    "        accuracies[cause_area] = accuracy\n",
    "        \n",
    "    return accuracies"
   ]
  },
  {
   "cell_type": "markdown",
   "metadata": {},
   "source": [
    "on train data"
   ]
  },
  {
   "cell_type": "code",
   "execution_count": 48,
   "metadata": {},
   "outputs": [
    {
     "data": {
      "text/plain": [
       "{'arts and heritage': 1.0,\n",
       " 'charitable': 1.0,\n",
       " 'children': 1.0,\n",
       " 'children & youth': 1.0,\n",
       " 'community': 0.99029126213592233,\n",
       " 'development': 1.0,\n",
       " 'differently abled': 1.0,\n",
       " 'education': 0.99514563106796117,\n",
       " 'educational': 0.99514563106796117,\n",
       " 'environment': 0.9854368932038835,\n",
       " 'health': 0.9854368932038835,\n",
       " 'human rights': 0.99514563106796117,\n",
       " 'others': 1.0,\n",
       " 'religious': 0.99029126213592233,\n",
       " 'social and cultural development': 1.0,\n",
       " 'social and welfare': 1.0,\n",
       " 'social development': 0.99514563106796117,\n",
       " 'social services': 1.0,\n",
       " 'sports': 1.0,\n",
       " 'support groups': 1.0}"
      ]
     },
     "execution_count": 48,
     "metadata": {},
     "output_type": "execute_result"
    }
   ],
   "source": [
    "get_accuracy(train_data_label, train_predict)"
   ]
  },
  {
   "cell_type": "markdown",
   "metadata": {},
   "source": [
    "on test data"
   ]
  },
  {
   "cell_type": "code",
   "execution_count": 49,
   "metadata": {},
   "outputs": [
    {
     "data": {
      "text/plain": [
       "{'arts and heritage': 1.0,\n",
       " 'charitable': 1.0,\n",
       " 'children': 0.69230769230769229,\n",
       " 'children & youth': 1.0,\n",
       " 'community': 0.96153846153846156,\n",
       " 'development': 1.0,\n",
       " 'differently abled': 1.0,\n",
       " 'education': 0.73076923076923073,\n",
       " 'educational': 0.88461538461538458,\n",
       " 'environment': 0.84615384615384615,\n",
       " 'health': 0.65384615384615385,\n",
       " 'human rights': 1.0,\n",
       " 'others': 1.0,\n",
       " 'religious': 1.0,\n",
       " 'social and cultural development': 1.0,\n",
       " 'social and welfare': 1.0,\n",
       " 'social development': 0.80769230769230771,\n",
       " 'social services': 1.0,\n",
       " 'sports': 1.0,\n",
       " 'support groups': 1.0}"
      ]
     },
     "execution_count": 49,
     "metadata": {},
     "output_type": "execute_result"
    }
   ],
   "source": [
    "get_accuracy(test_data_label, test_predict)"
   ]
  }
 ],
 "metadata": {
  "kernelspec": {
   "display_name": "Python 3",
   "language": "python",
   "name": "python3"
  },
  "language_info": {
   "codemirror_mode": {
    "name": "ipython",
    "version": 3
   },
   "file_extension": ".py",
   "mimetype": "text/x-python",
   "name": "python",
   "nbconvert_exporter": "python",
   "pygments_lexer": "ipython3",
   "version": "3.6.3"
  }
 },
 "nbformat": 4,
 "nbformat_minor": 2
}
