{
 "cells": [
  {
   "cell_type": "markdown",
   "metadata": {},
   "source": [
    "# EA x DKSG\n",
    "**classification: web scrape**\n",
    "\n",
    "classify organizations into cause areas based on descriptions\n",
    "- basically, descriptions -> cause areas\n",
    "\n",
    "## methodology\n",
    "- clean up organization descriptions\n",
    "    - drop stopwords\n",
    "    - drop punctuations\n",
    "    - lemmatize words\n",
    "- create count vectors for each description\n",
    "- use count vectors as feature for classification with\n",
    "    - decision trees\n",
    "    - random forest regressor\n",
    "    \n",
    "## hypothesis\n",
    "an organization with certain keywords in its description should be involved in a cause area if the keywords match up with the keywords defined in the cause area\n",
    "\n",
    "## clean up organization descriptions"
   ]
  },
  {
   "cell_type": "code",
   "execution_count": 1,
   "metadata": {},
   "outputs": [],
   "source": [
    "## setup\n",
    "%run env_setup.py\n",
    "%run filepaths.py\n",
    "%run helpers.py"
   ]
  },
  {
   "cell_type": "code",
   "execution_count": 2,
   "metadata": {},
   "outputs": [],
   "source": [
    "web_df = read_from_csv(WEB_SCRAPE_CSV)"
   ]
  },
  {
   "cell_type": "code",
   "execution_count": 3,
   "metadata": {},
   "outputs": [
    {
     "data": {
      "text/html": [
       "<div>\n",
       "<style>\n",
       "    .dataframe thead tr:only-child th {\n",
       "        text-align: right;\n",
       "    }\n",
       "\n",
       "    .dataframe thead th {\n",
       "        text-align: left;\n",
       "    }\n",
       "\n",
       "    .dataframe tbody tr th {\n",
       "        vertical-align: top;\n",
       "    }\n",
       "</style>\n",
       "<table border=\"1\" class=\"dataframe\">\n",
       "  <thead>\n",
       "    <tr style=\"text-align: right;\">\n",
       "      <th></th>\n",
       "      <th>key</th>\n",
       "      <th>name</th>\n",
       "      <th>description</th>\n",
       "      <th>website</th>\n",
       "      <th>cause_area</th>\n",
       "      <th>programme_types</th>\n",
       "      <th>address</th>\n",
       "      <th>country</th>\n",
       "      <th>city</th>\n",
       "      <th>contact_number</th>\n",
       "      <th>...</th>\n",
       "      <th>Charity.Status</th>\n",
       "      <th>Date.of.Charity.Registration</th>\n",
       "      <th>IPC.Status</th>\n",
       "      <th>IPC.Period</th>\n",
       "      <th>Details.URL</th>\n",
       "      <th>fax</th>\n",
       "      <th>revenue</th>\n",
       "      <th>employees</th>\n",
       "      <th>lat</th>\n",
       "      <th>lon</th>\n",
       "    </tr>\n",
       "  </thead>\n",
       "  <tbody>\n",
       "    <tr>\n",
       "      <th>0</th>\n",
       "      <td>1</td>\n",
       "      <td>Bali Pink Ribbon - Breast Cancer Awareness Fou...</td>\n",
       "      <td>Bali Pink Ribbon was founded by Gaye Warren, a...</td>\n",
       "      <td>http://www.balipinkribbon.com</td>\n",
       "      <td>Balinese People, Health</td>\n",
       "      <td>Our vision is to prevent Indonesian women from...</td>\n",
       "      <td>80113 Dauh Puri Kauh (Denpasar Barat)</td>\n",
       "      <td>indonesia</td>\n",
       "      <td>Denpasar</td>\n",
       "      <td>+62 361 4746238</td>\n",
       "      <td>...</td>\n",
       "      <td>NaN</td>\n",
       "      <td>NaN</td>\n",
       "      <td>NaN</td>\n",
       "      <td>NaN</td>\n",
       "      <td>NaN</td>\n",
       "      <td>NaN</td>\n",
       "      <td>NaN</td>\n",
       "      <td>NaN</td>\n",
       "      <td>-8.673612</td>\n",
       "      <td>115.203737</td>\n",
       "    </tr>\n",
       "    <tr>\n",
       "      <th>1</th>\n",
       "      <td>2</td>\n",
       "      <td>Volunteer Programs Bali</td>\n",
       "      <td>At VP Bali, we believe that education can chan...</td>\n",
       "      <td>http://http://volunteerprogramsbali.org</td>\n",
       "      <td>Balinese People, Children, Balinese Art &amp; Culture</td>\n",
       "      <td>A dopting the Balinese values and its premise ...</td>\n",
       "      <td>80571 Ubud (Petulu)</td>\n",
       "      <td>indonesia</td>\n",
       "      <td>Ubud</td>\n",
       "      <td>NaN</td>\n",
       "      <td>...</td>\n",
       "      <td>NaN</td>\n",
       "      <td>NaN</td>\n",
       "      <td>NaN</td>\n",
       "      <td>NaN</td>\n",
       "      <td>NaN</td>\n",
       "      <td>NaN</td>\n",
       "      <td>NaN</td>\n",
       "      <td>NaN</td>\n",
       "      <td>-8.675090</td>\n",
       "      <td>115.189919</td>\n",
       "    </tr>\n",
       "    <tr>\n",
       "      <th>2</th>\n",
       "      <td>3</td>\n",
       "      <td>NGO 4 Ger</td>\n",
       "      <td>Only for specials</td>\n",
       "      <td>http://www.fiedbeck.de</td>\n",
       "      <td>Balinese People</td>\n",
       "      <td>NaN</td>\n",
       "      <td>Strasse 1 Bali</td>\n",
       "      <td>indonesia</td>\n",
       "      <td>Amed</td>\n",
       "      <td>+49 7531 123456</td>\n",
       "      <td>...</td>\n",
       "      <td>NaN</td>\n",
       "      <td>NaN</td>\n",
       "      <td>NaN</td>\n",
       "      <td>NaN</td>\n",
       "      <td>NaN</td>\n",
       "      <td>NaN</td>\n",
       "      <td>NaN</td>\n",
       "      <td>NaN</td>\n",
       "      <td>-8.409518</td>\n",
       "      <td>115.188916</td>\n",
       "    </tr>\n",
       "    <tr>\n",
       "      <th>3</th>\n",
       "      <td>4</td>\n",
       "      <td>Bali Children Foundation</td>\n",
       "      <td>Our vision, at Bali Children Foundation, is to...</td>\n",
       "      <td>http://www.balichildrenfoundation.org</td>\n",
       "      <td>Children, Education &amp; Schools</td>\n",
       "      <td>To provide community education in remote areas...</td>\n",
       "      <td>Jl. Raya Kesambi No.369, Kerobokan, Kuta Utara...</td>\n",
       "      <td>indonesia</td>\n",
       "      <td>Seminyak</td>\n",
       "      <td>+62 361  847 5399</td>\n",
       "      <td>...</td>\n",
       "      <td>NaN</td>\n",
       "      <td>NaN</td>\n",
       "      <td>NaN</td>\n",
       "      <td>NaN</td>\n",
       "      <td>NaN</td>\n",
       "      <td>NaN</td>\n",
       "      <td>NaN</td>\n",
       "      <td>NaN</td>\n",
       "      <td>-8.653567</td>\n",
       "      <td>115.172545</td>\n",
       "    </tr>\n",
       "    <tr>\n",
       "      <th>4</th>\n",
       "      <td>5</td>\n",
       "      <td>Friends of the National Parks Foundation</td>\n",
       "      <td>Friends of the National Park Foundation (FNPF)...</td>\n",
       "      <td>http://www.fnpf.org</td>\n",
       "      <td>Environment &amp; Nature Conservation</td>\n",
       "      <td>To protect wildlife and its habitat, at the sa...</td>\n",
       "      <td>Ped, Nusapenida, Klungkung Regency, Bali 80771...</td>\n",
       "      <td>indonesia</td>\n",
       "      <td>Pejeng</td>\n",
       "      <td>+62 361 4792286</td>\n",
       "      <td>...</td>\n",
       "      <td>NaN</td>\n",
       "      <td>NaN</td>\n",
       "      <td>NaN</td>\n",
       "      <td>NaN</td>\n",
       "      <td>NaN</td>\n",
       "      <td>NaN</td>\n",
       "      <td>NaN</td>\n",
       "      <td>NaN</td>\n",
       "      <td>-8.683880</td>\n",
       "      <td>115.518827</td>\n",
       "    </tr>\n",
       "  </tbody>\n",
       "</table>\n",
       "<p>5 rows × 26 columns</p>\n",
       "</div>"
      ],
      "text/plain": [
       "   key                                               name  \\\n",
       "0    1  Bali Pink Ribbon - Breast Cancer Awareness Fou...   \n",
       "1    2                            Volunteer Programs Bali   \n",
       "2    3                                          NGO 4 Ger   \n",
       "3    4                           Bali Children Foundation   \n",
       "4    5           Friends of the National Parks Foundation   \n",
       "\n",
       "                                         description  \\\n",
       "0  Bali Pink Ribbon was founded by Gaye Warren, a...   \n",
       "1  At VP Bali, we believe that education can chan...   \n",
       "2                                  Only for specials   \n",
       "3  Our vision, at Bali Children Foundation, is to...   \n",
       "4  Friends of the National Park Foundation (FNPF)...   \n",
       "\n",
       "                                   website  \\\n",
       "0            http://www.balipinkribbon.com   \n",
       "1  http://http://volunteerprogramsbali.org   \n",
       "2                   http://www.fiedbeck.de   \n",
       "3    http://www.balichildrenfoundation.org   \n",
       "4                      http://www.fnpf.org   \n",
       "\n",
       "                                          cause_area  \\\n",
       "0                            Balinese People, Health   \n",
       "1  Balinese People, Children, Balinese Art & Culture   \n",
       "2                                    Balinese People   \n",
       "3                      Children, Education & Schools   \n",
       "4                  Environment & Nature Conservation   \n",
       "\n",
       "                                     programme_types  \\\n",
       "0  Our vision is to prevent Indonesian women from...   \n",
       "1  A dopting the Balinese values and its premise ...   \n",
       "2                                                NaN   \n",
       "3  To provide community education in remote areas...   \n",
       "4  To protect wildlife and its habitat, at the sa...   \n",
       "\n",
       "                                             address    country      city  \\\n",
       "0              80113 Dauh Puri Kauh (Denpasar Barat)  indonesia  Denpasar   \n",
       "1                                80571 Ubud (Petulu)  indonesia      Ubud   \n",
       "2                                     Strasse 1 Bali  indonesia      Amed   \n",
       "3  Jl. Raya Kesambi No.369, Kerobokan, Kuta Utara...  indonesia  Seminyak   \n",
       "4  Ped, Nusapenida, Klungkung Regency, Bali 80771...  indonesia    Pejeng   \n",
       "\n",
       "      contact_number     ...     Charity.Status Date.of.Charity.Registration  \\\n",
       "0    +62 361 4746238     ...                NaN                          NaN   \n",
       "1                NaN     ...                NaN                          NaN   \n",
       "2    +49 7531 123456     ...                NaN                          NaN   \n",
       "3  +62 361  847 5399     ...                NaN                          NaN   \n",
       "4    +62 361 4792286     ...                NaN                          NaN   \n",
       "\n",
       "  IPC.Status IPC.Period Details.URL fax revenue employees       lat  \\\n",
       "0        NaN        NaN         NaN NaN     NaN       NaN -8.673612   \n",
       "1        NaN        NaN         NaN NaN     NaN       NaN -8.675090   \n",
       "2        NaN        NaN         NaN NaN     NaN       NaN -8.409518   \n",
       "3        NaN        NaN         NaN NaN     NaN       NaN -8.653567   \n",
       "4        NaN        NaN         NaN NaN     NaN       NaN -8.683880   \n",
       "\n",
       "          lon  \n",
       "0  115.203737  \n",
       "1  115.189919  \n",
       "2  115.188916  \n",
       "3  115.172545  \n",
       "4  115.518827  \n",
       "\n",
       "[5 rows x 26 columns]"
      ]
     },
     "execution_count": 3,
     "metadata": {},
     "output_type": "execute_result"
    }
   ],
   "source": [
    "web_df.head()"
   ]
  },
  {
   "cell_type": "code",
   "execution_count": 4,
   "metadata": {},
   "outputs": [],
   "source": [
    "## fill up empty descriptions\n",
    "web_df['description'] = web_df['description'].fillna('')\n",
    "\n",
    "## add cleaned description\n",
    "web_df['desc_clean_words'] = get_cleaned_descriptions(list(web_df['description']), True, True, True)\n",
    "web_df['desc_clean'] = get_sentence_from_list(list(web_df['desc_clean_words']))"
   ]
  },
  {
   "cell_type": "code",
   "execution_count": 5,
   "metadata": {},
   "outputs": [],
   "source": [
    "## add cleaned cause areas\n",
    "def clean_cause_area(cause_area_raw):\n",
    "    words = cause_area_raw.lower().split(\",\")\n",
    "    words = [w.strip() for w in words]\n",
    "    words = [w for w in words if len(w) > 0]\n",
    "    return set(words)\n",
    "\n",
    "web_df['cause_area'] = web_df['cause_area'].fillna('')\n",
    "web_df['cause_area_clean'] = web_df['cause_area'].apply(clean_cause_area)"
   ]
  },
  {
   "cell_type": "code",
   "execution_count": 6,
   "metadata": {},
   "outputs": [
    {
     "data": {
      "text/html": [
       "<div>\n",
       "<style>\n",
       "    .dataframe thead tr:only-child th {\n",
       "        text-align: right;\n",
       "    }\n",
       "\n",
       "    .dataframe thead th {\n",
       "        text-align: left;\n",
       "    }\n",
       "\n",
       "    .dataframe tbody tr th {\n",
       "        vertical-align: top;\n",
       "    }\n",
       "</style>\n",
       "<table border=\"1\" class=\"dataframe\">\n",
       "  <thead>\n",
       "    <tr style=\"text-align: right;\">\n",
       "      <th></th>\n",
       "      <th>desc_clean_words</th>\n",
       "      <th>desc_clean</th>\n",
       "      <th>cause_area_clean</th>\n",
       "    </tr>\n",
       "  </thead>\n",
       "  <tbody>\n",
       "    <tr>\n",
       "      <th>0</th>\n",
       "      <td>[bali, pink, ribbon, found, gaye, warren, brit...</td>\n",
       "      <td>bali pink ribbon found gaye warren british bre...</td>\n",
       "      <td>{balinese people, health}</td>\n",
       "    </tr>\n",
       "    <tr>\n",
       "      <th>1</th>\n",
       "      <td>[at, vp, bali, believe, education, change, chi...</td>\n",
       "      <td>at vp bali believe education change childã¢ââ...</td>\n",
       "      <td>{children, balinese art &amp; culture, balinese pe...</td>\n",
       "    </tr>\n",
       "    <tr>\n",
       "      <th>2</th>\n",
       "      <td>[only, special]</td>\n",
       "      <td>only special</td>\n",
       "      <td>{balinese people}</td>\n",
       "    </tr>\n",
       "    <tr>\n",
       "      <th>3</th>\n",
       "      <td>[our, vision, bali, children, foundation, prov...</td>\n",
       "      <td>our vision bali children foundation provide ed...</td>\n",
       "      <td>{education &amp; schools, children}</td>\n",
       "    </tr>\n",
       "    <tr>\n",
       "      <th>4</th>\n",
       "      <td>[friends, national, park, foundation, fnpf, in...</td>\n",
       "      <td>friends national park foundation fnpf indonesi...</td>\n",
       "      <td>{environment &amp; nature conservation}</td>\n",
       "    </tr>\n",
       "  </tbody>\n",
       "</table>\n",
       "</div>"
      ],
      "text/plain": [
       "                                    desc_clean_words  \\\n",
       "0  [bali, pink, ribbon, found, gaye, warren, brit...   \n",
       "1  [at, vp, bali, believe, education, change, chi...   \n",
       "2                                    [only, special]   \n",
       "3  [our, vision, bali, children, foundation, prov...   \n",
       "4  [friends, national, park, foundation, fnpf, in...   \n",
       "\n",
       "                                          desc_clean  \\\n",
       "0  bali pink ribbon found gaye warren british bre...   \n",
       "1  at vp bali believe education change childã¢ââ...   \n",
       "2                                       only special   \n",
       "3  our vision bali children foundation provide ed...   \n",
       "4  friends national park foundation fnpf indonesi...   \n",
       "\n",
       "                                    cause_area_clean  \n",
       "0                          {balinese people, health}  \n",
       "1  {children, balinese art & culture, balinese pe...  \n",
       "2                                  {balinese people}  \n",
       "3                    {education & schools, children}  \n",
       "4                {environment & nature conservation}  "
      ]
     },
     "execution_count": 6,
     "metadata": {},
     "output_type": "execute_result"
    }
   ],
   "source": [
    "web_df[['desc_clean_words', 'desc_clean', 'cause_area_clean']].head()"
   ]
  },
  {
   "cell_type": "markdown",
   "metadata": {},
   "source": [
    "## basic viz"
   ]
  },
  {
   "cell_type": "code",
   "execution_count": 12,
   "metadata": {},
   "outputs": [],
   "source": [
    "%matplotlib inline\n",
    "%run viz_setup.py"
   ]
  },
  {
   "cell_type": "markdown",
   "metadata": {},
   "source": [
    "#### cause areas (web scraped)"
   ]
  },
  {
   "cell_type": "code",
   "execution_count": 13,
   "metadata": {},
   "outputs": [],
   "source": [
    "from itertools import chain\n",
    "def get_web_cause_area_summary(web_df):\n",
    "    df = list(chain.from_iterable(list(web_df['cause_area_clean'].apply(lambda s: list(s)))))\n",
    "    df = pd.Series(df) \n",
    "    df = pd.DataFrame(df.value_counts().reset_index())\n",
    "    df.columns = ['cause area', 'count']\n",
    "    \n",
    "    total_cause_area_count = sum(df['count'])\n",
    "    df['%'] = df['count'].apply(lambda count: count/total_cause_area_count)\n",
    "    \n",
    "    return df\n",
    "\n",
    "web_cause_area_df = get_web_cause_area_summary(web_df)"
   ]
  },
  {
   "cell_type": "markdown",
   "metadata": {},
   "source": [
    "Q: top 20 cause areas with highest counts"
   ]
  },
  {
   "cell_type": "code",
   "execution_count": 14,
   "metadata": {},
   "outputs": [
    {
     "data": {
      "text/html": [
       "<div>\n",
       "<style>\n",
       "    .dataframe thead tr:only-child th {\n",
       "        text-align: right;\n",
       "    }\n",
       "\n",
       "    .dataframe thead th {\n",
       "        text-align: left;\n",
       "    }\n",
       "\n",
       "    .dataframe tbody tr th {\n",
       "        vertical-align: top;\n",
       "    }\n",
       "</style>\n",
       "<table border=\"1\" class=\"dataframe\">\n",
       "  <thead>\n",
       "    <tr style=\"text-align: right;\">\n",
       "      <th></th>\n",
       "      <th>cause area</th>\n",
       "      <th>count</th>\n",
       "      <th>%</th>\n",
       "    </tr>\n",
       "  </thead>\n",
       "  <tbody>\n",
       "    <tr>\n",
       "      <th>0</th>\n",
       "      <td>religious</td>\n",
       "      <td>1085</td>\n",
       "      <td>0.144052</td>\n",
       "    </tr>\n",
       "    <tr>\n",
       "      <th>1</th>\n",
       "      <td>education</td>\n",
       "      <td>463</td>\n",
       "      <td>0.061471</td>\n",
       "    </tr>\n",
       "    <tr>\n",
       "      <th>2</th>\n",
       "      <td>social and welfare</td>\n",
       "      <td>392</td>\n",
       "      <td>0.052045</td>\n",
       "    </tr>\n",
       "    <tr>\n",
       "      <th>3</th>\n",
       "      <td>health</td>\n",
       "      <td>281</td>\n",
       "      <td>0.037307</td>\n",
       "    </tr>\n",
       "    <tr>\n",
       "      <th>4</th>\n",
       "      <td>children</td>\n",
       "      <td>251</td>\n",
       "      <td>0.033324</td>\n",
       "    </tr>\n",
       "    <tr>\n",
       "      <th>5</th>\n",
       "      <td>charitable</td>\n",
       "      <td>242</td>\n",
       "      <td>0.032130</td>\n",
       "    </tr>\n",
       "    <tr>\n",
       "      <th>6</th>\n",
       "      <td>others</td>\n",
       "      <td>232</td>\n",
       "      <td>0.030802</td>\n",
       "    </tr>\n",
       "    <tr>\n",
       "      <th>7</th>\n",
       "      <td>environment</td>\n",
       "      <td>225</td>\n",
       "      <td>0.029873</td>\n",
       "    </tr>\n",
       "    <tr>\n",
       "      <th>8</th>\n",
       "      <td>support groups</td>\n",
       "      <td>214</td>\n",
       "      <td>0.028412</td>\n",
       "    </tr>\n",
       "    <tr>\n",
       "      <th>9</th>\n",
       "      <td>arts and heritage</td>\n",
       "      <td>147</td>\n",
       "      <td>0.019517</td>\n",
       "    </tr>\n",
       "    <tr>\n",
       "      <th>10</th>\n",
       "      <td>development</td>\n",
       "      <td>114</td>\n",
       "      <td>0.015135</td>\n",
       "    </tr>\n",
       "    <tr>\n",
       "      <th>11</th>\n",
       "      <td>community</td>\n",
       "      <td>103</td>\n",
       "      <td>0.013675</td>\n",
       "    </tr>\n",
       "    <tr>\n",
       "      <th>12</th>\n",
       "      <td>human rights</td>\n",
       "      <td>98</td>\n",
       "      <td>0.013011</td>\n",
       "    </tr>\n",
       "    <tr>\n",
       "      <th>13</th>\n",
       "      <td>educational</td>\n",
       "      <td>96</td>\n",
       "      <td>0.012746</td>\n",
       "    </tr>\n",
       "    <tr>\n",
       "      <th>14</th>\n",
       "      <td>differently abled</td>\n",
       "      <td>87</td>\n",
       "      <td>0.011551</td>\n",
       "    </tr>\n",
       "    <tr>\n",
       "      <th>15</th>\n",
       "      <td>social development</td>\n",
       "      <td>78</td>\n",
       "      <td>0.010356</td>\n",
       "    </tr>\n",
       "    <tr>\n",
       "      <th>16</th>\n",
       "      <td>children &amp; youth</td>\n",
       "      <td>75</td>\n",
       "      <td>0.009958</td>\n",
       "    </tr>\n",
       "    <tr>\n",
       "      <th>17</th>\n",
       "      <td>social services</td>\n",
       "      <td>72</td>\n",
       "      <td>0.009559</td>\n",
       "    </tr>\n",
       "    <tr>\n",
       "      <th>18</th>\n",
       "      <td>sports</td>\n",
       "      <td>70</td>\n",
       "      <td>0.009294</td>\n",
       "    </tr>\n",
       "    <tr>\n",
       "      <th>19</th>\n",
       "      <td>social and cultural development</td>\n",
       "      <td>64</td>\n",
       "      <td>0.008497</td>\n",
       "    </tr>\n",
       "  </tbody>\n",
       "</table>\n",
       "</div>"
      ],
      "text/plain": [
       "                         cause area  count         %\n",
       "0                         religious   1085  0.144052\n",
       "1                         education    463  0.061471\n",
       "2                social and welfare    392  0.052045\n",
       "3                            health    281  0.037307\n",
       "4                          children    251  0.033324\n",
       "5                        charitable    242  0.032130\n",
       "6                            others    232  0.030802\n",
       "7                       environment    225  0.029873\n",
       "8                    support groups    214  0.028412\n",
       "9                 arts and heritage    147  0.019517\n",
       "10                      development    114  0.015135\n",
       "11                        community    103  0.013675\n",
       "12                     human rights     98  0.013011\n",
       "13                      educational     96  0.012746\n",
       "14                differently abled     87  0.011551\n",
       "15               social development     78  0.010356\n",
       "16                 children & youth     75  0.009958\n",
       "17                  social services     72  0.009559\n",
       "18                           sports     70  0.009294\n",
       "19  social and cultural development     64  0.008497"
      ]
     },
     "execution_count": 14,
     "metadata": {},
     "output_type": "execute_result"
    }
   ],
   "source": [
    "web_cause_area_df[:20]"
   ]
  },
  {
   "cell_type": "markdown",
   "metadata": {},
   "source": [
    "Q: cause area by counts bar chart (all)"
   ]
  },
  {
   "cell_type": "code",
   "execution_count": 15,
   "metadata": {},
   "outputs": [
    {
     "data": {
      "image/png": "[encoded data removed]",
      "text/plain": [
       "<matplotlib.figure.Figure at 0x113ab3518>"
      ]
     },
     "metadata": {},
     "output_type": "display_data"
    }
   ],
   "source": [
    "plt = web_cause_area_df.plot.bar(x='cause area', y='count')\n",
    "plt.xaxis.set_visible(False)"
   ]
  },
  {
   "cell_type": "markdown",
   "metadata": {},
   "source": [
    "Q: cause area by counts bar chart (top 20)"
   ]
  },
  {
   "cell_type": "code",
   "execution_count": 16,
   "metadata": {},
   "outputs": [
    {
     "data": {
      "text/plain": [
       "<matplotlib.axes._subplots.AxesSubplot at 0x11413ed68>"
      ]
     },
     "execution_count": 16,
     "metadata": {},
     "output_type": "execute_result"
    },
    {
     "data": {
      "image/png": "[encoded data removed]",
      "text/plain": [
       "<matplotlib.figure.Figure at 0x10ff11d30>"
      ]
     },
     "metadata": {},
     "output_type": "display_data"
    }
   ],
   "source": [
    "plt = web_cause_area_df[:20].plot.bar(x='cause area', y='count')\n",
    "plt"
   ]
  },
  {
   "cell_type": "markdown",
   "metadata": {},
   "source": [
    "Q: total number of unique cause areas"
   ]
  },
  {
   "cell_type": "code",
   "execution_count": 17,
   "metadata": {},
   "outputs": [
    {
     "data": {
      "text/plain": [
       "586"
      ]
     },
     "execution_count": 17,
     "metadata": {},
     "output_type": "execute_result"
    }
   ],
   "source": [
    "len(web_cause_area_df)"
   ]
  },
  {
   "cell_type": "markdown",
   "metadata": {},
   "source": [
    "Q: total number of organization"
   ]
  },
  {
   "cell_type": "code",
   "execution_count": 18,
   "metadata": {},
   "outputs": [
    {
     "data": {
      "text/plain": [
       "7532"
      ]
     },
     "execution_count": 18,
     "metadata": {},
     "output_type": "execute_result"
    }
   ],
   "source": [
    "sum(web_cause_area_df['count'])"
   ]
  },
  {
   "cell_type": "markdown",
   "metadata": {},
   "source": [
    "## create features: count vectors for each description\n",
    "- take top 20 web_cause_areas by count"
   ]
  },
  {
   "cell_type": "code",
   "execution_count": 19,
   "metadata": {},
   "outputs": [],
   "source": [
    "## ml setup\n",
    "import sklearn\n",
    "from sklearn.model_selection import train_test_split\n",
    "from sklearn.feature_extraction.text import CountVectorizer\n",
    "from sklearn.preprocessing import MultiLabelBinarizer\n",
    "from sklearn import tree\n",
    "from sklearn import ensemble\n",
    "from sklearn.metrics import accuracy_score"
   ]
  },
  {
   "cell_type": "markdown",
   "metadata": {},
   "source": [
    "#### select top 20 cause areas (web scrape)"
   ]
  },
  {
   "cell_type": "markdown",
   "metadata": {},
   "source": [
    "Q: top 20 cause areas"
   ]
  },
  {
   "cell_type": "code",
   "execution_count": 20,
   "metadata": {},
   "outputs": [
    {
     "data": {
      "text/plain": [
       "{'arts and heritage',\n",
       " 'charitable',\n",
       " 'children',\n",
       " 'children & youth',\n",
       " 'community',\n",
       " 'development',\n",
       " 'differently abled',\n",
       " 'education',\n",
       " 'educational',\n",
       " 'environment',\n",
       " 'health',\n",
       " 'human rights',\n",
       " 'others',\n",
       " 'religious',\n",
       " 'social and cultural development',\n",
       " 'social and welfare',\n",
       " 'social development',\n",
       " 'social services',\n",
       " 'sports',\n",
       " 'support groups'}"
      ]
     },
     "execution_count": 20,
     "metadata": {},
     "output_type": "execute_result"
    }
   ],
   "source": [
    "web_cause_area_select = web_cause_area_df[:20]\n",
    "set(web_cause_area_select['cause area'])"
   ]
  },
  {
   "cell_type": "markdown",
   "metadata": {},
   "source": [
    "Q: proportion of top 20 web cause areas (against all counts)"
   ]
  },
  {
   "cell_type": "code",
   "execution_count": 21,
   "metadata": {},
   "outputs": [
    {
     "data": {
      "text/plain": [
       "0.58271375464684005"
      ]
     },
     "execution_count": 21,
     "metadata": {},
     "output_type": "execute_result"
    }
   ],
   "source": [
    "sum(web_cause_area_select['%'])"
   ]
  },
  {
   "cell_type": "markdown",
   "metadata": {},
   "source": [
    "create cause_area_clean_filter (ie. a copy of cause_area_clean with only filtered matches)"
   ]
  },
  {
   "cell_type": "code",
   "execution_count": 22,
   "metadata": {},
   "outputs": [],
   "source": [
    "web_df['cause_area_clean_filter'] = \\\n",
    "    web_df['cause_area_clean'].apply(lambda c: c.intersection(set(web_cause_area_select['cause area'])))"
   ]
  },
  {
   "cell_type": "markdown",
   "metadata": {},
   "source": [
    "#### select orgs in selected cause areas"
   ]
  },
  {
   "cell_type": "code",
   "execution_count": 23,
   "metadata": {},
   "outputs": [],
   "source": [
    "def select_orgs_in_cause_area(df, cause_areas):\n",
    "    matched_indexes = df['cause_area_clean'] \\\n",
    "        .apply(lambda c: len(c.intersection(cause_areas))) \\\n",
    "        .where(lambda count: count > 1) \\\n",
    "        .dropna() \\\n",
    "        .index\n",
    "    return df.iloc[matched_indexes]\n",
    "\n",
    "web_df_select = select_orgs_in_cause_area(web_df, set(web_cause_area_select['cause area']))"
   ]
  },
  {
   "cell_type": "code",
   "execution_count": 24,
   "metadata": {},
   "outputs": [
    {
     "data": {
      "text/html": [
       "<div>\n",
       "<style>\n",
       "    .dataframe thead tr:only-child th {\n",
       "        text-align: right;\n",
       "    }\n",
       "\n",
       "    .dataframe thead th {\n",
       "        text-align: left;\n",
       "    }\n",
       "\n",
       "    .dataframe tbody tr th {\n",
       "        vertical-align: top;\n",
       "    }\n",
       "</style>\n",
       "<table border=\"1\" class=\"dataframe\">\n",
       "  <thead>\n",
       "    <tr style=\"text-align: right;\">\n",
       "      <th></th>\n",
       "      <th>key</th>\n",
       "      <th>name</th>\n",
       "      <th>description</th>\n",
       "      <th>website</th>\n",
       "      <th>cause_area</th>\n",
       "      <th>programme_types</th>\n",
       "      <th>address</th>\n",
       "      <th>country</th>\n",
       "      <th>city</th>\n",
       "      <th>contact_number</th>\n",
       "      <th>...</th>\n",
       "      <th>Details.URL</th>\n",
       "      <th>fax</th>\n",
       "      <th>revenue</th>\n",
       "      <th>employees</th>\n",
       "      <th>lat</th>\n",
       "      <th>lon</th>\n",
       "      <th>desc_clean_words</th>\n",
       "      <th>desc_clean</th>\n",
       "      <th>cause_area_clean</th>\n",
       "      <th>cause_area_clean_filter</th>\n",
       "    </tr>\n",
       "  </thead>\n",
       "  <tbody>\n",
       "    <tr>\n",
       "      <th>9</th>\n",
       "      <td>10</td>\n",
       "      <td>Kupu Kupu Foundation Indonesia</td>\n",
       "      <td>We help improve lives by assisting with medica...</td>\n",
       "      <td>http://www.kupukupufoundation.org</td>\n",
       "      <td>Children, Health, Education &amp; Schools</td>\n",
       "      <td>Kupu-Kupu Foundation improves the lives of peo...</td>\n",
       "      <td>Jl. Tirta Tawar No.22, Ubud, Kabupaten Gianyar...</td>\n",
       "      <td>indonesia</td>\n",
       "      <td>Ubud</td>\n",
       "      <td>+62 812 3628720</td>\n",
       "      <td>...</td>\n",
       "      <td>NaN</td>\n",
       "      <td>NaN</td>\n",
       "      <td>NaN</td>\n",
       "      <td>NaN</td>\n",
       "      <td>-8.506246</td>\n",
       "      <td>115.268599</td>\n",
       "      <td>[we, help, improve, live, assist, medical, car...</td>\n",
       "      <td>we help improve live assist medical care medic...</td>\n",
       "      <td>{education &amp; schools, children, health}</td>\n",
       "      <td>{children, health}</td>\n",
       "    </tr>\n",
       "    <tr>\n",
       "      <th>10</th>\n",
       "      <td>11</td>\n",
       "      <td>Yayasan Solemen Indonesia</td>\n",
       "      <td>Yayasan Solemen Indonesia, an Indonesian regis...</td>\n",
       "      <td>http://www.solemen.org</td>\n",
       "      <td>Balinese People, Children, Health, General Wel...</td>\n",
       "      <td>Our mission is to help the disadvantaged in Ba...</td>\n",
       "      <td>80363, Jl. Danau Poso No.55, Sanur Kauh, South...</td>\n",
       "      <td>indonesia</td>\n",
       "      <td>Kuta</td>\n",
       "      <td>+62  0812 3720 6220</td>\n",
       "      <td>...</td>\n",
       "      <td>NaN</td>\n",
       "      <td>NaN</td>\n",
       "      <td>NaN</td>\n",
       "      <td>NaN</td>\n",
       "      <td>-8.705537</td>\n",
       "      <td>115.252546</td>\n",
       "      <td>[yayasan, solemen, indonesia, indonesian, regi...</td>\n",
       "      <td>yayasan solemen indonesia indonesian register ...</td>\n",
       "      <td>{children, balinese people, health, general we...</td>\n",
       "      <td>{children, health}</td>\n",
       "    </tr>\n",
       "    <tr>\n",
       "      <th>14</th>\n",
       "      <td>15</td>\n",
       "      <td>Fair Future Foundation</td>\n",
       "      <td>Free healthcare for people in need</td>\n",
       "      <td>http://www.fairfuturefoundation.org</td>\n",
       "      <td>Balinese People, Children, Health, General Wel...</td>\n",
       "      <td>to improve the daily life of the local communi...</td>\n",
       "      <td>Jalan Sriwedari 6, Taman Kaja, Ubud, Bali 8051...</td>\n",
       "      <td>indonesia</td>\n",
       "      <td>Ubud</td>\n",
       "      <td>+62 361 975370</td>\n",
       "      <td>...</td>\n",
       "      <td>NaN</td>\n",
       "      <td>NaN</td>\n",
       "      <td>NaN</td>\n",
       "      <td>NaN</td>\n",
       "      <td>-8.507416</td>\n",
       "      <td>115.265190</td>\n",
       "      <td>[free, healthcare, people, need]</td>\n",
       "      <td>free healthcare people need</td>\n",
       "      <td>{children, balinese people, health, general we...</td>\n",
       "      <td>{children, health}</td>\n",
       "    </tr>\n",
       "    <tr>\n",
       "      <th>26</th>\n",
       "      <td>27</td>\n",
       "      <td>Yayasan Kemanusiaan Ibu Pertiwi</td>\n",
       "      <td>YKIP (Yayasan Kemanusiaan Ibu Pertiwi) or the ...</td>\n",
       "      <td>http://www.ykip.org</td>\n",
       "      <td>Children, Health, Education &amp; Schools</td>\n",
       "      <td>Our mission is to restore vision. Our vision i...</td>\n",
       "      <td>Jalan By Pass Ngurah Rai, Gang Mina Utama No.1...</td>\n",
       "      <td>indonesia</td>\n",
       "      <td>Tuban</td>\n",
       "      <td>+62 361 761208</td>\n",
       "      <td>...</td>\n",
       "      <td>NaN</td>\n",
       "      <td>NaN</td>\n",
       "      <td>NaN</td>\n",
       "      <td>NaN</td>\n",
       "      <td>-8.715940</td>\n",
       "      <td>115.220705</td>\n",
       "      <td>[ykip, yayasan, kemanusiaan, ibu, pertiwi, hum...</td>\n",
       "      <td>ykip yayasan kemanusiaan ibu pertiwi humanitar...</td>\n",
       "      <td>{education &amp; schools, children, health}</td>\n",
       "      <td>{children, health}</td>\n",
       "    </tr>\n",
       "    <tr>\n",
       "      <th>2557</th>\n",
       "      <td>2558</td>\n",
       "      <td>MÃ¢ÂÂLop Tapang</td>\n",
       "      <td>M'lop Tapang is a comprehensive center dedicat...</td>\n",
       "      <td>NaN</td>\n",
       "      <td>Education, Health, Economic Empowerment, Right...</td>\n",
       "      <td>NaN</td>\n",
       "      <td>NaN</td>\n",
       "      <td>cambodia</td>\n",
       "      <td>NaN</td>\n",
       "      <td>NaN</td>\n",
       "      <td>...</td>\n",
       "      <td>NaN</td>\n",
       "      <td>NaN</td>\n",
       "      <td>NaN</td>\n",
       "      <td>NaN</td>\n",
       "      <td>NaN</td>\n",
       "      <td>NaN</td>\n",
       "      <td>[m'lop, tapang, comprehensive, center, dedicat...</td>\n",
       "      <td>m'lop tapang comprehensive center dedicate dis...</td>\n",
       "      <td>{rights protection, economic empowerment, heal...</td>\n",
       "      <td>{health, education}</td>\n",
       "    </tr>\n",
       "  </tbody>\n",
       "</table>\n",
       "<p>5 rows × 30 columns</p>\n",
       "</div>"
      ],
      "text/plain": [
       "       key                             name  \\\n",
       "9       10   Kupu Kupu Foundation Indonesia   \n",
       "10      11        Yayasan Solemen Indonesia   \n",
       "14      15           Fair Future Foundation   \n",
       "26      27  Yayasan Kemanusiaan Ibu Pertiwi   \n",
       "2557  2558                MÃ¢ÂÂLop Tapang   \n",
       "\n",
       "                                            description  \\\n",
       "9     We help improve lives by assisting with medica...   \n",
       "10    Yayasan Solemen Indonesia, an Indonesian regis...   \n",
       "14                   Free healthcare for people in need   \n",
       "26    YKIP (Yayasan Kemanusiaan Ibu Pertiwi) or the ...   \n",
       "2557  M'lop Tapang is a comprehensive center dedicat...   \n",
       "\n",
       "                                  website  \\\n",
       "9       http://www.kupukupufoundation.org   \n",
       "10                 http://www.solemen.org   \n",
       "14    http://www.fairfuturefoundation.org   \n",
       "26                    http://www.ykip.org   \n",
       "2557                                  NaN   \n",
       "\n",
       "                                             cause_area  \\\n",
       "9                 Children, Health, Education & Schools   \n",
       "10    Balinese People, Children, Health, General Wel...   \n",
       "14    Balinese People, Children, Health, General Wel...   \n",
       "26                Children, Health, Education & Schools   \n",
       "2557  Education, Health, Economic Empowerment, Right...   \n",
       "\n",
       "                                        programme_types  \\\n",
       "9     Kupu-Kupu Foundation improves the lives of peo...   \n",
       "10    Our mission is to help the disadvantaged in Ba...   \n",
       "14    to improve the daily life of the local communi...   \n",
       "26    Our mission is to restore vision. Our vision i...   \n",
       "2557                                                NaN   \n",
       "\n",
       "                                                address    country   city  \\\n",
       "9     Jl. Tirta Tawar No.22, Ubud, Kabupaten Gianyar...  indonesia   Ubud   \n",
       "10    80363, Jl. Danau Poso No.55, Sanur Kauh, South...  indonesia   Kuta   \n",
       "14    Jalan Sriwedari 6, Taman Kaja, Ubud, Bali 8051...  indonesia   Ubud   \n",
       "26    Jalan By Pass Ngurah Rai, Gang Mina Utama No.1...  indonesia  Tuban   \n",
       "2557                                                NaN   cambodia    NaN   \n",
       "\n",
       "           contact_number           ...           Details.URL fax revenue  \\\n",
       "9         +62 812 3628720           ...                   NaN NaN     NaN   \n",
       "10    +62  0812 3720 6220           ...                   NaN NaN     NaN   \n",
       "14         +62 361 975370           ...                   NaN NaN     NaN   \n",
       "26         +62 361 761208           ...                   NaN NaN     NaN   \n",
       "2557                  NaN           ...                   NaN NaN     NaN   \n",
       "\n",
       "     employees       lat         lon  \\\n",
       "9          NaN -8.506246  115.268599   \n",
       "10         NaN -8.705537  115.252546   \n",
       "14         NaN -8.507416  115.265190   \n",
       "26         NaN -8.715940  115.220705   \n",
       "2557       NaN       NaN         NaN   \n",
       "\n",
       "                                       desc_clean_words  \\\n",
       "9     [we, help, improve, live, assist, medical, car...   \n",
       "10    [yayasan, solemen, indonesia, indonesian, regi...   \n",
       "14                     [free, healthcare, people, need]   \n",
       "26    [ykip, yayasan, kemanusiaan, ibu, pertiwi, hum...   \n",
       "2557  [m'lop, tapang, comprehensive, center, dedicat...   \n",
       "\n",
       "                                             desc_clean  \\\n",
       "9     we help improve live assist medical care medic...   \n",
       "10    yayasan solemen indonesia indonesian register ...   \n",
       "14                          free healthcare people need   \n",
       "26    ykip yayasan kemanusiaan ibu pertiwi humanitar...   \n",
       "2557  m'lop tapang comprehensive center dedicate dis...   \n",
       "\n",
       "                                       cause_area_clean  \\\n",
       "9               {education & schools, children, health}   \n",
       "10    {children, balinese people, health, general we...   \n",
       "14    {children, balinese people, health, general we...   \n",
       "26              {education & schools, children, health}   \n",
       "2557  {rights protection, economic empowerment, heal...   \n",
       "\n",
       "     cause_area_clean_filter  \n",
       "9         {children, health}  \n",
       "10        {children, health}  \n",
       "14        {children, health}  \n",
       "26        {children, health}  \n",
       "2557     {health, education}  \n",
       "\n",
       "[5 rows x 30 columns]"
      ]
     },
     "execution_count": 24,
     "metadata": {},
     "output_type": "execute_result"
    }
   ],
   "source": [
    "web_df_select.head()"
   ]
  },
  {
   "cell_type": "markdown",
   "metadata": {},
   "source": [
    "Q: total number of organizations after filtering"
   ]
  },
  {
   "cell_type": "code",
   "execution_count": 25,
   "metadata": {},
   "outputs": [
    {
     "data": {
      "text/plain": [
       "258"
      ]
     },
     "execution_count": 25,
     "metadata": {},
     "output_type": "execute_result"
    }
   ],
   "source": [
    "len(web_df_select)"
   ]
  },
  {
   "cell_type": "markdown",
   "metadata": {},
   "source": [
    "#### split train/test/validation"
   ]
  },
  {
   "cell_type": "code",
   "execution_count": 26,
   "metadata": {},
   "outputs": [],
   "source": [
    "train_ratio, test_ratio, validation_ratio_from_test = (0.7,0.3,0.5)"
   ]
  },
  {
   "cell_type": "code",
   "execution_count": 27,
   "metadata": {},
   "outputs": [],
   "source": [
    "def do_train_test_validation_split(df, train_ratio, test_ratio, validation_ratio_from_test, random_state=None):\n",
    "    train_data, test_data = \\\n",
    "        train_test_split(df, train_size=train_ratio, test_size=test_ratio, random_state=random_state)\n",
    "    validation_data, test_data = \\\n",
    "        train_test_split(test_data, train_size=validation_ratio_from_test, \n",
    "                          test_size=1-validation_ratio_from_test, random_state=random_state)\n",
    "            \n",
    "    return train_data, test_data, validation_data\n",
    "    \n",
    "train_data, test_data, validation_data = \\\n",
    "    do_train_test_validation_split(web_df_select, train_ratio, test_ratio, validation_ratio_from_test, 1)"
   ]
  },
  {
   "cell_type": "markdown",
   "metadata": {},
   "source": [
    "train/test/validation counts"
   ]
  },
  {
   "cell_type": "code",
   "execution_count": 28,
   "metadata": {},
   "outputs": [
    {
     "name": "stdout",
     "output_type": "stream",
     "text": [
      "train count: 180\n",
      "test count: 39\n",
      "validation count: 39\n"
     ]
    }
   ],
   "source": [
    "print(\"train count: %d\" % len(train_data))\n",
    "print(\"test count: %d\" % len(test_data))\n",
    "print(\"validation count: %d\" % len(validation_data));"
   ]
  },
  {
   "cell_type": "markdown",
   "metadata": {},
   "source": [
    "#### encode org descriptions using CountVectorizer"
   ]
  },
  {
   "cell_type": "code",
   "execution_count": 77,
   "metadata": {},
   "outputs": [],
   "source": [
    "count_vectorizer = CountVectorizer(max_features=100)\n",
    "\n",
    "train_data_feat = count_vectorizer.fit_transform(train_data['desc_clean'])\n",
    "test_data_feat = count_vectorizer.transform(test_data['desc_clean'])\n",
    "validation_data_feat = count_vectorizer.transform(test_data['desc_clean'])"
   ]
  },
  {
   "cell_type": "markdown",
   "metadata": {},
   "source": [
    "## create labels: cause area categories\n",
    "#### encode cause area categories to multi-label"
   ]
  },
  {
   "cell_type": "code",
   "execution_count": 30,
   "metadata": {},
   "outputs": [
    {
     "data": {
      "text/plain": [
       "array(['arts and heritage', 'charitable', 'children', 'children & youth',\n",
       "       'community', 'development', 'differently abled', 'education',\n",
       "       'educational', 'environment', 'health', 'human rights', 'others',\n",
       "       'religious', 'social and cultural development',\n",
       "       'social and welfare', 'social development', 'social services',\n",
       "       'sports', 'support groups'], dtype=object)"
      ]
     },
     "execution_count": 30,
     "metadata": {},
     "output_type": "execute_result"
    }
   ],
   "source": [
    "mlb = MultiLabelBinarizer()\n",
    "mlb.fit([web_cause_area_select['cause area']])\n",
    "mlb.classes_"
   ]
  },
  {
   "cell_type": "code",
   "execution_count": 31,
   "metadata": {},
   "outputs": [
    {
     "data": {
      "text/html": [
       "<div>\n",
       "<style>\n",
       "    .dataframe thead tr:only-child th {\n",
       "        text-align: right;\n",
       "    }\n",
       "\n",
       "    .dataframe thead th {\n",
       "        text-align: left;\n",
       "    }\n",
       "\n",
       "    .dataframe tbody tr th {\n",
       "        vertical-align: top;\n",
       "    }\n",
       "</style>\n",
       "<table border=\"1\" class=\"dataframe\">\n",
       "  <thead>\n",
       "    <tr style=\"text-align: right;\">\n",
       "      <th></th>\n",
       "      <th>key</th>\n",
       "      <th>name</th>\n",
       "      <th>description</th>\n",
       "      <th>website</th>\n",
       "      <th>cause_area</th>\n",
       "      <th>programme_types</th>\n",
       "      <th>address</th>\n",
       "      <th>country</th>\n",
       "      <th>city</th>\n",
       "      <th>contact_number</th>\n",
       "      <th>...</th>\n",
       "      <th>Details.URL</th>\n",
       "      <th>fax</th>\n",
       "      <th>revenue</th>\n",
       "      <th>employees</th>\n",
       "      <th>lat</th>\n",
       "      <th>lon</th>\n",
       "      <th>desc_clean_words</th>\n",
       "      <th>desc_clean</th>\n",
       "      <th>cause_area_clean</th>\n",
       "      <th>cause_area_clean_filter</th>\n",
       "    </tr>\n",
       "  </thead>\n",
       "  <tbody>\n",
       "    <tr>\n",
       "      <th>3324</th>\n",
       "      <td>3325</td>\n",
       "      <td>ABCs and Rice</td>\n",
       "      <td>Being a Kid Is Their Job: ABCs and Rice is a s...</td>\n",
       "      <td>NaN</td>\n",
       "      <td>Children, Education, Hunger</td>\n",
       "      <td>NaN</td>\n",
       "      <td>NaN</td>\n",
       "      <td>cambodia</td>\n",
       "      <td>NaN</td>\n",
       "      <td>NaN</td>\n",
       "      <td>...</td>\n",
       "      <td>NaN</td>\n",
       "      <td>NaN</td>\n",
       "      <td>NaN</td>\n",
       "      <td>NaN</td>\n",
       "      <td>NaN</td>\n",
       "      <td>NaN</td>\n",
       "      <td>[being, kid, is, their, job, abcs, rice, schoo...</td>\n",
       "      <td>being kid is their job abcs rice school provid...</td>\n",
       "      <td>{hunger, children, education}</td>\n",
       "      <td>{children, education}</td>\n",
       "    </tr>\n",
       "    <tr>\n",
       "      <th>10561</th>\n",
       "      <td>10562</td>\n",
       "      <td>Thai Mueang Volunteers</td>\n",
       "      <td>Thai Mueang Volunteers work very closely with ...</td>\n",
       "      <td>http://www.tmvolunteers.org/</td>\n",
       "      <td>Children,Community Service,Educational,</td>\n",
       "      <td>NaN</td>\n",
       "      <td>NaN</td>\n",
       "      <td>thailand</td>\n",
       "      <td>Thai Mueang</td>\n",
       "      <td>NaN</td>\n",
       "      <td>...</td>\n",
       "      <td>NaN</td>\n",
       "      <td>NaN</td>\n",
       "      <td>NaN</td>\n",
       "      <td>NaN</td>\n",
       "      <td>NaN</td>\n",
       "      <td>NaN</td>\n",
       "      <td>[thai, mueang, volunteers, work, closely, scho...</td>\n",
       "      <td>thai mueang volunteers work closely school hea...</td>\n",
       "      <td>{community service, educational, children}</td>\n",
       "      <td>{educational, children}</td>\n",
       "    </tr>\n",
       "    <tr>\n",
       "      <th>10234</th>\n",
       "      <td>10235</td>\n",
       "      <td>Kalinangan Youth Foundation, Inc.</td>\n",
       "      <td>Company Description:\\nThe Kalinangan Youth Fou...</td>\n",
       "      <td>NaN</td>\n",
       "      <td>Charitable,Social Development</td>\n",
       "      <td>NaN</td>\n",
       "      <td>Rm. 202 Alexander House, 132 Amorsolo St., Leg...</td>\n",
       "      <td>NaN</td>\n",
       "      <td>NaN</td>\n",
       "      <td>NaN</td>\n",
       "      <td>...</td>\n",
       "      <td>NaN</td>\n",
       "      <td>NaN</td>\n",
       "      <td>NaN</td>\n",
       "      <td>NaN</td>\n",
       "      <td>14.554705</td>\n",
       "      <td>121.015068</td>\n",
       "      <td>[company, description, \\n, the, kalinangan, yo...</td>\n",
       "      <td>company description \\n the kalinangan youth fo...</td>\n",
       "      <td>{charitable, social development}</td>\n",
       "      <td>{charitable, social development}</td>\n",
       "    </tr>\n",
       "    <tr>\n",
       "      <th>3391</th>\n",
       "      <td>3392</td>\n",
       "      <td>For Vietnamese Stature Foundation</td>\n",
       "      <td>Daily School Milk for 300 Poor Children in Vie...</td>\n",
       "      <td>NaN</td>\n",
       "      <td>Children, HumanÃÂ Rights, Hunger, HumanÃÂ Ri...</td>\n",
       "      <td>NaN</td>\n",
       "      <td>NaN</td>\n",
       "      <td>vietnam</td>\n",
       "      <td>NaN</td>\n",
       "      <td>NaN</td>\n",
       "      <td>...</td>\n",
       "      <td>NaN</td>\n",
       "      <td>NaN</td>\n",
       "      <td>NaN</td>\n",
       "      <td>NaN</td>\n",
       "      <td>NaN</td>\n",
       "      <td>NaN</td>\n",
       "      <td>[daily, school, milk, 300, poor, children, vie...</td>\n",
       "      <td>daily school milk 300 poor children vietnam th...</td>\n",
       "      <td>{children, humanãâ rights, womenãâ andãâ gi...</td>\n",
       "      <td>{children, health}</td>\n",
       "    </tr>\n",
       "    <tr>\n",
       "      <th>10306</th>\n",
       "      <td>10307</td>\n",
       "      <td>Ramon Magsaysay Award Foundation</td>\n",
       "      <td>Company Description:\\nThe Ramon Magsaysay Awar...</td>\n",
       "      <td>rmaf.org.ph</td>\n",
       "      <td>Charitable,Social Development</td>\n",
       "      <td>NaN</td>\n",
       "      <td>G/F Ramon Magsaysay Center, 1680 Roxas Blvd. C...</td>\n",
       "      <td>NaN</td>\n",
       "      <td>NaN</td>\n",
       "      <td>NaN</td>\n",
       "      <td>...</td>\n",
       "      <td>NaN</td>\n",
       "      <td>NaN</td>\n",
       "      <td>NaN</td>\n",
       "      <td>NaN</td>\n",
       "      <td>-22.139555</td>\n",
       "      <td>17.222061</td>\n",
       "      <td>[company, description, \\n, the, ramon, magsays...</td>\n",
       "      <td>company description \\n the ramon magsaysay awa...</td>\n",
       "      <td>{charitable, social development}</td>\n",
       "      <td>{charitable, social development}</td>\n",
       "    </tr>\n",
       "  </tbody>\n",
       "</table>\n",
       "<p>5 rows × 30 columns</p>\n",
       "</div>"
      ],
      "text/plain": [
       "         key                               name  \\\n",
       "3324    3325                      ABCs and Rice   \n",
       "10561  10562             Thai Mueang Volunteers   \n",
       "10234  10235  Kalinangan Youth Foundation, Inc.   \n",
       "3391    3392  For Vietnamese Stature Foundation   \n",
       "10306  10307   Ramon Magsaysay Award Foundation   \n",
       "\n",
       "                                             description  \\\n",
       "3324   Being a Kid Is Their Job: ABCs and Rice is a s...   \n",
       "10561  Thai Mueang Volunteers work very closely with ...   \n",
       "10234  Company Description:\\nThe Kalinangan Youth Fou...   \n",
       "3391   Daily School Milk for 300 Poor Children in Vie...   \n",
       "10306  Company Description:\\nThe Ramon Magsaysay Awar...   \n",
       "\n",
       "                            website  \\\n",
       "3324                            NaN   \n",
       "10561  http://www.tmvolunteers.org/   \n",
       "10234                           NaN   \n",
       "3391                            NaN   \n",
       "10306                   rmaf.org.ph   \n",
       "\n",
       "                                              cause_area programme_types  \\\n",
       "3324                         Children, Education, Hunger             NaN   \n",
       "10561            Children,Community Service,Educational,             NaN   \n",
       "10234                      Charitable,Social Development             NaN   \n",
       "3391   Children, HumanÃÂ Rights, Hunger, HumanÃÂ Ri...             NaN   \n",
       "10306                      Charitable,Social Development             NaN   \n",
       "\n",
       "                                                 address   country  \\\n",
       "3324                                                 NaN  cambodia   \n",
       "10561                                                NaN  thailand   \n",
       "10234  Rm. 202 Alexander House, 132 Amorsolo St., Leg...       NaN   \n",
       "3391                                                 NaN   vietnam   \n",
       "10306  G/F Ramon Magsaysay Center, 1680 Roxas Blvd. C...       NaN   \n",
       "\n",
       "              city contact_number                ...                 \\\n",
       "3324           NaN            NaN                ...                  \n",
       "10561  Thai Mueang            NaN                ...                  \n",
       "10234          NaN            NaN                ...                  \n",
       "3391           NaN            NaN                ...                  \n",
       "10306          NaN            NaN                ...                  \n",
       "\n",
       "      Details.URL fax revenue employees        lat         lon  \\\n",
       "3324          NaN NaN     NaN       NaN        NaN         NaN   \n",
       "10561         NaN NaN     NaN       NaN        NaN         NaN   \n",
       "10234         NaN NaN     NaN       NaN  14.554705  121.015068   \n",
       "3391          NaN NaN     NaN       NaN        NaN         NaN   \n",
       "10306         NaN NaN     NaN       NaN -22.139555   17.222061   \n",
       "\n",
       "                                        desc_clean_words  \\\n",
       "3324   [being, kid, is, their, job, abcs, rice, schoo...   \n",
       "10561  [thai, mueang, volunteers, work, closely, scho...   \n",
       "10234  [company, description, \\n, the, kalinangan, yo...   \n",
       "3391   [daily, school, milk, 300, poor, children, vie...   \n",
       "10306  [company, description, \\n, the, ramon, magsays...   \n",
       "\n",
       "                                              desc_clean  \\\n",
       "3324   being kid is their job abcs rice school provid...   \n",
       "10561  thai mueang volunteers work closely school hea...   \n",
       "10234  company description \\n the kalinangan youth fo...   \n",
       "3391   daily school milk 300 poor children vietnam th...   \n",
       "10306  company description \\n the ramon magsaysay awa...   \n",
       "\n",
       "                                        cause_area_clean  \\\n",
       "3324                       {hunger, children, education}   \n",
       "10561         {community service, educational, children}   \n",
       "10234                   {charitable, social development}   \n",
       "3391   {children, humanãâ rights, womenãâ andãâ gi...   \n",
       "10306                   {charitable, social development}   \n",
       "\n",
       "                cause_area_clean_filter  \n",
       "3324              {children, education}  \n",
       "10561           {educational, children}  \n",
       "10234  {charitable, social development}  \n",
       "3391                 {children, health}  \n",
       "10306  {charitable, social development}  \n",
       "\n",
       "[5 rows x 30 columns]"
      ]
     },
     "execution_count": 31,
     "metadata": {},
     "output_type": "execute_result"
    }
   ],
   "source": [
    "validation_data.head()"
   ]
  },
  {
   "cell_type": "code",
   "execution_count": 32,
   "metadata": {},
   "outputs": [],
   "source": [
    "train_data_label = mlb.transform(train_data['cause_area_clean_filter'])\n",
    "test_data_label = mlb.transform(test_data['cause_area_clean_filter'])\n",
    "validation_data_label = mlb.transform(validation_data['cause_area_clean_filter'])"
   ]
  },
  {
   "cell_type": "markdown",
   "metadata": {},
   "source": [
    "## classify orgs"
   ]
  },
  {
   "cell_type": "code",
   "execution_count": 33,
   "metadata": {},
   "outputs": [],
   "source": [
    "base_clf = ensemble.RandomForestClassifier(n_estimators=25, n_jobs=-1)\n",
    "base_clf = base_clf.fit(train_data_feat, train_data_label)\n",
    "test_predict = base_clf.predict(test_data_feat)\n",
    "train_predict = base_clf.predict(train_data_feat)\n",
    "validation_predict = base_clf.predict(validation_data_feat)"
   ]
  },
  {
   "cell_type": "markdown",
   "metadata": {},
   "source": [
    "## classifier performance"
   ]
  },
  {
   "cell_type": "code",
   "execution_count": 34,
   "metadata": {},
   "outputs": [],
   "source": [
    "## accuracy helper\n",
    "def get_accuracy(true_labels, predicted_labels):\n",
    "    accuracies = {}\n",
    "    \n",
    "    predicted_classes = list(mlb.classes_)\n",
    "    for cause_area in web_cause_area_select['cause area']:\n",
    "        index = predicted_classes.index(cause_area)\n",
    "        accuracy = accuracy_score(\n",
    "            [a[index] for a in true_labels],\n",
    "            [a[index] for a in predicted_labels]\n",
    "        )\n",
    "        accuracies[cause_area] = accuracy\n",
    "        \n",
    "    return accuracies"
   ]
  },
  {
   "cell_type": "markdown",
   "metadata": {},
   "source": [
    "on train data"
   ]
  },
  {
   "cell_type": "code",
   "execution_count": 67,
   "metadata": {},
   "outputs": [
    {
     "data": {
      "text/plain": [
       "{'arts and heritage': 1.0,\n",
       " 'charitable': 1.0,\n",
       " 'children': 1.0,\n",
       " 'children & youth': 1.0,\n",
       " 'community': 1.0,\n",
       " 'development': 1.0,\n",
       " 'differently abled': 1.0,\n",
       " 'education': 1.0,\n",
       " 'educational': 0.99444444444444446,\n",
       " 'environment': 1.0,\n",
       " 'health': 1.0,\n",
       " 'human rights': 1.0,\n",
       " 'others': 1.0,\n",
       " 'religious': 1.0,\n",
       " 'social and cultural development': 1.0,\n",
       " 'social and welfare': 1.0,\n",
       " 'social development': 1.0,\n",
       " 'social services': 1.0,\n",
       " 'sports': 1.0,\n",
       " 'support groups': 1.0}"
      ]
     },
     "execution_count": 67,
     "metadata": {},
     "output_type": "execute_result"
    }
   ],
   "source": [
    "pre_optimization_train_acc = get_accuracy(train_data_label, train_predict)\n",
    "pre_optimization_train_acc"
   ]
  },
  {
   "cell_type": "markdown",
   "metadata": {},
   "source": [
    "on test data"
   ]
  },
  {
   "cell_type": "code",
   "execution_count": 68,
   "metadata": {},
   "outputs": [
    {
     "data": {
      "text/plain": [
       "{'arts and heritage': 1.0,\n",
       " 'charitable': 1.0,\n",
       " 'children': 0.76923076923076927,\n",
       " 'children & youth': 1.0,\n",
       " 'community': 0.89743589743589747,\n",
       " 'development': 1.0,\n",
       " 'differently abled': 1.0,\n",
       " 'education': 0.84615384615384615,\n",
       " 'educational': 0.71794871794871795,\n",
       " 'environment': 0.76923076923076927,\n",
       " 'health': 0.84615384615384615,\n",
       " 'human rights': 0.92307692307692313,\n",
       " 'others': 1.0,\n",
       " 'religious': 0.94871794871794868,\n",
       " 'social and cultural development': 1.0,\n",
       " 'social and welfare': 1.0,\n",
       " 'social development': 0.92307692307692313,\n",
       " 'social services': 1.0,\n",
       " 'sports': 1.0,\n",
       " 'support groups': 1.0}"
      ]
     },
     "execution_count": 68,
     "metadata": {},
     "output_type": "execute_result"
    }
   ],
   "source": [
    "get_accuracy(test_data_label, test_predict)"
   ]
  },
  {
   "cell_type": "markdown",
   "metadata": {},
   "source": [
    "on validation data (but **not** used as metric, since it will be used for next section)"
   ]
  },
  {
   "cell_type": "code",
   "execution_count": 69,
   "metadata": {},
   "outputs": [
    {
     "data": {
      "text/plain": [
       "{'arts and heritage': 1.0,\n",
       " 'charitable': 0.33333333333333331,\n",
       " 'children': 0.38461538461538464,\n",
       " 'children & youth': 1.0,\n",
       " 'community': 0.94871794871794868,\n",
       " 'development': 1.0,\n",
       " 'differently abled': 1.0,\n",
       " 'education': 0.48717948717948717,\n",
       " 'educational': 0.5641025641025641,\n",
       " 'environment': 0.89743589743589747,\n",
       " 'health': 0.71794871794871795,\n",
       " 'human rights': 0.97435897435897434,\n",
       " 'others': 1.0,\n",
       " 'religious': 1.0,\n",
       " 'social and cultural development': 1.0,\n",
       " 'social and welfare': 1.0,\n",
       " 'social development': 0.53846153846153844,\n",
       " 'social services': 1.0,\n",
       " 'sports': 1.0,\n",
       " 'support groups': 1.0}"
      ]
     },
     "execution_count": 69,
     "metadata": {},
     "output_type": "execute_result"
    }
   ],
   "source": [
    "pre_optimization_validation_acc = get_accuracy(validation_data_label, validation_predict)\n",
    "pre_optimization_validation_acc"
   ]
  },
  {
   "cell_type": "markdown",
   "metadata": {},
   "source": [
    "Q: mean train/test/validation accuracies"
   ]
  },
  {
   "cell_type": "code",
   "execution_count": 76,
   "metadata": {},
   "outputs": [
    {
     "name": "stdout",
     "output_type": "stream",
     "text": [
      "mean train acc: 0.999722\n",
      "mean test acc: 0.932051\n",
      "mean validation acc: 0.842308\n"
     ]
    }
   ],
   "source": [
    "print('mean train acc: %f' % np.average(list(pre_optimization_train_acc.values())))\n",
    "print('mean test acc: %f' % np.average(list(get_accuracy(test_data_label, test_predict).values())))\n",
    "print('mean validation acc: %f' % np.average(list(pre_optimization_validation_acc.values())))"
   ]
  },
  {
   "cell_type": "markdown",
   "metadata": {},
   "source": [
    "## classification (optimization)\n",
    "improve model performance on test/validation data\n",
    "- since model does very well on train data, we don't need a more complex model\n",
    "- however, since test accuracy is far lower than train accuracy, model is overfitting\n",
    "- thus, reduce overfitting by optimizing model hyperparameters\n",
    "- use grid search to find best model hyperparameters"
   ]
  },
  {
   "cell_type": "markdown",
   "metadata": {},
   "source": [
    "#### complexity of current model\n",
    "random forest classifier parameters"
   ]
  },
  {
   "cell_type": "code",
   "execution_count": 39,
   "metadata": {},
   "outputs": [
    {
     "data": {
      "text/plain": [
       "RandomForestClassifier(bootstrap=True, class_weight=None, criterion='gini',\n",
       "            max_depth=None, max_features='auto', max_leaf_nodes=None,\n",
       "            min_impurity_decrease=0.0, min_impurity_split=None,\n",
       "            min_samples_leaf=1, min_samples_split=2,\n",
       "            min_weight_fraction_leaf=0.0, n_estimators=25, n_jobs=-1,\n",
       "            oob_score=False, random_state=None, verbose=0,\n",
       "            warm_start=False)"
      ]
     },
     "execution_count": 39,
     "metadata": {},
     "output_type": "execute_result"
    }
   ],
   "source": [
    "base_clf"
   ]
  },
  {
   "cell_type": "markdown",
   "metadata": {},
   "source": [
    "1st decision tree's parameters"
   ]
  },
  {
   "cell_type": "code",
   "execution_count": 40,
   "metadata": {},
   "outputs": [
    {
     "data": {
      "text/plain": [
       "DecisionTreeClassifier(class_weight=None, criterion='gini', max_depth=None,\n",
       "            max_features='auto', max_leaf_nodes=None,\n",
       "            min_impurity_decrease=0.0, min_impurity_split=None,\n",
       "            min_samples_leaf=1, min_samples_split=2,\n",
       "            min_weight_fraction_leaf=0.0, presort=False,\n",
       "            random_state=1594069210, splitter='best')"
      ]
     },
     "execution_count": 40,
     "metadata": {},
     "output_type": "execute_result"
    }
   ],
   "source": [
    "base_clf.estimators_[0]"
   ]
  },
  {
   "cell_type": "markdown",
   "metadata": {},
   "source": [
    "max_depth and node_count of all decision trees"
   ]
  },
  {
   "cell_type": "code",
   "execution_count": 41,
   "metadata": {},
   "outputs": [
    {
     "data": {
      "text/plain": [
       "[{'max_depth': 13, 'node_count': 141},\n",
       " {'max_depth': 15, 'node_count': 143},\n",
       " {'max_depth': 11, 'node_count': 139},\n",
       " {'max_depth': 17, 'node_count': 131},\n",
       " {'max_depth': 18, 'node_count': 123},\n",
       " {'max_depth': 15, 'node_count': 139},\n",
       " {'max_depth': 16, 'node_count': 145},\n",
       " {'max_depth': 16, 'node_count': 135},\n",
       " {'max_depth': 13, 'node_count': 147},\n",
       " {'max_depth': 16, 'node_count': 133},\n",
       " {'max_depth': 14, 'node_count': 147},\n",
       " {'max_depth': 18, 'node_count': 125},\n",
       " {'max_depth': 13, 'node_count': 145},\n",
       " {'max_depth': 16, 'node_count': 137},\n",
       " {'max_depth': 14, 'node_count': 147},\n",
       " {'max_depth': 11, 'node_count': 137},\n",
       " {'max_depth': 14, 'node_count': 159},\n",
       " {'max_depth': 18, 'node_count': 135},\n",
       " {'max_depth': 13, 'node_count': 139},\n",
       " {'max_depth': 15, 'node_count': 137},\n",
       " {'max_depth': 18, 'node_count': 133},\n",
       " {'max_depth': 17, 'node_count': 131},\n",
       " {'max_depth': 15, 'node_count': 139},\n",
       " {'max_depth': 18, 'node_count': 129},\n",
       " {'max_depth': 17, 'node_count': 131}]"
      ]
     },
     "execution_count": 41,
     "metadata": {},
     "output_type": "execute_result"
    }
   ],
   "source": [
    "def get_random_tree_statistics(random_tree):\n",
    "    def get_attributes(tree):\n",
    "        return {\n",
    "            'max_depth': tree.max_depth,\n",
    "            'node_count': tree.node_count,\n",
    "        }\n",
    "    \n",
    "    return [get_attributes(t.tree_) for t in random_tree.estimators_]\n",
    "\n",
    "base_clf_statistics = get_random_tree_statistics(base_clf)\n",
    "base_clf_statistics"
   ]
  },
  {
   "cell_type": "markdown",
   "metadata": {},
   "source": [
    "Q: median tree max depth"
   ]
  },
  {
   "cell_type": "code",
   "execution_count": 42,
   "metadata": {},
   "outputs": [
    {
     "data": {
      "text/plain": [
       "15.0"
      ]
     },
     "execution_count": 42,
     "metadata": {},
     "output_type": "execute_result"
    }
   ],
   "source": [
    "np.median([x['max_depth'] for x in base_clf_statistics])"
   ]
  },
  {
   "cell_type": "markdown",
   "metadata": {},
   "source": [
    "Q: median tree node count"
   ]
  },
  {
   "cell_type": "code",
   "execution_count": 43,
   "metadata": {},
   "outputs": [
    {
     "data": {
      "text/plain": [
       "137.0"
      ]
     },
     "execution_count": 43,
     "metadata": {},
     "output_type": "execute_result"
    }
   ],
   "source": [
    "np.median([x['node_count'] for x in base_clf_statistics])"
   ]
  },
  {
   "cell_type": "markdown",
   "metadata": {},
   "source": [
    "#### bounds and parameters for grid search\n",
    "since the objective is to reduce model complexity, the following parameters can be explored to find the best hyperparameters for the model\n",
    "- n_estimators (5-50, increments of 5): lower = less overfitting\n",
    "- max_depth (5-20): lower = less overfitting\n",
    "- min_samples_leaf (1-10): higher = less overfitting\n",
    "- min_samples_split (2-10): higher = less overfitting"
   ]
  },
  {
   "cell_type": "code",
   "execution_count": 44,
   "metadata": {},
   "outputs": [],
   "source": [
    "n_estimators_range = range(5,50+1,10)\n",
    "max_depth_range = range(5,20+1)\n",
    "min_samples_leaf_range = range(1,10+1)\n",
    "min_samples_split_range = range(2,10+1)"
   ]
  },
  {
   "cell_type": "markdown",
   "metadata": {},
   "source": [
    "generate hyperparameters"
   ]
  },
  {
   "cell_type": "code",
   "execution_count": 45,
   "metadata": {},
   "outputs": [
    {
     "data": {
      "text/plain": [
       "[hyperparameters(n_estimators=45, max_depth=15, min_samples_leaf=6, min_samples_split=9),\n",
       " hyperparameters(n_estimators=25, max_depth=13, min_samples_leaf=10, min_samples_split=7),\n",
       " hyperparameters(n_estimators=5, max_depth=17, min_samples_leaf=10, min_samples_split=6),\n",
       " hyperparameters(n_estimators=45, max_depth=19, min_samples_leaf=4, min_samples_split=6),\n",
       " hyperparameters(n_estimators=15, max_depth=15, min_samples_leaf=3, min_samples_split=5)]"
      ]
     },
     "execution_count": 45,
     "metadata": {},
     "output_type": "execute_result"
    }
   ],
   "source": [
    "from collections import namedtuple\n",
    "import random\n",
    "\n",
    "dt_hyperparameters = namedtuple('hyperparameters','n_estimators max_depth min_samples_leaf min_samples_split')\n",
    "def create_dt_hyperparameters():\n",
    "    return dt_hyperparameters(\n",
    "        random.choice(n_estimators_range),\n",
    "        random.choice(max_depth_range),\n",
    "        random.choice(min_samples_leaf_range),\n",
    "        random.choice(min_samples_split_range),\n",
    "    )\n",
    "\n",
    "dt_hyperparameters_list = [create_dt_hyperparameters() for x in range(1,100)]\n",
    "dt_hyperparameters_list[:5]"
   ]
  },
  {
   "cell_type": "markdown",
   "metadata": {},
   "source": [
    "define classify function for hyperameter search"
   ]
  },
  {
   "cell_type": "code",
   "execution_count": 46,
   "metadata": {},
   "outputs": [],
   "source": [
    "def do_classify(model_params):\n",
    "    clf = ensemble.RandomForestClassifier(\n",
    "        n_estimators = model_params.n_estimators,\n",
    "        max_depth = model_params.max_depth,\n",
    "        min_samples_leaf = model_params.min_samples_leaf,\n",
    "        min_samples_split = model_params.min_samples_split,\n",
    "        n_jobs = -1)\n",
    "    clf = clf.fit(train_data_feat, train_data_label)\n",
    "    \n",
    "    test_predict = clf.predict(test_data_feat)\n",
    "    train_predict = clf.predict(train_data_feat)\n",
    "    validation_predict = clf.predict(validation_data_feat)\n",
    "    \n",
    "    train_acc = get_accuracy(train_data_label, train_predict)\n",
    "    test_acc = get_accuracy(test_data_label, test_predict)\n",
    "    validation_acc = get_accuracy(validation_data_label, validation_predict)\n",
    "    \n",
    "    return {\n",
    "        'model_params': model_params,\n",
    "        'train_acc': train_acc,\n",
    "        'test_acc': test_acc,\n",
    "        'validation_acc': validation_acc,\n",
    "        'mean_train_acc': np.average(list(train_acc.values())),\n",
    "        'mean_test_acc': np.average(list(test_acc.values())),\n",
    "        'mean_validation_acc': np.average(list(validation_acc.values())),\n",
    "        'clf': clf,\n",
    "    }"
   ]
  },
  {
   "cell_type": "markdown",
   "metadata": {},
   "source": [
    "do hyperparameter search"
   ]
  },
  {
   "cell_type": "code",
   "execution_count": 47,
   "metadata": {},
   "outputs": [],
   "source": [
    "experiment_results = [do_classify(params) for params in dt_hyperparameters_list]"
   ]
  },
  {
   "cell_type": "markdown",
   "metadata": {},
   "source": [
    "get hyperparameters with best mean test performance\n",
    "- ie. using test set to optimize hyperparameters"
   ]
  },
  {
   "cell_type": "code",
   "execution_count": 48,
   "metadata": {},
   "outputs": [
    {
     "name": "stdout",
     "output_type": "stream",
     "text": [
      "top hyperparameters:  hyperparameters(n_estimators=5, max_depth=14, min_samples_leaf=1, min_samples_split=3)\n",
      "mean train accuracy: 0.988611\n",
      "mean test accuracy: 0.915385\n"
     ]
    }
   ],
   "source": [
    "top_hyperparameter = sorted(experiment_results, reverse=False, key=lambda e: e['mean_test_acc'])[0]\n",
    "print(\"top hyperparameters: \", top_hyperparameter['model_params'])\n",
    "print(\"mean train accuracy: %f\" % top_hyperparameter['mean_train_acc'])\n",
    "print(\"mean test accuracy: %f\" % top_hyperparameter['mean_test_acc'])"
   ]
  },
  {
   "cell_type": "markdown",
   "metadata": {},
   "source": [
    "mean validation accuracy of model (ie. actual performance of model on unseen data)"
   ]
  },
  {
   "cell_type": "code",
   "execution_count": 49,
   "metadata": {},
   "outputs": [
    {
     "name": "stdout",
     "output_type": "stream",
     "text": [
      "mean validation accuracy: 0.851282\n"
     ]
    }
   ],
   "source": [
    "print(\"mean validation accuracy: %f\" % top_hyperparameter['mean_validation_acc'])"
   ]
  },
  {
   "cell_type": "markdown",
   "metadata": {},
   "source": [
    "## predict descriptions with fully trained model"
   ]
  },
  {
   "cell_type": "markdown",
   "metadata": {},
   "source": [
    "train random forest classifier with top hyperparameters and with all data"
   ]
  },
  {
   "cell_type": "code",
   "execution_count": 50,
   "metadata": {},
   "outputs": [],
   "source": [
    "def train_best_clf(model_params):\n",
    "    best_clf = ensemble.RandomForestClassifier(\n",
    "        n_estimators = model_params.n_estimators,\n",
    "        max_depth = model_params.max_depth,\n",
    "        min_samples_leaf = model_params.min_samples_leaf,\n",
    "        min_samples_split = model_params.min_samples_split,\n",
    "        n_jobs = -1)\n",
    "\n",
    "    best_clf.fit(train_data_feat, train_data_label)\n",
    "    best_clf.fit(test_data_feat, test_data_label)\n",
    "    best_clf.fit(validation_data_feat, validation_data_label)\n",
    "    \n",
    "    return best_clf\n",
    "\n",
    "best_clf = train_best_clf(top_hyperparameter['model_params'])"
   ]
  },
  {
   "cell_type": "markdown",
   "metadata": {},
   "source": [
    "predict descriptions of all entries (including organizations used for train/test/validation)"
   ]
  },
  {
   "cell_type": "code",
   "execution_count": 51,
   "metadata": {},
   "outputs": [],
   "source": [
    "best_countvectorizer = CountVectorizer(max_features=100)\n",
    "count_vectorizer.fit(train_data['desc_clean'])\n",
    "count_vectorizer.fit(test_data['desc_clean'])\n",
    "count_vectorizer.fit(test_data['desc_clean'])\n",
    "\n",
    "def do_predict_cause_area_on_descriptions(df):\n",
    "    descriptions = best_countvectorizer.fit_transform(df['desc_clean'])\n",
    "    predictions_raw = best_clf.predict(descriptions)\n",
    "    predictions = mlb.inverse_transform(predictions_raw)\n",
    "    return [set(s) for s in predictions]\n",
    "    \n",
    "web_df['cause_area_predict'] = do_predict_cause_area_on_descriptions(web_df)"
   ]
  },
  {
   "cell_type": "markdown",
   "metadata": {},
   "source": [
    "Q: number of organizations with at least one predicted cause area"
   ]
  },
  {
   "cell_type": "code",
   "execution_count": 52,
   "metadata": {},
   "outputs": [
    {
     "data": {
      "text/plain": [
       "13636"
      ]
     },
     "execution_count": 52,
     "metadata": {},
     "output_type": "execute_result"
    }
   ],
   "source": [
    "len(web_df['cause_area_predict'].apply(lambda s: s if len(s) > 0 else None).dropna())"
   ]
  },
  {
   "cell_type": "markdown",
   "metadata": {},
   "source": [
    "define new row that uses predicted cause areas, and overwrites predicted cause areas if the 'ground truth' cause area is present"
   ]
  },
  {
   "cell_type": "code",
   "execution_count": 61,
   "metadata": {},
   "outputs": [
    {
     "name": "stderr",
     "output_type": "stream",
     "text": [
      "/usr/local/Cellar/python3/3.6.3/Frameworks/Python.framework/Versions/3.6/lib/python3.6/site-packages/pandas/core/indexing.py:179: SettingWithCopyWarning: \n",
      "A value is trying to be set on a copy of a slice from a DataFrame\n",
      "\n",
      "See the caveats in the documentation: http://pandas.pydata.org/pandas-docs/stable/indexing.html#indexing-view-versus-copy\n",
      "  self._setitem_with_indexer(indexer, value)\n"
     ]
    },
    {
     "data": {
      "text/html": [
       "<div>\n",
       "<style>\n",
       "    .dataframe thead tr:only-child th {\n",
       "        text-align: right;\n",
       "    }\n",
       "\n",
       "    .dataframe thead th {\n",
       "        text-align: left;\n",
       "    }\n",
       "\n",
       "    .dataframe tbody tr th {\n",
       "        vertical-align: top;\n",
       "    }\n",
       "</style>\n",
       "<table border=\"1\" class=\"dataframe\">\n",
       "  <thead>\n",
       "    <tr style=\"text-align: right;\">\n",
       "      <th></th>\n",
       "      <th>key</th>\n",
       "      <th>name</th>\n",
       "      <th>description</th>\n",
       "      <th>website</th>\n",
       "      <th>cause_area</th>\n",
       "      <th>programme_types</th>\n",
       "      <th>address</th>\n",
       "      <th>country</th>\n",
       "      <th>city</th>\n",
       "      <th>contact_number</th>\n",
       "      <th>...</th>\n",
       "      <th>revenue</th>\n",
       "      <th>employees</th>\n",
       "      <th>lat</th>\n",
       "      <th>lon</th>\n",
       "      <th>desc_clean_words</th>\n",
       "      <th>desc_clean</th>\n",
       "      <th>cause_area_clean</th>\n",
       "      <th>cause_area_clean_filter</th>\n",
       "      <th>cause_area_predict</th>\n",
       "      <th>cause_area_predict_final</th>\n",
       "    </tr>\n",
       "  </thead>\n",
       "  <tbody>\n",
       "    <tr>\n",
       "      <th>0</th>\n",
       "      <td>1</td>\n",
       "      <td>Bali Pink Ribbon - Breast Cancer Awareness Fou...</td>\n",
       "      <td>Bali Pink Ribbon was founded by Gaye Warren, a...</td>\n",
       "      <td>http://www.balipinkribbon.com</td>\n",
       "      <td>Balinese People, Health</td>\n",
       "      <td>Our vision is to prevent Indonesian women from...</td>\n",
       "      <td>80113 Dauh Puri Kauh (Denpasar Barat)</td>\n",
       "      <td>indonesia</td>\n",
       "      <td>Denpasar</td>\n",
       "      <td>+62 361 4746238</td>\n",
       "      <td>...</td>\n",
       "      <td>NaN</td>\n",
       "      <td>NaN</td>\n",
       "      <td>-8.673612</td>\n",
       "      <td>115.203737</td>\n",
       "      <td>[bali, pink, ribbon, found, gaye, warren, brit...</td>\n",
       "      <td>bali pink ribbon found gaye warren british bre...</td>\n",
       "      <td>{balinese people, health}</td>\n",
       "      <td>{health}</td>\n",
       "      <td>{charitable, educational}</td>\n",
       "      <td>{health}</td>\n",
       "    </tr>\n",
       "    <tr>\n",
       "      <th>1</th>\n",
       "      <td>2</td>\n",
       "      <td>Volunteer Programs Bali</td>\n",
       "      <td>At VP Bali, we believe that education can chan...</td>\n",
       "      <td>http://http://volunteerprogramsbali.org</td>\n",
       "      <td>Balinese People, Children, Balinese Art &amp; Culture</td>\n",
       "      <td>A dopting the Balinese values and its premise ...</td>\n",
       "      <td>80571 Ubud (Petulu)</td>\n",
       "      <td>indonesia</td>\n",
       "      <td>Ubud</td>\n",
       "      <td>NaN</td>\n",
       "      <td>...</td>\n",
       "      <td>NaN</td>\n",
       "      <td>NaN</td>\n",
       "      <td>-8.675090</td>\n",
       "      <td>115.189919</td>\n",
       "      <td>[at, vp, bali, believe, education, change, chi...</td>\n",
       "      <td>at vp bali believe education change childã¢ââ...</td>\n",
       "      <td>{children, balinese art &amp; culture, balinese pe...</td>\n",
       "      <td>{children}</td>\n",
       "      <td>{charitable}</td>\n",
       "      <td>{children}</td>\n",
       "    </tr>\n",
       "    <tr>\n",
       "      <th>2</th>\n",
       "      <td>3</td>\n",
       "      <td>NGO 4 Ger</td>\n",
       "      <td>Only for specials</td>\n",
       "      <td>http://www.fiedbeck.de</td>\n",
       "      <td>Balinese People</td>\n",
       "      <td>NaN</td>\n",
       "      <td>Strasse 1 Bali</td>\n",
       "      <td>indonesia</td>\n",
       "      <td>Amed</td>\n",
       "      <td>+49 7531 123456</td>\n",
       "      <td>...</td>\n",
       "      <td>NaN</td>\n",
       "      <td>NaN</td>\n",
       "      <td>-8.409518</td>\n",
       "      <td>115.188916</td>\n",
       "      <td>[only, special]</td>\n",
       "      <td>only special</td>\n",
       "      <td>{balinese people}</td>\n",
       "      <td>{}</td>\n",
       "      <td>{charitable, educational}</td>\n",
       "      <td>{charitable, educational}</td>\n",
       "    </tr>\n",
       "    <tr>\n",
       "      <th>3</th>\n",
       "      <td>4</td>\n",
       "      <td>Bali Children Foundation</td>\n",
       "      <td>Our vision, at Bali Children Foundation, is to...</td>\n",
       "      <td>http://www.balichildrenfoundation.org</td>\n",
       "      <td>Children, Education &amp; Schools</td>\n",
       "      <td>To provide community education in remote areas...</td>\n",
       "      <td>Jl. Raya Kesambi No.369, Kerobokan, Kuta Utara...</td>\n",
       "      <td>indonesia</td>\n",
       "      <td>Seminyak</td>\n",
       "      <td>+62 361  847 5399</td>\n",
       "      <td>...</td>\n",
       "      <td>NaN</td>\n",
       "      <td>NaN</td>\n",
       "      <td>-8.653567</td>\n",
       "      <td>115.172545</td>\n",
       "      <td>[our, vision, bali, children, foundation, prov...</td>\n",
       "      <td>our vision bali children foundation provide ed...</td>\n",
       "      <td>{education &amp; schools, children}</td>\n",
       "      <td>{children}</td>\n",
       "      <td>{educational}</td>\n",
       "      <td>{children}</td>\n",
       "    </tr>\n",
       "    <tr>\n",
       "      <th>4</th>\n",
       "      <td>5</td>\n",
       "      <td>Friends of the National Parks Foundation</td>\n",
       "      <td>Friends of the National Park Foundation (FNPF)...</td>\n",
       "      <td>http://www.fnpf.org</td>\n",
       "      <td>Environment &amp; Nature Conservation</td>\n",
       "      <td>To protect wildlife and its habitat, at the sa...</td>\n",
       "      <td>Ped, Nusapenida, Klungkung Regency, Bali 80771...</td>\n",
       "      <td>indonesia</td>\n",
       "      <td>Pejeng</td>\n",
       "      <td>+62 361 4792286</td>\n",
       "      <td>...</td>\n",
       "      <td>NaN</td>\n",
       "      <td>NaN</td>\n",
       "      <td>-8.683880</td>\n",
       "      <td>115.518827</td>\n",
       "      <td>[friends, national, park, foundation, fnpf, in...</td>\n",
       "      <td>friends national park foundation fnpf indonesi...</td>\n",
       "      <td>{environment &amp; nature conservation}</td>\n",
       "      <td>{}</td>\n",
       "      <td>{charitable, social development}</td>\n",
       "      <td>{charitable, social development}</td>\n",
       "    </tr>\n",
       "  </tbody>\n",
       "</table>\n",
       "<p>5 rows × 32 columns</p>\n",
       "</div>"
      ],
      "text/plain": [
       "   key                                               name  \\\n",
       "0    1  Bali Pink Ribbon - Breast Cancer Awareness Fou...   \n",
       "1    2                            Volunteer Programs Bali   \n",
       "2    3                                          NGO 4 Ger   \n",
       "3    4                           Bali Children Foundation   \n",
       "4    5           Friends of the National Parks Foundation   \n",
       "\n",
       "                                         description  \\\n",
       "0  Bali Pink Ribbon was founded by Gaye Warren, a...   \n",
       "1  At VP Bali, we believe that education can chan...   \n",
       "2                                  Only for specials   \n",
       "3  Our vision, at Bali Children Foundation, is to...   \n",
       "4  Friends of the National Park Foundation (FNPF)...   \n",
       "\n",
       "                                   website  \\\n",
       "0            http://www.balipinkribbon.com   \n",
       "1  http://http://volunteerprogramsbali.org   \n",
       "2                   http://www.fiedbeck.de   \n",
       "3    http://www.balichildrenfoundation.org   \n",
       "4                      http://www.fnpf.org   \n",
       "\n",
       "                                          cause_area  \\\n",
       "0                            Balinese People, Health   \n",
       "1  Balinese People, Children, Balinese Art & Culture   \n",
       "2                                    Balinese People   \n",
       "3                      Children, Education & Schools   \n",
       "4                  Environment & Nature Conservation   \n",
       "\n",
       "                                     programme_types  \\\n",
       "0  Our vision is to prevent Indonesian women from...   \n",
       "1  A dopting the Balinese values and its premise ...   \n",
       "2                                                NaN   \n",
       "3  To provide community education in remote areas...   \n",
       "4  To protect wildlife and its habitat, at the sa...   \n",
       "\n",
       "                                             address    country      city  \\\n",
       "0              80113 Dauh Puri Kauh (Denpasar Barat)  indonesia  Denpasar   \n",
       "1                                80571 Ubud (Petulu)  indonesia      Ubud   \n",
       "2                                     Strasse 1 Bali  indonesia      Amed   \n",
       "3  Jl. Raya Kesambi No.369, Kerobokan, Kuta Utara...  indonesia  Seminyak   \n",
       "4  Ped, Nusapenida, Klungkung Regency, Bali 80771...  indonesia    Pejeng   \n",
       "\n",
       "      contact_number                ...                revenue employees  \\\n",
       "0    +62 361 4746238                ...                    NaN       NaN   \n",
       "1                NaN                ...                    NaN       NaN   \n",
       "2    +49 7531 123456                ...                    NaN       NaN   \n",
       "3  +62 361  847 5399                ...                    NaN       NaN   \n",
       "4    +62 361 4792286                ...                    NaN       NaN   \n",
       "\n",
       "        lat         lon                                   desc_clean_words  \\\n",
       "0 -8.673612  115.203737  [bali, pink, ribbon, found, gaye, warren, brit...   \n",
       "1 -8.675090  115.189919  [at, vp, bali, believe, education, change, chi...   \n",
       "2 -8.409518  115.188916                                    [only, special]   \n",
       "3 -8.653567  115.172545  [our, vision, bali, children, foundation, prov...   \n",
       "4 -8.683880  115.518827  [friends, national, park, foundation, fnpf, in...   \n",
       "\n",
       "                                          desc_clean  \\\n",
       "0  bali pink ribbon found gaye warren british bre...   \n",
       "1  at vp bali believe education change childã¢ââ...   \n",
       "2                                       only special   \n",
       "3  our vision bali children foundation provide ed...   \n",
       "4  friends national park foundation fnpf indonesi...   \n",
       "\n",
       "                                    cause_area_clean cause_area_clean_filter  \\\n",
       "0                          {balinese people, health}                {health}   \n",
       "1  {children, balinese art & culture, balinese pe...              {children}   \n",
       "2                                  {balinese people}                      {}   \n",
       "3                    {education & schools, children}              {children}   \n",
       "4                {environment & nature conservation}                      {}   \n",
       "\n",
       "                 cause_area_predict          cause_area_predict_final  \n",
       "0         {charitable, educational}                          {health}  \n",
       "1                      {charitable}                        {children}  \n",
       "2         {charitable, educational}         {charitable, educational}  \n",
       "3                     {educational}                        {children}  \n",
       "4  {charitable, social development}  {charitable, social development}  \n",
       "\n",
       "[5 rows x 32 columns]"
      ]
     },
     "execution_count": 61,
     "metadata": {},
     "output_type": "execute_result"
    }
   ],
   "source": [
    "web_df['cause_area_predict_final'] = web_df['cause_area_predict']\n",
    "\n",
    "orgs_with_filtered_cause_areas = \\\n",
    "    web_df['cause_area_clean_filter'].apply(lambda s: s if len(s) > 0 else None).dropna().index\n",
    "web_df['cause_area_predict_final'].loc[orgs_with_filtered_cause_areas] = \\\n",
    "    web_df['cause_area_clean_filter'].loc[orgs_with_filtered_cause_areas]\n",
    "    \n",
    "web_df.head()"
   ]
  },
  {
   "cell_type": "markdown",
   "metadata": {},
   "source": [
    "## exporting results"
   ]
  },
  {
   "cell_type": "markdown",
   "metadata": {},
   "source": [
    "create new dataframe in kelvin's format (for use with tableau map viz)"
   ]
  },
  {
   "cell_type": "code",
   "execution_count": 54,
   "metadata": {},
   "outputs": [],
   "source": [
    "def to_kelvin_export_format(r):\n",
    "    causes = list(r['cause_area_predict_final'])\n",
    "    to_export = []\n",
    "    \n",
    "    for cause in causes:\n",
    "        to_export.append(\n",
    "            {\n",
    "                'key': r['key'],\n",
    "                'name': r['name'],\n",
    "                'cause': cause,\n",
    "            }\n",
    "        )\n",
    "        \n",
    "    return to_export\n",
    "\n",
    "to_export = list(chain.from_iterable([to_kelvin_export_format(row) for index, row in web_df.iterrows()]))"
   ]
  },
  {
   "cell_type": "code",
   "execution_count": 55,
   "metadata": {},
   "outputs": [
    {
     "data": {
      "text/html": [
       "<div>\n",
       "<style>\n",
       "    .dataframe thead tr:only-child th {\n",
       "        text-align: right;\n",
       "    }\n",
       "\n",
       "    .dataframe thead th {\n",
       "        text-align: left;\n",
       "    }\n",
       "\n",
       "    .dataframe tbody tr th {\n",
       "        vertical-align: top;\n",
       "    }\n",
       "</style>\n",
       "<table border=\"1\" class=\"dataframe\">\n",
       "  <thead>\n",
       "    <tr style=\"text-align: right;\">\n",
       "      <th></th>\n",
       "      <th>cause</th>\n",
       "      <th>key</th>\n",
       "      <th>name</th>\n",
       "    </tr>\n",
       "  </thead>\n",
       "  <tbody>\n",
       "    <tr>\n",
       "      <th>0</th>\n",
       "      <td>health</td>\n",
       "      <td>1</td>\n",
       "      <td>Bali Pink Ribbon - Breast Cancer Awareness Fou...</td>\n",
       "    </tr>\n",
       "    <tr>\n",
       "      <th>1</th>\n",
       "      <td>children</td>\n",
       "      <td>2</td>\n",
       "      <td>Volunteer Programs Bali</td>\n",
       "    </tr>\n",
       "    <tr>\n",
       "      <th>2</th>\n",
       "      <td>charitable</td>\n",
       "      <td>3</td>\n",
       "      <td>NGO 4 Ger</td>\n",
       "    </tr>\n",
       "    <tr>\n",
       "      <th>3</th>\n",
       "      <td>educational</td>\n",
       "      <td>3</td>\n",
       "      <td>NGO 4 Ger</td>\n",
       "    </tr>\n",
       "    <tr>\n",
       "      <th>4</th>\n",
       "      <td>children</td>\n",
       "      <td>4</td>\n",
       "      <td>Bali Children Foundation</td>\n",
       "    </tr>\n",
       "    <tr>\n",
       "      <th>5</th>\n",
       "      <td>charitable</td>\n",
       "      <td>5</td>\n",
       "      <td>Friends of the National Parks Foundation</td>\n",
       "    </tr>\n",
       "    <tr>\n",
       "      <th>6</th>\n",
       "      <td>social development</td>\n",
       "      <td>5</td>\n",
       "      <td>Friends of the National Parks Foundation</td>\n",
       "    </tr>\n",
       "    <tr>\n",
       "      <th>7</th>\n",
       "      <td>children</td>\n",
       "      <td>6</td>\n",
       "      <td>Bali Street Kids Project (YKPA)</td>\n",
       "    </tr>\n",
       "    <tr>\n",
       "      <th>8</th>\n",
       "      <td>children</td>\n",
       "      <td>7</td>\n",
       "      <td>Bali Life Foundation</td>\n",
       "    </tr>\n",
       "    <tr>\n",
       "      <th>9</th>\n",
       "      <td>charitable</td>\n",
       "      <td>8</td>\n",
       "      <td>R.O.L.E. (Rivers, Oceans, Lands, Educations) F...</td>\n",
       "    </tr>\n",
       "    <tr>\n",
       "      <th>10</th>\n",
       "      <td>educational</td>\n",
       "      <td>8</td>\n",
       "      <td>R.O.L.E. (Rivers, Oceans, Lands, Educations) F...</td>\n",
       "    </tr>\n",
       "    <tr>\n",
       "      <th>11</th>\n",
       "      <td>charitable</td>\n",
       "      <td>9</td>\n",
       "      <td>Mitra Bali Fair Trade</td>\n",
       "    </tr>\n",
       "    <tr>\n",
       "      <th>12</th>\n",
       "      <td>educational</td>\n",
       "      <td>9</td>\n",
       "      <td>Mitra Bali Fair Trade</td>\n",
       "    </tr>\n",
       "    <tr>\n",
       "      <th>13</th>\n",
       "      <td>children</td>\n",
       "      <td>10</td>\n",
       "      <td>Kupu Kupu Foundation Indonesia</td>\n",
       "    </tr>\n",
       "    <tr>\n",
       "      <th>14</th>\n",
       "      <td>health</td>\n",
       "      <td>10</td>\n",
       "      <td>Kupu Kupu Foundation Indonesia</td>\n",
       "    </tr>\n",
       "    <tr>\n",
       "      <th>15</th>\n",
       "      <td>children</td>\n",
       "      <td>11</td>\n",
       "      <td>Yayasan Solemen Indonesia</td>\n",
       "    </tr>\n",
       "    <tr>\n",
       "      <th>16</th>\n",
       "      <td>health</td>\n",
       "      <td>11</td>\n",
       "      <td>Yayasan Solemen Indonesia</td>\n",
       "    </tr>\n",
       "    <tr>\n",
       "      <th>17</th>\n",
       "      <td>health</td>\n",
       "      <td>12</td>\n",
       "      <td>Bali Pink Ribbon Foundation</td>\n",
       "    </tr>\n",
       "    <tr>\n",
       "      <th>18</th>\n",
       "      <td>charitable</td>\n",
       "      <td>13</td>\n",
       "      <td>CTC Coral Triangle Center</td>\n",
       "    </tr>\n",
       "    <tr>\n",
       "      <th>19</th>\n",
       "      <td>educational</td>\n",
       "      <td>13</td>\n",
       "      <td>CTC Coral Triangle Center</td>\n",
       "    </tr>\n",
       "  </tbody>\n",
       "</table>\n",
       "</div>"
      ],
      "text/plain": [
       "                 cause  key                                               name\n",
       "0               health    1  Bali Pink Ribbon - Breast Cancer Awareness Fou...\n",
       "1             children    2                            Volunteer Programs Bali\n",
       "2           charitable    3                                          NGO 4 Ger\n",
       "3          educational    3                                          NGO 4 Ger\n",
       "4             children    4                           Bali Children Foundation\n",
       "5           charitable    5           Friends of the National Parks Foundation\n",
       "6   social development    5           Friends of the National Parks Foundation\n",
       "7             children    6                    Bali Street Kids Project (YKPA)\n",
       "8             children    7                               Bali Life Foundation\n",
       "9           charitable    8  R.O.L.E. (Rivers, Oceans, Lands, Educations) F...\n",
       "10         educational    8  R.O.L.E. (Rivers, Oceans, Lands, Educations) F...\n",
       "11          charitable    9                              Mitra Bali Fair Trade\n",
       "12         educational    9                              Mitra Bali Fair Trade\n",
       "13            children   10                     Kupu Kupu Foundation Indonesia\n",
       "14              health   10                     Kupu Kupu Foundation Indonesia\n",
       "15            children   11                          Yayasan Solemen Indonesia\n",
       "16              health   11                          Yayasan Solemen Indonesia\n",
       "17              health   12                        Bali Pink Ribbon Foundation\n",
       "18          charitable   13                          CTC Coral Triangle Center\n",
       "19         educational   13                          CTC Coral Triangle Center"
      ]
     },
     "execution_count": 55,
     "metadata": {},
     "output_type": "execute_result"
    }
   ],
   "source": [
    "to_export_df = pd.DataFrame(to_export)\n",
    "to_export_df[:20]"
   ]
  },
  {
   "cell_type": "markdown",
   "metadata": {},
   "source": [
    "export dataframe to file"
   ]
  },
  {
   "cell_type": "code",
   "execution_count": 56,
   "metadata": {},
   "outputs": [],
   "source": [
    "to_export_df.to_csv(OUTPUT_PATH+'/classify_cause_area/kelvin_tableau_export.csv')"
   ]
  }
 ],
 "metadata": {
  "kernelspec": {
   "display_name": "Python 3",
   "language": "python",
   "name": "python3"
  },
  "language_info": {
   "codemirror_mode": {
    "name": "ipython",
    "version": 3
   },
   "file_extension": ".py",
   "mimetype": "text/x-python",
   "name": "python",
   "nbconvert_exporter": "python",
   "pygments_lexer": "ipython3",
   "version": "3.6.3"
  }
 },
 "nbformat": 4,
 "nbformat_minor": 2
}
