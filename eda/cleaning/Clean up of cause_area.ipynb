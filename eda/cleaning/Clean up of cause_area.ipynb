{
 "cells": [
  {
   "cell_type": "code",
   "execution_count": 1,
   "metadata": {
    "collapsed": true
   },
   "outputs": [],
   "source": [
    "import pandas as pd"
   ]
  },
  {
   "cell_type": "code",
   "execution_count": 2,
   "metadata": {
    "scrolled": true
   },
   "outputs": [],
   "source": [
    "src = r\"C:\\Users\\User\\Downloads\\effective_altruism-master\\data\\output\\web_scraping\\web_scrape_v1.csv\"\n",
    "data = pd.read_csv(src, encoding = \"ISO-8859-1\")"
   ]
  },
  {
   "cell_type": "code",
   "execution_count": 7,
   "metadata": {
    "collapsed": true
   },
   "outputs": [],
   "source": [
    "# Basic data cleaning\n",
    "# This is to remove specific useless characters\n",
    "data[\"cause_area\"] = data[\"cause_area\"].str.replace(\"Â\",\" \")\n",
    "data[\"cause_area\"] = data[\"cause_area\"].str.replace(\"\\xa0\",\"\")\n",
    "\n",
    "# To uppercase each word\n",
    "data[\"cause_area\"] = data[\"cause_area\"].str.upper().str.strip()"
   ]
  },
  {
   "cell_type": "code",
   "execution_count": 8,
   "metadata": {
    "collapsed": true
   },
   "outputs": [],
   "source": [
    "# Purpose is to check each cause_area cell is remove any duplicated word\n",
    "def remove_duplicates(values):\n",
    "    output = []\n",
    "    seen = set()\n",
    "    for value in values:\n",
    "        if value not in seen:\n",
    "            output.append(value)\n",
    "            seen.add(value)\n",
    "    return output"
   ]
  },
  {
   "cell_type": "code",
   "execution_count": 10,
   "metadata": {
    "collapsed": true
   },
   "outputs": [],
   "source": [
    "# To carry out the above function in the cause_area column\n",
    "column_of_interest = \"cause_area\"\n",
    "index = data.columns.tolist().index(column_of_interest)\n",
    "num = len(data)\n",
    "for i in range(num):\n",
    "    temp = str(data.iloc[i,index])\n",
    "    temp = temp.split(\",\")\n",
    "    \n",
    "    new_temp = []\n",
    "    for item in temp:\n",
    "        item = item.strip()\n",
    "        new_temp.append(item)\n",
    "        \n",
    "    new_temp = remove_duplicates(new_temp)\n",
    "    new_temp = sorted(new_temp)\n",
    "    new_temp = \", \".join(new_temp)\n",
    "    data.iloc[i, index] = new_temp"
   ]
  },
  {
   "cell_type": "code",
   "execution_count": 15,
   "metadata": {
    "collapsed": true
   },
   "outputs": [],
   "source": [
    "data.to_csv(\"Clean cause_area.csv\", index = False)"
   ]
  },
  {
   "cell_type": "code",
   "execution_count": null,
   "metadata": {
    "collapsed": true
   },
   "outputs": [],
   "source": []
  }
 ],
 "metadata": {
  "kernelspec": {
   "display_name": "Python 3",
   "language": "python",
   "name": "python3"
  },
  "language_info": {
   "codemirror_mode": {
    "name": "ipython",
    "version": 3
   },
   "file_extension": ".py",
   "mimetype": "text/x-python",
   "name": "python",
   "nbconvert_exporter": "python",
   "pygments_lexer": "ipython3",
   "version": "3.6.3"
  }
 },
 "nbformat": 4,
 "nbformat_minor": 2
}
