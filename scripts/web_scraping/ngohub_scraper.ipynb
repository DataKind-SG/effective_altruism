{
 "cells": [
  {
   "cell_type": "code",
   "execution_count": 1,
   "metadata": {
    "collapsed": true
   },
   "outputs": [],
   "source": [
    "import requests\n",
    "from bs4 import BeautifulSoup\n",
    "import pandas as pd\n",
    "import urllib.request\n",
    "from requests.exceptions import HTTPError"
   ]
  },
  {
   "cell_type": "markdown",
   "metadata": {},
   "source": [
    "Scraper uses two functions, the first get the names of the charities, the second script connects to the organisations individual page on NGOhub and scrapes the organisations data."
   ]
  },
  {
   "cell_type": "code",
   "execution_count": 2,
   "metadata": {
    "collapsed": true
   },
   "outputs": [],
   "source": [
    "def get_names(url):\n",
    "    page =  urllib.request.urlopen(url)\n",
    "    soup = BeautifulSoup(page, \"lxml\")\n",
    "    names = soup.find_all('h4')\n",
    "    df = pd.DataFrame(names)\n",
    "    df[0]= df[0].astype(str)\n",
    "    df[0] = df[0].str.split('<h4><a href=\"/organizations/').str.get(1)\n",
    "    df[0] = df[0].str.split('\">').str.get(0)\n",
    "    return df"
   ]
  },
  {
   "cell_type": "code",
   "execution_count": 3,
   "metadata": {
    "collapsed": true
   },
   "outputs": [],
   "source": [
    "def get_details(name):\n",
    "    url =  \"https://www.ngohub.asia/organizations/\"+name\n",
    "    page =  urllib.request.urlopen(url) \n",
    "    soup = BeautifulSoup(page, \"lxml\")\n",
    "    details = [item.get_text().strip() for item in soup.find_all('div', \"col-md-11\")]\n",
    "    df = pd.DataFrame(details)\n",
    "    df = df.transpose()\n",
    "    df = df.astype(str)\n",
    "    df['Name'] = name\n",
    "    return df"
   ]
  },
  {
   "cell_type": "markdown",
   "metadata": {},
   "source": [
    "We iterate through the 52 pages of NGOhub to get the charity names, and append them to a data frame called all_names"
   ]
  },
  {
   "cell_type": "code",
   "execution_count": 4,
   "metadata": {
    "collapsed": true,
    "scrolled": true
   },
   "outputs": [],
   "source": [
    "all_names = pd.DataFrame()\n",
    "for i in range(1,52):\n",
    "    url = \"https://www.ngohub.asia/all_organizations?page=\"+str(i)\n",
    "    all_names = all_names.append(get_names(url), ignore_index=True)"
   ]
  },
  {
   "cell_type": "markdown",
   "metadata": {},
   "source": [
    "We then create a dataframe called all_detials and append the details of the individual charity. Some of the links are dead, so we return a 404 and keep going. Note that the script usually fails at the end of the list"
   ]
  },
  {
   "cell_type": "code",
   "execution_count": null,
   "metadata": {
    "scrolled": true
   },
   "outputs": [],
   "source": [
    "all_details = pd.DataFrame()\n",
    "for org in all_names[0]:\n",
    "    try:\n",
    "        all_details = all_details.append(get_details(org), ignore_index=True)\n",
    "    except:\n",
    "        print('failed 404 '+org)\n",
    "all_details = all_details.rename(columns={8: \"URL\", 9: \"Email\", 10: \"Phone Number\", 11: \"Address\", 12: \"City\"})    "
   ]
  },
  {
   "cell_type": "markdown",
   "metadata": {},
   "source": [
    "We now clean up the data and rename the columns"
   ]
  },
  {
   "cell_type": "code",
   "execution_count": 25,
   "metadata": {
    "collapsed": true
   },
   "outputs": [],
   "source": [
    "all_details = all_details.rename(columns={0: \"URL\", 1: \"Email\", 2: \"Phone Number\", 3: \"Address\", 4: \"City\"})    "
   ]
  },
  {
   "cell_type": "code",
   "execution_count": 35,
   "metadata": {},
   "outputs": [],
   "source": [
    "all_details['Name'] = all_details['Name'].replace('-', ' ', inplace=True)"
   ]
  },
  {
   "cell_type": "code",
   "execution_count": 36,
   "metadata": {
    "scrolled": true
   },
   "outputs": [
    {
     "data": {
      "text/html": [
       "<div>\n",
       "<style>\n",
       "    .dataframe thead tr:only-child th {\n",
       "        text-align: right;\n",
       "    }\n",
       "\n",
       "    .dataframe thead th {\n",
       "        text-align: left;\n",
       "    }\n",
       "\n",
       "    .dataframe tbody tr th {\n",
       "        vertical-align: top;\n",
       "    }\n",
       "</style>\n",
       "<table border=\"1\" class=\"dataframe\">\n",
       "  <thead>\n",
       "    <tr style=\"text-align: right;\">\n",
       "      <th></th>\n",
       "      <th>URL</th>\n",
       "      <th>Email</th>\n",
       "      <th>Phone Number</th>\n",
       "      <th>Address</th>\n",
       "      <th>City</th>\n",
       "      <th>Name</th>\n",
       "      <th>5</th>\n",
       "      <th>6</th>\n",
       "      <th>7</th>\n",
       "    </tr>\n",
       "  </thead>\n",
       "  <tbody>\n",
       "    <tr>\n",
       "      <th>0</th>\n",
       "      <td>abimsabah.blogspot.com</td>\n",
       "      <td>jjaafarmahmud@yahoo.com</td>\n",
       "      <td>0168401894</td>\n",
       "      <td>WDT 501 PEJABAT POS BESAR SABAH 88100 KOTA KIN...</td>\n",
       "      <td>kota kinabalu</td>\n",
       "      <td>None</td>\n",
       "      <td>NaN</td>\n",
       "      <td>NaN</td>\n",
       "      <td>NaN</td>\n",
       "    </tr>\n",
       "    <tr>\n",
       "      <th>1</th>\n",
       "      <td>www.agathians.org</td>\n",
       "      <td>admin@agathians.org</td>\n",
       "      <td>012-2968014</td>\n",
       "      <td>No 22 Jalan Kelah 8/6, Seksyen 8, 46050 Petali...</td>\n",
       "      <td>PETALING JAYA</td>\n",
       "      <td>None</td>\n",
       "      <td>NaN</td>\n",
       "      <td>NaN</td>\n",
       "      <td>NaN</td>\n",
       "    </tr>\n",
       "    <tr>\n",
       "      <th>2</th>\n",
       "      <td>www.aidhome.org</td>\n",
       "      <td>intan@emagineers.com.my</td>\n",
       "      <td>6 012-3082.092</td>\n",
       "      <td>No 6-3, Jalan USJ 9/5R47620 Subang JayaSelangor</td>\n",
       "      <td>Subang Jaya, Selangor</td>\n",
       "      <td>None</td>\n",
       "      <td>NaN</td>\n",
       "      <td>NaN</td>\n",
       "      <td>NaN</td>\n",
       "    </tr>\n",
       "    <tr>\n",
       "      <th>3</th>\n",
       "      <td>www.aiesec.my</td>\n",
       "      <td>youth@aiesec.my</td>\n",
       "      <td>03-78871624</td>\n",
       "      <td>Block E-51-2, Zenith Corporate Park, Jalan SS7...</td>\n",
       "      <td>Petaling Jaya</td>\n",
       "      <td>None</td>\n",
       "      <td>NaN</td>\n",
       "      <td>NaN</td>\n",
       "      <td>NaN</td>\n",
       "    </tr>\n",
       "    <tr>\n",
       "      <th>4</th>\n",
       "      <td>www.ajarajarmalaysia.org</td>\n",
       "      <td>phyee1057@hotmail.com</td>\n",
       "      <td>010-9008470</td>\n",
       "      <td>12, Jalan Utara Section 52</td>\n",
       "      <td>Petaling Jaya</td>\n",
       "      <td>None</td>\n",
       "      <td>Facebook Profile</td>\n",
       "      <td>NaN</td>\n",
       "      <td>NaN</td>\n",
       "    </tr>\n",
       "  </tbody>\n",
       "</table>\n",
       "</div>"
      ],
      "text/plain": [
       "                        URL                    Email    Phone Number  \\\n",
       "0    abimsabah.blogspot.com  jjaafarmahmud@yahoo.com      0168401894   \n",
       "1         www.agathians.org      admin@agathians.org     012-2968014   \n",
       "2           www.aidhome.org  intan@emagineers.com.my  6 012-3082.092   \n",
       "3             www.aiesec.my          youth@aiesec.my     03-78871624   \n",
       "4  www.ajarajarmalaysia.org    phyee1057@hotmail.com     010-9008470   \n",
       "\n",
       "                                             Address                   City  \\\n",
       "0  WDT 501 PEJABAT POS BESAR SABAH 88100 KOTA KIN...          kota kinabalu   \n",
       "1  No 22 Jalan Kelah 8/6, Seksyen 8, 46050 Petali...          PETALING JAYA   \n",
       "2    No 6-3, Jalan USJ 9/5R47620 Subang JayaSelangor  Subang Jaya, Selangor   \n",
       "3  Block E-51-2, Zenith Corporate Park, Jalan SS7...          Petaling Jaya   \n",
       "4                         12, Jalan Utara Section 52          Petaling Jaya   \n",
       "\n",
       "   Name                 5    6    7  \n",
       "0  None               NaN  NaN  NaN  \n",
       "1  None               NaN  NaN  NaN  \n",
       "2  None               NaN  NaN  NaN  \n",
       "3  None               NaN  NaN  NaN  \n",
       "4  None  Facebook Profile  NaN  NaN  "
      ]
     },
     "execution_count": 36,
     "metadata": {},
     "output_type": "execute_result"
    }
   ],
   "source": [
    "all_details.head()"
   ]
  },
  {
   "cell_type": "markdown",
   "metadata": {},
   "source": [
    "Save the dataframe to a CSV file"
   ]
  },
  {
   "cell_type": "code",
   "execution_count": 37,
   "metadata": {
    "collapsed": true
   },
   "outputs": [],
   "source": [
    "all_details.to_csv('ngohub_output.csv')"
   ]
  }
 ],
 "metadata": {
  "kernelspec": {
   "display_name": "Python 3",
   "language": "python",
   "name": "python3"
  },
  "language_info": {
   "codemirror_mode": {
    "name": "ipython",
    "version": 3
   },
   "file_extension": ".py",
   "mimetype": "text/x-python",
   "name": "python",
   "nbconvert_exporter": "python",
   "pygments_lexer": "ipython3",
   "version": "3.6.1"
  }
 },
 "nbformat": 4,
 "nbformat_minor": 2
}
