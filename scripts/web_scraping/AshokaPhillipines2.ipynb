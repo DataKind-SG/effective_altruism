{
 "cells": [
  {
   "cell_type": "code",
   "execution_count": 54,
   "metadata": {},
   "outputs": [
    {
     "name": "stdout",
     "output_type": "stream",
     "text": [
      "Project Name:\n",
      "['ARUGAAN', 'LEADERSHIP AND SOCIAL ENTREPRENEURSHIP PROGRAM', 'A SINGLE DROP FOR SAFE WATER', 'GUALANDI VOLUNTEER SERVICE PROGRAMME, INC.(GVSP PHILIPPINES)', 'KYTHE INC.']\n",
      "Project Description\n"
     ]
    }
   ],
   "source": [
    "import requests, pandas as pd, numpy as np\n",
    "from bs4 import BeautifulSoup\n",
    "from selenium import webdriver\n",
    "\n",
    "\n",
    "chrome_options = webdriver.ChromeOptions()\n",
    "chrome_options.add_argument('headless')\n",
    "\n",
    "wd = webdriver.Chrome()\n",
    "\n",
    "#get changemaker's website\n",
    "wd.get('https://www.changemakers.com/ideas?%2Fprojects=&view-mode=map&0=182583&fellow=1&country%5B0%5D=ph')\n",
    "\n",
    "#Get list of <a> elements that are project names\n",
    "projname = wd.find_elements_by_xpath(\"//div[@class='views-field views-field-title']/span/a\")\n",
    "\n",
    "#Get list of <div> elements that are descriptions\n",
    "descrip = wd.find_elements_by_xpath(\"//div[@class='views-field views-field-body']/div\")\n",
    "\n",
    "#Get list of project name in string form\n",
    "projnameli = []\n",
    "for el in projname:\n",
    "    projnameli.append(el.text)\n",
    "#print(\"Project Name:\")\n",
    "#print(projnameli)\n",
    "descripli = []\n",
    "#print(\"Project Description\")\n",
    "#for el in descrip:\n",
    "    #descripli.append(el.text)\n",
    "#print(descripli)\n",
    "\n",
    "linksli = []\n",
    "#Get list of links in Changemakers website\n",
    "for elem in projname:\n",
    "    linksli.append(elem.get_attribute(\"href\"))\n",
    "    \n",
    "links2li = []\n",
    "contactnameli = []\n",
    "country = []\n",
    "\n",
    "#Access each link in Changemakers Philippines website to access additional info such as \n",
    "#description, contact name and country\n",
    "for link in linksli:    \n",
    "    wd.get(link)\n",
    "    descripli.append(wd.find_element_by_xpath(\"//div[@class='field field-name-body field-type-text-with-summary field-label-above']\").text)\n",
    "    contactnameli.append(wd.find_element_by_xpath(\"//div[@class='user-info']/span/a\").text)\n",
    "    country.append(wd.find_element_by_xpath(\"//span[@class='location last']\").text)\n",
    "    try: \n",
    "        links2li.append(wd.find_element_by_xpath(\"//div[@class='field field-name-field-ce-url field-type-link-field field-label-inline inline']/a\").get_attribute(\"href\"))\n",
    "    except:\n",
    "        links2li.append(\"\")\n",
    "#print(links2li)\n",
    "#print(descripli)"
   ]
  },
  {
   "cell_type": "code",
   "execution_count": 46,
   "metadata": {},
   "outputs": [
    {
     "name": "stdout",
     "output_type": "stream",
     "text": [
      "['Ma. Ines Fernandez', 'Cristina Liamzon', 'Kevin Lee', 'John Paul Maunes', 'Maria Fatima \"G...']\n",
      "['Philippines', 'Philippines', 'Philippines', 'Philippines', 'Philippines']\n"
     ]
    }
   ],
   "source": [
    "#print(contactnameli)\n",
    "#print(country)"
   ]
  },
  {
   "cell_type": "code",
   "execution_count": 50,
   "metadata": {
    "collapsed": true
   },
   "outputs": [],
   "source": [
    "projnameli = np.array(projnameli)\n",
    "descripli = np.array(descripli)\n",
    "links2li = np.array(links2li)\n",
    "df = pd.DataFrame(np.column_stack([projnameli,descripli,links2li,contactnameli,country]),\n",
    "                 columns=['name','description','website','contact_person','country'])\n",
    "df.head()\n",
    "df.to_csv(\"Changemakers_Philippines.csv\")"
   ]
  }
 ],
 "metadata": {
  "kernelspec": {
   "display_name": "Python 3",
   "language": "python",
   "name": "python3"
  },
  "language_info": {
   "codemirror_mode": {
    "name": "ipython",
    "version": 3
   },
   "file_extension": ".py",
   "mimetype": "text/x-python",
   "name": "python",
   "nbconvert_exporter": "python",
   "pygments_lexer": "ipython3",
   "version": "3.6.1"
  }
 },
 "nbformat": 4,
 "nbformat_minor": 2
}
