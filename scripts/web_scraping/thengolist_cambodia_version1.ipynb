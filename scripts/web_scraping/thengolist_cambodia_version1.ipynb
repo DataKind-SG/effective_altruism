{
 "cells": [
  {
   "cell_type": "markdown",
   "metadata": {},
   "source": [
    "Data Source: the NGO List\n",
    "\n",
    "Link: https://www.thengolist.com/cambodia.html"
   ]
  },
  {
   "cell_type": "markdown",
   "metadata": {},
   "source": [
    "# Setup"
   ]
  },
  {
   "cell_type": "code",
   "execution_count": 1,
   "metadata": {
    "collapsed": true
   },
   "outputs": [],
   "source": [
    "# load dependencies\n",
    "from bs4 import BeautifulSoup\n",
    "from selenium import webdriver\n",
    "import pandas as pd"
   ]
  },
  {
   "cell_type": "markdown",
   "metadata": {},
   "source": [
    "# Variables"
   ]
  },
  {
   "cell_type": "code",
   "execution_count": 2,
   "metadata": {},
   "outputs": [
    {
     "name": "stderr",
     "output_type": "stream",
     "text": [
      "/usr/local/lib/python3.6/site-packages/selenium/webdriver/phantomjs/webdriver.py:49: UserWarning: Selenium support for PhantomJS has been deprecated, please use headless versions of Chrome or Firefox instead\n",
      "  warnings.warn('Selenium support for PhantomJS has been deprecated, please use headless '\n"
     ]
    }
   ],
   "source": [
    "browser = webdriver.PhantomJS(executable_path=r'../../Webscraping tools/phantomjs-2.1.1-macosx/bin/phantomjs')\n",
    "thengolist_URL = 'https://www.thengolist.com/cambodia.html'\n",
    "csv_dump_path = 'thengolist_cambodia.csv'"
   ]
  },
  {
   "cell_type": "code",
   "execution_count": 3,
   "metadata": {
    "collapsed": true
   },
   "outputs": [],
   "source": [
    "def get_page_soup(browser, url):\n",
    "    browser.get(url)\n",
    "    page_soup = BeautifulSoup(browser.page_source, \"html.parser\")\n",
    "    return page_soup"
   ]
  },
  {
   "cell_type": "code",
   "execution_count": 4,
   "metadata": {},
   "outputs": [],
   "source": [
    "def extract_charities(soup):\n",
    "    rows = soup.find_all('table')[2:]\n",
    "    charities = []\n",
    "    for row in rows: \n",
    "        for charity in row.find_all('td'):\n",
    "            charities.append(charity)\n",
    "    return charities"
   ]
  },
  {
   "cell_type": "code",
   "execution_count": 5,
   "metadata": {
    "collapsed": true
   },
   "outputs": [],
   "source": [
    "def build_df(charities):\n",
    "    column_names = ['name', 'description', 'website', 'cause_area', 'country', 'city', 'email']\n",
    "    df = pd.DataFrame(columns=column_names)\n",
    "    no_rows = len(charities)\n",
    "    for i in range(1, no_rows): \n",
    "        charity = charities[i -1]\n",
    "        if not charity.find_all('div')[0].find('strong') == None: \n",
    "            name = extract_charity_name(charity)\n",
    "            web = extract_website(charity)\n",
    "            email = extract_emails(charity)\n",
    "            cause_area = extract_sector(charity)\n",
    "            country = 'Cambodia'\n",
    "            city = extract_city(charity)\n",
    "            description = extract_description(charity)\n",
    "            df.loc[i]=[name, description, web, cause_area, country, city, email]\n",
    "    return df"
   ]
  },
  {
   "cell_type": "code",
   "execution_count": 6,
   "metadata": {
    "collapsed": true
   },
   "outputs": [],
   "source": [
    "def extract_charity_name(charity):\n",
    "    return charity.find_all('div')[0].find('strong').text"
   ]
  },
  {
   "cell_type": "code",
   "execution_count": 7,
   "metadata": {
    "collapsed": true
   },
   "outputs": [],
   "source": [
    "def extract_website(charity):\n",
    "    return charity.find_all('div')[-1].find('a')['href']"
   ]
  },
  {
   "cell_type": "code",
   "execution_count": 8,
   "metadata": {},
   "outputs": [],
   "source": [
    "def extract_emails(charity):\n",
    "    for child in charity.find_all('div')[-1].stripped_strings:\n",
    "        if '(at)' in child:\n",
    "            email = child.replace(' (at) ', '@').replace(' (dot) ', '.')\n",
    "            return email "
   ]
  },
  {
   "cell_type": "code",
   "execution_count": 9,
   "metadata": {},
   "outputs": [],
   "source": [
    "def extract_sector(charity):\n",
    "    return ''.join([text for text in charity.find_all('div')[0].stripped_strings][1:]).split('(')[0]"
   ]
  },
  {
   "cell_type": "code",
   "execution_count": 10,
   "metadata": {
    "collapsed": true
   },
   "outputs": [],
   "source": [
    "def extract_city(charity):\n",
    "    text_array = ''.join([text for text in charity.find_all('div')[0].stripped_strings][1:]).split('(')\n",
    "    if len(text_array) > 1: \n",
    "        return text_array[1][:-1]\n",
    "    else: \n",
    "        return ''"
   ]
  },
  {
   "cell_type": "code",
   "execution_count": 11,
   "metadata": {},
   "outputs": [],
   "source": [
    "def extract_description(charity):\n",
    "    return [text for text in charity.find_all('div')[5].stripped_strings][1]"
   ]
  },
  {
   "cell_type": "code",
   "execution_count": 12,
   "metadata": {},
   "outputs": [],
   "source": [
    "def extract_program_type(charity):\n",
    "    [text for text in charity.find_all('div')[5].stripped_strings][-1]"
   ]
  },
  {
   "cell_type": "code",
   "execution_count": 14,
   "metadata": {},
   "outputs": [],
   "source": [
    "def save_df(df, csv_dump_path):\n",
    "    df.to_csv(csv_dump_path,header=True,index=False)# Run script"
   ]
  },
  {
   "cell_type": "code",
   "execution_count": null,
   "metadata": {},
   "outputs": [],
   "source": [
    "def do_scrape(browser, thengolist_URL, csv_dump_path):\n",
    "    soup = get_page_soup(browser, thengolist_URL)\n",
    "    charities = extract_charities(soup)\n",
    "    df = build_df(charities)\n",
    "    save_df(df, csv_dump_path)"
   ]
  },
  {
   "cell_type": "markdown",
   "metadata": {},
   "source": [
    "# Run script"
   ]
  },
  {
   "cell_type": "code",
   "execution_count": null,
   "metadata": {
    "collapsed": true
   },
   "outputs": [],
   "source": [
    "do_scrape(browser, thengolist_URL, csv_dump_path)"
   ]
  },
  {
   "cell_type": "markdown",
   "metadata": {},
   "source": [
    "# Check CSV"
   ]
  },
  {
   "cell_type": "code",
   "execution_count": null,
   "metadata": {},
   "outputs": [],
   "source": [
    "pd.read_csv(csv_dump_path, index_col=False, header=0)"
   ]
  },
  {
   "cell_type": "code",
   "execution_count": null,
   "metadata": {
    "collapsed": true
   },
   "outputs": [],
   "source": []
  }
 ],
 "metadata": {
  "kernelspec": {
   "display_name": "Python 3",
   "language": "python",
   "name": "python3"
  },
  "language_info": {
   "codemirror_mode": {
    "name": "ipython",
    "version": 3
   },
   "file_extension": ".py",
   "mimetype": "text/x-python",
   "name": "python",
   "nbconvert_exporter": "python",
   "pygments_lexer": "ipython3",
   "version": "3.6.4"
  }
 },
 "nbformat": 4,
 "nbformat_minor": 2
}
