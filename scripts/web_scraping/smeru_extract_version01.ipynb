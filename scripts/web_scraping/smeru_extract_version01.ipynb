{
 "cells": [
  {
   "cell_type": "markdown",
   "metadata": {},
   "source": [
    "Data Source: SMERU\n",
    "\n",
    "Link: http://www.smeru.or.id/en/content/ngo-database   \n",
    "\n"
   ]
  },
  {
   "cell_type": "code",
   "execution_count": 1,
   "metadata": {},
   "outputs": [
    {
     "name": "stderr",
     "output_type": "stream",
     "text": [
      "/usr/local/lib/python3.6/site-packages/selenium/webdriver/phantomjs/webdriver.py:49: UserWarning: Selenium support for PhantomJS has been deprecated, please use headless versions of Chrome or Firefox instead\n",
      "  warnings.warn('Selenium support for PhantomJS has been deprecated, please use headless '\n"
     ]
    }
   ],
   "source": [
    "# load dependencies\n",
    "from bs4 import BeautifulSoup\n",
    "from selenium import webdriver\n",
    "import math\n",
    "import pandas as pd\n",
    "import re\n",
    "import numpy as np\n",
    "browser = webdriver.PhantomJS(executable_path=r'../../Webscraping tools/phantomjs-2.1.1-macosx/bin/phantomjs')"
   ]
  },
  {
   "cell_type": "code",
   "execution_count": 2,
   "metadata": {
    "collapsed": true
   },
   "outputs": [],
   "source": [
    "# get website and run empty search\n",
    "url = 'http://www.smeru.or.id/ngo/ngolist.php'\n",
    "browser.get(url)\n",
    "browser.find_element_by_css_selector('input[type=\\\"submit\\\"]').click()"
   ]
  },
  {
   "cell_type": "code",
   "execution_count": 3,
   "metadata": {},
   "outputs": [
    {
     "name": "stdout",
     "output_type": "stream",
     "text": [
      "2910\n"
     ]
    }
   ],
   "source": [
    "# run empty search to extract the number of NGOs listed\n",
    "init_page_soup = BeautifulSoup(browser.page_source, \"html.parser\")\n",
    "charity_count = init_page_soup.find_all('p')[1].text.split(' ')[1]\n",
    "print(charity_count)"
   ]
  },
  {
   "cell_type": "code",
   "execution_count": 4,
   "metadata": {},
   "outputs": [
    {
     "name": "stdout",
     "output_type": "stream",
     "text": [
      "58\n"
     ]
    }
   ],
   "source": [
    "# calculate the number of 'next page' clicks needed\n",
    "additional_clicks_required = math.ceil(int(charity_count)/50 - 1)\n",
    "print(additional_clicks_required)"
   ]
  },
  {
   "cell_type": "code",
   "execution_count": 6,
   "metadata": {
    "scrolled": true
   },
   "outputs": [
    {
     "name": "stdout",
     "output_type": "stream",
     "text": [
      "0\n",
      "5\n",
      "10\n",
      "15\n",
      "20\n",
      "25\n",
      "30\n",
      "35\n",
      "40\n",
      "45\n",
      "50\n",
      "55\n"
     ]
    }
   ],
   "source": [
    "# click next pages\n",
    "for click in range(additional_clicks_required):\n",
    "    browser.find_element_by_xpath('//a[@href=\"ngolist.php?next\"]').click()\n",
    "    if (click % 5) == 0:\n",
    "        print(click)"
   ]
  },
  {
   "cell_type": "code",
   "execution_count": 7,
   "metadata": {},
   "outputs": [],
   "source": [
    "# extract final soup\n",
    "final_page_soup = BeautifulSoup(browser.page_source, \"html.parser\")"
   ]
  },
  {
   "cell_type": "code",
   "execution_count": 9,
   "metadata": {
    "scrolled": true
   },
   "outputs": [
    {
     "name": "stdout",
     "output_type": "stream",
     "text": [
      "2910\n"
     ]
    }
   ],
   "source": [
    "table_body = final_page_soup.find('table').find_all('table')[2].find('tbody')\n",
    "rows = table_body.find_all('tr', valign=\"top\")\n",
    "print(len(rows))"
   ]
  },
  {
   "cell_type": "code",
   "execution_count": 10,
   "metadata": {
    "collapsed": true
   },
   "outputs": [],
   "source": [
    "# instantiate dataframe columns\n",
    "indices = []\n",
    "ngos = []\n",
    "descriptions = []"
   ]
  },
  {
   "cell_type": "code",
   "execution_count": 11,
   "metadata": {},
   "outputs": [
    {
     "name": "stdout",
     "output_type": "stream",
     "text": [
      "2910 2910 2910\n"
     ]
    }
   ],
   "source": [
    "# create rows for dataframe \n",
    "for row in rows: \n",
    "    cols = row.find_all('td')\n",
    "    indices.append(cols[0].text)\n",
    "    ngos.append(cols[1].text)\n",
    "    descriptions.append([content for content in cols[2].contents if ((content.name != 'br' ) & (content.name != 'b') )])\n",
    "print( len(indices), len(ngos), len(descriptions))"
   ]
  },
  {
   "cell_type": "code",
   "execution_count": 12,
   "metadata": {},
   "outputs": [],
   "source": [
    "# create dataframe \n",
    "df = pd.DataFrame({'name': ngos, 'description': descriptions, 'email': '', 'website': '', 'contact_number': '', 'address': '', 'country': 'Indonesia', 'city': ''}, index = indices)"
   ]
  },
  {
   "cell_type": "code",
   "execution_count": 13,
   "metadata": {
    "collapsed": true
   },
   "outputs": [],
   "source": [
    "# define regex expressions\n",
    "re_email = r\"(?<=Email: ).*$\"\n",
    "re_website = r\"(?<=Web: ).*$\"\n",
    "re_phone = r\"(?<=Ph. )[0-9- ]+\"\n",
    "re_city = r\".*(?= Ph.)\"\n",
    "re_no_digits = r\"[A-Za-z-' ]\\D+\""
   ]
  },
  {
   "cell_type": "code",
   "execution_count": 14,
   "metadata": {},
   "outputs": [],
   "source": [
    "# populate columns \n",
    "for index in df.index:\n",
    "    for line in df['description'][index]:\n",
    "        email = re.search(re_email, line)\n",
    "        if email: df.at[index, 'email'] = email.group(0).strip()\n",
    "        website = re.search(re_website, line)\n",
    "        if website: df.at[index, 'website'] = website.group(0).strip()\n",
    "        phone = re.search(re_phone, line)\n",
    "        if phone: df.at[index, 'contact_number'] = phone.group(0).strip()\n",
    "        city = re.search(re_city, line)\n",
    "        if city: \n",
    "            city_mixed = re.search(re_no_digits, city.group(0))\n",
    "            if city_mixed: \n",
    "                city_string = city_mixed.group(0).strip()\n",
    "                df.at[index, 'city'] = city_string\n",
    "                df.at[index, 'address'] += ('\\n' + city_string) \n",
    "        if not( email or website or phone):\n",
    "            if df['address'][index]: \n",
    "                df.at[index, 'address'] += ('\\n' + line)\n",
    "            else: \n",
    "                df.at[index, 'address'] = line\n"
   ]
  },
  {
   "cell_type": "code",
   "execution_count": 15,
   "metadata": {},
   "outputs": [
    {
     "data": {
      "text/html": [
       "<div>\n",
       "<style scoped>\n",
       "    .dataframe tbody tr th:only-of-type {\n",
       "        vertical-align: middle;\n",
       "    }\n",
       "\n",
       "    .dataframe tbody tr th {\n",
       "        vertical-align: top;\n",
       "    }\n",
       "\n",
       "    .dataframe thead th {\n",
       "        text-align: right;\n",
       "    }\n",
       "</style>\n",
       "<table border=\"1\" class=\"dataframe\">\n",
       "  <thead>\n",
       "    <tr style=\"text-align: right;\">\n",
       "      <th></th>\n",
       "      <th>address</th>\n",
       "      <th>city</th>\n",
       "      <th>contact_number</th>\n",
       "      <th>country</th>\n",
       "      <th>description</th>\n",
       "      <th>email</th>\n",
       "      <th>name</th>\n",
       "      <th>website</th>\n",
       "    </tr>\n",
       "  </thead>\n",
       "  <tbody>\n",
       "    <tr>\n",
       "      <th>1</th>\n",
       "      <td>Komplek Golden Plaza Blok J-36\\nJl. Fatmawati ...</td>\n",
       "      <td>Jakarta</td>\n",
       "      <td>021-75915814</td>\n",
       "      <td>Indonesia</td>\n",
       "      <td>[Komplek Golden Plaza Blok J-36\n",
       "Jl. Fatmawati ...</td>\n",
       "      <td>clo@id.missions-acf.org</td>\n",
       "      <td>Action Against Hunger</td>\n",
       "      <td>www.actionagainsthunger.org/countries/asia/in</td>\n",
       "    </tr>\n",
       "    <tr>\n",
       "      <th>2</th>\n",
       "      <td>Komplek Perpustakaan Nasional\\nJl. Medan Merde...</td>\n",
       "      <td>Jakarta</td>\n",
       "      <td>021- 3521910</td>\n",
       "      <td>Indonesia</td>\n",
       "      <td>[Komplek Perpustakaan Nasional\n",
       "Jl. Medan Merde...</td>\n",
       "      <td>info@aipi.or.id</td>\n",
       "      <td>Akademi Ilmu Pengetahuan Indonesia(AIPI)</td>\n",
       "      <td>www.aipi.or.id</td>\n",
       "    </tr>\n",
       "    <tr>\n",
       "      <th>3</th>\n",
       "      <td>Menara 165, lantai 11,\\nJl. TB. Simatupang Kav...</td>\n",
       "      <td>Jakarta</td>\n",
       "      <td>021-29406565</td>\n",
       "      <td>Indonesia</td>\n",
       "      <td>[Menara 165, lantai 11,\n",
       "Jl. TB. Simatupang Kav...</td>\n",
       "      <td></td>\n",
       "      <td>Aksi Cepat Tanggap(ACT)</td>\n",
       "      <td>www.act.id</td>\n",
       "    </tr>\n",
       "    <tr>\n",
       "      <th>4</th>\n",
       "      <td>Jl. Temanggung Tilung V Nomor 25\\nPalangkaraya</td>\n",
       "      <td>Palangkaraya</td>\n",
       "      <td>0852 48 02 8480</td>\n",
       "      <td>Indonesia</td>\n",
       "      <td>[Jl. Temanggung Tilung V Nomor 25, Palangkaray...</td>\n",
       "      <td>www.ampuh-kalteng.or.id</td>\n",
       "      <td>Asosiasi Masyarakat Peduli Hukum(Ampuh)</td>\n",
       "      <td></td>\n",
       "    </tr>\n",
       "    <tr>\n",
       "      <th>5</th>\n",
       "      <td>Jl. Letjen. Suprapto No.33\\nSemarang</td>\n",
       "      <td>Semarang</td>\n",
       "      <td>024-3563173</td>\n",
       "      <td>Indonesia</td>\n",
       "      <td>[Jl. Letjen. Suprapto No.33, Semarang Ph. 024-...</td>\n",
       "      <td></td>\n",
       "      <td>Bumi Samudra Sejahtera(BSS)</td>\n",
       "      <td></td>\n",
       "    </tr>\n",
       "  </tbody>\n",
       "</table>\n",
       "</div>"
      ],
      "text/plain": [
       "                                             address          city  \\\n",
       "1  Komplek Golden Plaza Blok J-36\\nJl. Fatmawati ...       Jakarta   \n",
       "2  Komplek Perpustakaan Nasional\\nJl. Medan Merde...       Jakarta   \n",
       "3  Menara 165, lantai 11,\\nJl. TB. Simatupang Kav...       Jakarta   \n",
       "4     Jl. Temanggung Tilung V Nomor 25\\nPalangkaraya  Palangkaraya   \n",
       "5               Jl. Letjen. Suprapto No.33\\nSemarang      Semarang   \n",
       "\n",
       "    contact_number    country  \\\n",
       "1     021-75915814  Indonesia   \n",
       "2     021- 3521910  Indonesia   \n",
       "3     021-29406565  Indonesia   \n",
       "4  0852 48 02 8480  Indonesia   \n",
       "5      024-3563173  Indonesia   \n",
       "\n",
       "                                         description                    email  \\\n",
       "1  [Komplek Golden Plaza Blok J-36\n",
       "Jl. Fatmawati ...  clo@id.missions-acf.org   \n",
       "2  [Komplek Perpustakaan Nasional\n",
       "Jl. Medan Merde...          info@aipi.or.id   \n",
       "3  [Menara 165, lantai 11,\n",
       "Jl. TB. Simatupang Kav...                            \n",
       "4  [Jl. Temanggung Tilung V Nomor 25, Palangkaray...  www.ampuh-kalteng.or.id   \n",
       "5  [Jl. Letjen. Suprapto No.33, Semarang Ph. 024-...                            \n",
       "\n",
       "                                       name  \\\n",
       "1                     Action Against Hunger   \n",
       "2  Akademi Ilmu Pengetahuan Indonesia(AIPI)   \n",
       "3                   Aksi Cepat Tanggap(ACT)   \n",
       "4   Asosiasi Masyarakat Peduli Hukum(Ampuh)   \n",
       "5               Bumi Samudra Sejahtera(BSS)   \n",
       "\n",
       "                                         website  \n",
       "1  www.actionagainsthunger.org/countries/asia/in  \n",
       "2                                 www.aipi.or.id  \n",
       "3                                     www.act.id  \n",
       "4                                                 \n",
       "5                                                 "
      ]
     },
     "execution_count": 15,
     "metadata": {},
     "output_type": "execute_result"
    }
   ],
   "source": [
    "df.head()"
   ]
  },
  {
   "cell_type": "code",
   "execution_count": 16,
   "metadata": {
    "collapsed": true
   },
   "outputs": [],
   "source": [
    "df.to_csv(\"smeru.csv\",header=True,index=False)"
   ]
  },
  {
   "cell_type": "code",
   "execution_count": null,
   "metadata": {
    "collapsed": true
   },
   "outputs": [],
   "source": []
  }
 ],
 "metadata": {
  "kernelspec": {
   "display_name": "Python 3",
   "language": "python",
   "name": "python3"
  },
  "language_info": {
   "codemirror_mode": {
    "name": "ipython",
    "version": 3
   },
   "file_extension": ".py",
   "mimetype": "text/x-python",
   "name": "python",
   "nbconvert_exporter": "python",
   "pygments_lexer": "ipython3",
   "version": "3.6.2"
  }
 },
 "nbformat": 4,
 "nbformat_minor": 1
}
